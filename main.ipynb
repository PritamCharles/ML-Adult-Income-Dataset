{
 "cells": [
  {
   "cell_type": "markdown",
   "id": "07d3d006",
   "metadata": {},
   "source": [
    " #"
   ]
  },
  {
   "cell_type": "markdown",
   "id": "1090a221",
   "metadata": {},
   "source": [
    "# Ma422 Project - Adult income dataset"
   ]
  },
  {
   "cell_type": "markdown",
   "id": "3b2e6f4f",
   "metadata": {},
   "source": [
    "Objective : The objective is to predict, according to some characteristics, if a person earns more than $50K per year or not\n"
   ]
  },
  {
   "cell_type": "markdown",
   "id": "e76f1ecb",
   "metadata": {},
   "source": [
    "We import the librairies we need to read the datas and analyse it."
   ]
  },
  {
   "cell_type": "code",
   "execution_count": 76,
   "id": "66290795",
   "metadata": {},
   "outputs": [],
   "source": [
    "import pandas as pd\n",
    "from matplotlib import pyplot as plt\n",
    "import seaborn as sns\n",
    "import numpy as np\n",
    "import warnings\n",
    "\n",
    "warnings.filterwarnings('ignore')"
   ]
  },
  {
   "cell_type": "markdown",
   "id": "38b61158",
   "metadata": {},
   "source": [
    "We open and read the datas file."
   ]
  },
  {
   "cell_type": "code",
   "execution_count": 77,
   "id": "e0c382d4",
   "metadata": {},
   "outputs": [
    {
     "name": "stdout",
     "output_type": "stream",
     "text": [
      "       age         workclass  fnlwgt     education  educational-num  \\\n",
      "26777   49           Private  165468       HS-grad                9   \n",
      "1623    64           Private  110212       HS-grad                9   \n",
      "3114    31  Self-emp-not-inc  283587       HS-grad                9   \n",
      "43338   32  Self-emp-not-inc   52647          10th                6   \n",
      "22488   49           Private  146268  Some-college               10   \n",
      "...    ...               ...     ...           ...              ...   \n",
      "46728   66         State-gov  102640       HS-grad                9   \n",
      "35264   24           Private   36058     Bachelors               13   \n",
      "7168    30         Local-gov  170449       Masters               14   \n",
      "44099   32           Private  158002  Some-college               10   \n",
      "11693   51  Self-emp-not-inc  192654     Bachelors               13   \n",
      "\n",
      "           marital-status         occupation    relationship  \\\n",
      "26777  Married-civ-spouse    Exec-managerial         Husband   \n",
      "1623   Married-civ-spouse      Other-service         Husband   \n",
      "3114   Married-civ-spouse    Exec-managerial         Husband   \n",
      "43338  Married-civ-spouse    Exec-managerial         Husband   \n",
      "22488  Married-civ-spouse       Craft-repair         Husband   \n",
      "...                   ...                ...             ...   \n",
      "46728             Widowed     Prof-specialty       Unmarried   \n",
      "35264       Never-married              Sales   Not-in-family   \n",
      "7168   Married-civ-spouse     Prof-specialty         Husband   \n",
      "44099       Never-married  Machine-op-inspct  Other-relative   \n",
      "11693             Widowed    Exec-managerial       Unmarried   \n",
      "\n",
      "                     race  gender  capital-gain  capital-loss  hours-per-week  \\\n",
      "26777               White    Male          7688             0              55   \n",
      "1623                Black    Male             0             0              40   \n",
      "3114                White    Male             0             0              50   \n",
      "43338               White    Male             0             0              45   \n",
      "22488               White    Male             0             0              40   \n",
      "...                   ...     ...           ...           ...             ...   \n",
      "46728               Black  Female             0             0              35   \n",
      "35264               White    Male             0             0              50   \n",
      "7168   Asian-Pac-Islander    Male             0             0              40   \n",
      "44099               White    Male             0             0              55   \n",
      "11693               White    Male             0             0              50   \n",
      "\n",
      "      native-country income  \n",
      "26777  United-States   >50K  \n",
      "1623   United-States  <=50K  \n",
      "3114   United-States   >50K  \n",
      "43338  United-States  <=50K  \n",
      "22488  United-States  <=50K  \n",
      "...              ...    ...  \n",
      "46728  United-States  <=50K  \n",
      "35264  United-States  <=50K  \n",
      "7168   United-States   >50K  \n",
      "44099        Ecuador  <=50K  \n",
      "11693  United-States  <=50K  \n",
      "\n",
      "[9768 rows x 15 columns]\n"
     ]
    }
   ],
   "source": [
    "df = pd.read_csv('src/datas/adult.csv', header=0)\n",
    "df = df.sample(frac=0.2)  # Working with 20% of the dataset to avoid long time program run\n",
    "#df_copy = df.copy()\n",
    "print(df)"
   ]
  },
  {
   "cell_type": "markdown",
   "id": "e97399e4",
   "metadata": {},
   "source": [
    "## 1 - Quick dataset analysis"
   ]
  },
  {
   "cell_type": "markdown",
   "id": "ca714359",
   "metadata": {},
   "source": [
    "Now that the dataset is imported in the jupyter file, we can start exploring, digging in the datas to see what it is composed of, understand the variables in it, the possible links between them, find the target etc. This step is very important because it allows the user to understand the meaning of datasets, see if information has to be changed, or removed and also start thinking about how datas should be used with the future implemented model.\n",
    "\n",
    "A) Dataset cleaning and verifications\n",
    "\n"
   ]
  },
  {
   "cell_type": "markdown",
   "id": "8f8fae70",
   "metadata": {},
   "source": [
    "First, we check if there are repetitions of observations in the dataset. If yes, we erase them with the method `drop_duplicates` from `pandas` library."
   ]
  },
  {
   "cell_type": "code",
   "execution_count": 78,
   "id": "e9740eea",
   "metadata": {},
   "outputs": [
    {
     "name": "stdout",
     "output_type": "stream",
     "text": [
      "       age         workclass  fnlwgt     education  educational-num  \\\n",
      "26777   49           Private  165468       HS-grad                9   \n",
      "1623    64           Private  110212       HS-grad                9   \n",
      "3114    31  Self-emp-not-inc  283587       HS-grad                9   \n",
      "43338   32  Self-emp-not-inc   52647          10th                6   \n",
      "22488   49           Private  146268  Some-college               10   \n",
      "...    ...               ...     ...           ...              ...   \n",
      "46728   66         State-gov  102640       HS-grad                9   \n",
      "35264   24           Private   36058     Bachelors               13   \n",
      "7168    30         Local-gov  170449       Masters               14   \n",
      "44099   32           Private  158002  Some-college               10   \n",
      "11693   51  Self-emp-not-inc  192654     Bachelors               13   \n",
      "\n",
      "           marital-status         occupation    relationship  \\\n",
      "26777  Married-civ-spouse    Exec-managerial         Husband   \n",
      "1623   Married-civ-spouse      Other-service         Husband   \n",
      "3114   Married-civ-spouse    Exec-managerial         Husband   \n",
      "43338  Married-civ-spouse    Exec-managerial         Husband   \n",
      "22488  Married-civ-spouse       Craft-repair         Husband   \n",
      "...                   ...                ...             ...   \n",
      "46728             Widowed     Prof-specialty       Unmarried   \n",
      "35264       Never-married              Sales   Not-in-family   \n",
      "7168   Married-civ-spouse     Prof-specialty         Husband   \n",
      "44099       Never-married  Machine-op-inspct  Other-relative   \n",
      "11693             Widowed    Exec-managerial       Unmarried   \n",
      "\n",
      "                     race  gender  capital-gain  capital-loss  hours-per-week  \\\n",
      "26777               White    Male          7688             0              55   \n",
      "1623                Black    Male             0             0              40   \n",
      "3114                White    Male             0             0              50   \n",
      "43338               White    Male             0             0              45   \n",
      "22488               White    Male             0             0              40   \n",
      "...                   ...     ...           ...           ...             ...   \n",
      "46728               Black  Female             0             0              35   \n",
      "35264               White    Male             0             0              50   \n",
      "7168   Asian-Pac-Islander    Male             0             0              40   \n",
      "44099               White    Male             0             0              55   \n",
      "11693               White    Male             0             0              50   \n",
      "\n",
      "      native-country income  \n",
      "26777  United-States   >50K  \n",
      "1623   United-States  <=50K  \n",
      "3114   United-States   >50K  \n",
      "43338  United-States  <=50K  \n",
      "22488  United-States  <=50K  \n",
      "...              ...    ...  \n",
      "46728  United-States  <=50K  \n",
      "35264  United-States  <=50K  \n",
      "7168   United-States   >50K  \n",
      "44099        Ecuador  <=50K  \n",
      "11693  United-States  <=50K  \n",
      "\n",
      "[9765 rows x 15 columns]\n"
     ]
    }
   ],
   "source": [
    "df = df.drop_duplicates()\n",
    "print(df)"
   ]
  },
  {
   "cell_type": "code",
   "execution_count": 79,
   "id": "0e14d868",
   "metadata": {},
   "outputs": [],
   "source": [
    "# Remplace \"?\" by NaN\n",
    "df.replace(' ?', np.nan, inplace=True)"
   ]
  },
  {
   "cell_type": "markdown",
   "id": "b04182ce",
   "metadata": {},
   "source": [
    "Then, we remove them in order to have valid datas to send to the model.\n",
    "We will use the method `isna` from `pandas` library to list the missing values."
   ]
  },
  {
   "cell_type": "code",
   "execution_count": 80,
   "id": "4351179c",
   "metadata": {},
   "outputs": [
    {
     "data": {
      "text/plain": "<Figure size 1080x648 with 1 Axes>",
      "image/png": "[encoded data removed]"
     },
     "metadata": {},
     "output_type": "display_data"
    },
    {
     "name": "stdout",
     "output_type": "stream",
     "text": [
      "age                0.0\n",
      "workclass          0.0\n",
      "fnlwgt             0.0\n",
      "education          0.0\n",
      "educational-num    0.0\n",
      "marital-status     0.0\n",
      "occupation         0.0\n",
      "relationship       0.0\n",
      "race               0.0\n",
      "gender             0.0\n",
      "capital-gain       0.0\n",
      "capital-loss       0.0\n",
      "hours-per-week     0.0\n",
      "native-country     0.0\n",
      "income             0.0\n",
      "dtype: float64\n"
     ]
    }
   ],
   "source": [
    "plt.figure(figsize=(15, 9))\n",
    "sns.heatmap(df.isna(), cbar=False)\n",
    "plt.show()\n",
    "\n",
    "percentageOfNaNValues = (df.isna().sum() / df.shape[0]).sort_values(ascending=True)\n",
    "\n",
    "print(percentageOfNaNValues)  # Normalized values between O and 1"
   ]
  },
  {
   "cell_type": "markdown",
   "id": "80fbaf3c",
   "metadata": {},
   "source": [
    "B) Analysis the dataset"
   ]
  },
  {
   "cell_type": "code",
   "execution_count": 81,
   "id": "a8c41713",
   "metadata": {},
   "outputs": [
    {
     "name": "stdout",
     "output_type": "stream",
     "text": [
      "Column names : Index(['age', 'workclass', 'fnlwgt', 'education', 'educational-num',\n",
      "       'marital-status', 'occupation', 'relationship', 'race', 'gender',\n",
      "       'capital-gain', 'capital-loss', 'hours-per-week', 'native-country',\n",
      "       'income'],\n",
      "      dtype='object') \n",
      "\n",
      "Dataset Shape : (9765, 15) \n",
      "\n",
      "Variables Types : age                 int64\n",
      "workclass          object\n",
      "fnlwgt              int64\n",
      "education          object\n",
      "educational-num     int64\n",
      "marital-status     object\n",
      "occupation         object\n",
      "relationship       object\n",
      "race               object\n",
      "gender             object\n",
      "capital-gain        int64\n",
      "capital-loss        int64\n",
      "hours-per-week      int64\n",
      "native-country     object\n",
      "income             object\n",
      "dtype: object \n",
      "\n",
      "Variables Types Count : object    9\n",
      "int64     6\n",
      "dtype: int64\n"
     ]
    }
   ],
   "source": [
    "columnNames = df.columns\n",
    "datasetShape = df.shape\n",
    "variablesTypes = df.dtypes\n",
    "variablesTypesCount = df.dtypes.value_counts()\n",
    "\n",
    "print('Column names :', columnNames, '\\n')\n",
    "print('Dataset Shape :', datasetShape, '\\n')\n",
    "print('Variables Types :', variablesTypes, '\\n')\n",
    "print('Variables Types Count :', variablesTypesCount)"
   ]
  },
  {
   "cell_type": "markdown",
   "id": "7e2c168a",
   "metadata": {},
   "source": [
    "**Correlation matix**"
   ]
  },
  {
   "cell_type": "code",
   "execution_count": 82,
   "id": "3e055eaa",
   "metadata": {},
   "outputs": [
    {
     "data": {
      "text/plain": "<Figure size 2880x1440 with 2 Axes>",
      "image/png": "[encoded data removed]"
     },
     "metadata": {},
     "output_type": "display_data"
    }
   ],
   "source": [
    "# Compute the correlation matrix\n",
    "corr_mat = df.corr()\n",
    "\n",
    "# Set up the figure\n",
    "fig, ax = plt.subplots(figsize=(40, 20))\n",
    "\n",
    "# Create the heatmap\n",
    "sns.heatmap(corr_mat, cmap='RdYlBu', annot=True, fmt='.2f', vmin=-1, vmax=1, square=True, ax=ax)\n",
    "\n",
    "# Set the title\n",
    "ax.set_title('Correlation Matrix')\n",
    "\n",
    "# Show the plot\n",
    "plt.show()"
   ]
  },
  {
   "cell_type": "markdown",
   "id": "ff3a0f44",
   "metadata": {},
   "source": [
    "Dropping the useless features."
   ]
  },
  {
   "cell_type": "code",
   "execution_count": 83,
   "id": "d8fc1f62",
   "metadata": {},
   "outputs": [
    {
     "name": "stdout",
     "output_type": "stream",
     "text": [
      "       age         workclass     education         occupation  \\\n",
      "26777   49           Private       HS-grad    Exec-managerial   \n",
      "1623    64           Private       HS-grad      Other-service   \n",
      "3114    31  Self-emp-not-inc       HS-grad    Exec-managerial   \n",
      "43338   32  Self-emp-not-inc          10th    Exec-managerial   \n",
      "22488   49           Private  Some-college       Craft-repair   \n",
      "...    ...               ...           ...                ...   \n",
      "46728   66         State-gov       HS-grad     Prof-specialty   \n",
      "35264   24           Private     Bachelors              Sales   \n",
      "7168    30         Local-gov       Masters     Prof-specialty   \n",
      "44099   32           Private  Some-college  Machine-op-inspct   \n",
      "11693   51  Self-emp-not-inc     Bachelors    Exec-managerial   \n",
      "\n",
      "                     race  gender  capital-gain  capital-loss native-country  \\\n",
      "26777               White    Male          7688             0  United-States   \n",
      "1623                Black    Male             0             0  United-States   \n",
      "3114                White    Male             0             0  United-States   \n",
      "43338               White    Male             0             0  United-States   \n",
      "22488               White    Male             0             0  United-States   \n",
      "...                   ...     ...           ...           ...            ...   \n",
      "46728               Black  Female             0             0  United-States   \n",
      "35264               White    Male             0             0  United-States   \n",
      "7168   Asian-Pac-Islander    Male             0             0  United-States   \n",
      "44099               White    Male             0             0        Ecuador   \n",
      "11693               White    Male             0             0  United-States   \n",
      "\n",
      "      income  \n",
      "26777   >50K  \n",
      "1623   <=50K  \n",
      "3114    >50K  \n",
      "43338  <=50K  \n",
      "22488  <=50K  \n",
      "...      ...  \n",
      "46728  <=50K  \n",
      "35264  <=50K  \n",
      "7168    >50K  \n",
      "44099  <=50K  \n",
      "11693  <=50K  \n",
      "\n",
      "[9765 rows x 10 columns]\n"
     ]
    }
   ],
   "source": [
    "df = df.drop(['educational-num', 'marital-status', 'relationship', 'hours-per-week', 'fnlwgt'], axis=1)\n",
    "print(df)"
   ]
  },
  {
   "cell_type": "markdown",
   "id": "38d98767",
   "metadata": {},
   "source": [
    "C) Analysis of the target variable"
   ]
  },
  {
   "cell_type": "code",
   "execution_count": 84,
   "id": "ed4699ef",
   "metadata": {},
   "outputs": [
    {
     "name": "stdout",
     "output_type": "stream",
     "text": [
      "Repartition of the target :\n",
      " <=50K    7391\n",
      ">50K     2374\n",
      "Name: income, dtype: int64\n",
      "\n",
      "Type of this variable: object\n"
     ]
    },
    {
     "data": {
      "text/plain": "<AxesSubplot:ylabel='income'>"
     },
     "execution_count": 84,
     "metadata": {},
     "output_type": "execute_result"
    },
    {
     "data": {
      "text/plain": "<Figure size 432x288 with 1 Axes>",
      "image/png": "[encoded data removed]"
     },
     "metadata": {},
     "output_type": "display_data"
    }
   ],
   "source": [
    "count_target = df['income'].value_counts()\n",
    "target_type = df['income'].dtype\n",
    "\n",
    "print('Repartition of the target :\\n', count_target)\n",
    "print('\\nType of this variable:', target_type)\n",
    "count_target.plot.pie()"
   ]
  },
  {
   "cell_type": "markdown",
   "id": "36c11f4f",
   "metadata": {},
   "source": [
    "## 2 - Pre-processing"
   ]
  },
  {
   "cell_type": "code",
   "execution_count": 85,
   "id": "95c9cf02",
   "metadata": {},
   "outputs": [],
   "source": [
    "from sklearn import preprocessing\n",
    "from sklearn.model_selection import train_test_split"
   ]
  },
  {
   "cell_type": "markdown",
   "id": "4daa53ab",
   "metadata": {},
   "source": [
    "Pre-processing of the variables"
   ]
  },
  {
   "cell_type": "code",
   "execution_count": 86,
   "id": "d6b4fec6",
   "metadata": {},
   "outputs": [
    {
     "name": "stdout",
     "output_type": "stream",
     "text": [
      "       age  workclass  education  occupation  race  gender  capital-gain  \\\n",
      "26777   49          4         11           4     4       1          7688   \n",
      "1623    64          4         11           8     2       1             0   \n",
      "3114    31          6         11           4     4       1             0   \n",
      "43338   32          6          0           4     4       1             0   \n",
      "22488   49          4         15           3     4       1             0   \n",
      "...    ...        ...        ...         ...   ...     ...           ...   \n",
      "46728   66          7         11          10     2       0             0   \n",
      "35264   24          4          9          12     4       1             0   \n",
      "7168    30          2         12          10     1       1             0   \n",
      "44099   32          4         15           7     4       1             0   \n",
      "11693   51          6          9           4     4       1             0   \n",
      "\n",
      "       capital-loss  native-country  income  \n",
      "26777             0              38       1  \n",
      "1623              0              38       0  \n",
      "3114              0              38       1  \n",
      "43338             0              38       0  \n",
      "22488             0              38       0  \n",
      "...             ...             ...     ...  \n",
      "46728             0              38       0  \n",
      "35264             0              38       0  \n",
      "7168              0              38       1  \n",
      "44099             0               7       0  \n",
      "11693             0              38       0  \n",
      "\n",
      "[9765 rows x 10 columns]\n"
     ]
    }
   ],
   "source": [
    "# LabelEncoding\n",
    "encoder = preprocessing.LabelEncoder()\n",
    "features = ['workclass', 'education', 'occupation', 'race', 'gender', 'native-country', 'income']\n",
    "df[features] = df[features].apply(encoder.fit_transform)\n",
    "print(df)"
   ]
  },
  {
   "cell_type": "markdown",
   "id": "785148c4",
   "metadata": {},
   "source": [
    "We can finally build the matrices X and y."
   ]
  },
  {
   "cell_type": "code",
   "execution_count": 87,
   "id": "b1e2358a",
   "metadata": {},
   "outputs": [
    {
     "name": "stdout",
     "output_type": "stream",
     "text": [
      "       age  workclass  education  occupation  race  gender  capital-gain  \\\n",
      "26777   49          4         11           4     4       1          7688   \n",
      "1623    64          4         11           8     2       1             0   \n",
      "3114    31          6         11           4     4       1             0   \n",
      "43338   32          6          0           4     4       1             0   \n",
      "22488   49          4         15           3     4       1             0   \n",
      "...    ...        ...        ...         ...   ...     ...           ...   \n",
      "46728   66          7         11          10     2       0             0   \n",
      "35264   24          4          9          12     4       1             0   \n",
      "7168    30          2         12          10     1       1             0   \n",
      "44099   32          4         15           7     4       1             0   \n",
      "11693   51          6          9           4     4       1             0   \n",
      "\n",
      "       capital-loss  native-country  \n",
      "26777             0              38  \n",
      "1623              0              38  \n",
      "3114              0              38  \n",
      "43338             0              38  \n",
      "22488             0              38  \n",
      "...             ...             ...  \n",
      "46728             0              38  \n",
      "35264             0              38  \n",
      "7168              0              38  \n",
      "44099             0               7  \n",
      "11693             0              38  \n",
      "\n",
      "[9765 rows x 9 columns]\n",
      "26777    1\n",
      "1623     0\n",
      "3114     1\n",
      "43338    0\n",
      "22488    0\n",
      "        ..\n",
      "46728    0\n",
      "35264    0\n",
      "7168     1\n",
      "44099    0\n",
      "11693    0\n",
      "Name: income, Length: 9765, dtype: int32\n",
      "(6835, 9)\n",
      "(2930, 9)\n"
     ]
    }
   ],
   "source": [
    "X = df.drop(['income'], axis=1)\n",
    "y = df['income']\n",
    "\n",
    "print(X)\n",
    "print(y)\n",
    "\n",
    "# Samples for training and testing\n",
    "X_train, X_test, y_train, y_test = train_test_split(X, y, test_size=0.3, train_size=0.7)\n",
    "print(X_train.shape)\n",
    "print(X_test.shape)"
   ]
  },
  {
   "cell_type": "markdown",
   "id": "ade74e95",
   "metadata": {},
   "source": [
    "## 3 - Ensemble learning methods"
   ]
  },
  {
   "cell_type": "markdown",
   "id": "7b574f29",
   "metadata": {},
   "source": [
    "#### A) Bagging method"
   ]
  },
  {
   "cell_type": "code",
   "execution_count": 88,
   "id": "b8425d97",
   "metadata": {},
   "outputs": [],
   "source": [
    "from collections import Counter\n",
    "from sklearn.ensemble import BaggingClassifier\n",
    "from sklearn.neighbors import KNeighborsClassifier\n",
    "from sklearn.linear_model import LogisticRegression\n",
    "from sklearn.tree import DecisionTreeClassifier\n",
    "from sklearn.model_selection import GridSearchCV\n",
    "from sklearn.metrics import accuracy_score"
   ]
  },
  {
   "cell_type": "markdown",
   "id": "f1302a2c",
   "metadata": {},
   "source": [
    "We can try several methods and compare their performances.\n"
   ]
  },
  {
   "cell_type": "markdown",
   "id": "798f0ef9",
   "metadata": {},
   "source": [
    "Bagging method from scratch."
   ]
  },
  {
   "cell_type": "code",
   "execution_count": 89,
   "id": "0c4ae2dd",
   "metadata": {},
   "outputs": [
    {
     "name": "stdout",
     "output_type": "stream",
     "text": [
      "Accuracy for Bagging from Scratch with KNN : 0.8037542662116041\n",
      "Accuracy for Bagging from Scratch with LR : 0.7781569965870307\n",
      "Accuracy for Bagging from Scratch with DTC : 0.7993174061433447\n"
     ]
    }
   ],
   "source": [
    "def BaggingScratch(X_train, y_train, X_test, base_estimator, n_estimators=100):\n",
    "    y_pred = np.zeros((X_test.shape[0],\n",
    "                       n_estimators))  # Initialization of the array which will store all the predictions for n estimators\n",
    "\n",
    "    for i in range(n_estimators):\n",
    "        num = np.random.choice(X_train.index.values, size=X_train.shape[0], replace=True)  # Resample with replacement\n",
    "        X_bstr = X_train.loc[num]  # Access to the row which has index num\n",
    "        y_bstr = y_train.loc[num]  # Access to the column which has index num\n",
    "        base_estimator.fit(X_bstr, y_bstr)  # Fitting with a base_estimator\n",
    "        y_pred[:, i] = base_estimator.predict(X_test)  # Writing the predictions results in y_pred array\n",
    "\n",
    "    # Aggregate the predictions using majority voting\n",
    "    y_pred_majority = np.zeros(X_test.shape[0])\n",
    "    for i in range(X_test.shape[0]):\n",
    "        y_pred_i = y_pred[i, :]\n",
    "        c = Counter(y_pred_i)  # Read all the values in y_pred_i\n",
    "        y_pred_majority[i] = c.most_common(1)[0][\n",
    "            0]  # Getting the most common element and its count (passing 1 as argument and [0][0] to get the most common element)\n",
    "\n",
    "    return y_pred_majority\n",
    "\n",
    "\n",
    "knn = KNeighborsClassifier()\n",
    "lr = LogisticRegression()\n",
    "dtc = DecisionTreeClassifier()\n",
    "y_pred_knn = BaggingScratch(X_train=X_train, y_train=y_train, X_test=X_test, base_estimator=knn)\n",
    "y_pred_lr = BaggingScratch(X_train=X_train, y_train=y_train, X_test=X_test, base_estimator=lr)\n",
    "y_pred_dtc = BaggingScratch(X_train=X_train, y_train=y_train, X_test=X_test, base_estimator=dtc)\n",
    "# number of estimators is set to 100 by default\n",
    "\n",
    "accuracyScratch_KNN = accuracy_score(y_test, y_pred_knn)\n",
    "accuracyScratch_LR = accuracy_score(y_test, y_pred_lr)\n",
    "accuracyScratch_DTC = accuracy_score(y_test, y_pred_dtc)\n",
    "print('Accuracy for Bagging from Scratch with KNN :', accuracyScratch_KNN)\n",
    "print('Accuracy for Bagging from Scratch with LR :', accuracyScratch_LR)\n",
    "print('Accuracy for Bagging from Scratch with DTC :', accuracyScratch_DTC)"
   ]
  },
  {
   "cell_type": "markdown",
   "id": "45a959d2",
   "metadata": {},
   "source": [
    "Bagging method using scikit-learn."
   ]
  },
  {
   "cell_type": "markdown",
   "source": [
    "- We, first, try the method with the KNN estimator, as it is a widely used supervised learning method."
   ],
   "metadata": {
    "collapsed": false
   }
  },
  {
   "cell_type": "code",
   "execution_count": 90,
   "id": "653d06b6",
   "metadata": {},
   "outputs": [
    {
     "name": "stdout",
     "output_type": "stream",
     "text": [
      "Bagging KNN\n",
      "Best value of n_estimators: 20\n",
      "Accuracy for bagging with KNN: 0.8054607508532423\n"
     ]
    }
   ],
   "source": [
    "# Bagging KNN\n",
    "# Defining different values of n_estimators to try\n",
    "n_estimators = [10, 20, 50, 100, 200]\n",
    "\n",
    "# Defining the parameter grid for the Bagging Classifier\n",
    "param_grid = {'n_estimators': n_estimators, 'base_estimator': [KNeighborsClassifier()]}\n",
    "\n",
    "# Performing Grid Search to find the best value of n_estimators for the bagging classifier\n",
    "model1_KNN = GridSearchCV(BaggingClassifier(), param_grid=param_grid)\n",
    "model1_KNN.fit(X_train, y_train)\n",
    "model1_KNN.predict(X_test)\n",
    "accuracy1 = model1_KNN.score(X_test, y_test)\n",
    "\n",
    "print(\"Bagging KNN\")\n",
    "print(\"Best value of n_estimators:\", model1_KNN.best_params_['n_estimators'])\n",
    "print(\"Accuracy for bagging with KNN:\", accuracy1)"
   ]
  },
  {
   "cell_type": "markdown",
   "source": [
    "We can compare with the single method to see the results between the ensemble method and the single method used as estimator."
   ],
   "metadata": {
    "collapsed": false
   }
  },
  {
   "cell_type": "code",
   "execution_count": 91,
   "outputs": [
    {
     "name": "stdout",
     "output_type": "stream",
     "text": [
      "\n",
      "Single KNN\n",
      "Best value of k: 17\n",
      "Accuracy with single KNN: 0.8061433447098976\n"
     ]
    }
   ],
   "source": [
    "# Single KNN\n",
    "# Defining different values of n_neighbors to try\n",
    "n_neighbors = [i for i in range(1, 27, 2)]\n",
    "\n",
    "# loop over different values of n_neighbors and evaluate the score to select the hyperparameters with high score\n",
    "best_score = 0\n",
    "best_k = 0\n",
    "for k in n_neighbors:\n",
    "    # For each value of n_neighbors, we execute a model prediction and look at its accuracy.\n",
    "    model = KNeighborsClassifier(n_neighbors=k)\n",
    "    model.fit(X_train, y_train)\n",
    "    model.predict(X_test)\n",
    "    score = model.score(X_test, y_test)\n",
    "    if score > best_score:  # The parameters with the best accuracy are stored into variables\n",
    "        best_score = score\n",
    "        best_k = k\n",
    "\n",
    "model2_KNN = KNeighborsClassifier(n_neighbors=best_k)\n",
    "model2_KNN.fit(X_train, y_train)\n",
    "model2_KNN.predict(X_test)\n",
    "accuracy2 = model2_KNN.score(X_test, y_test)\n",
    "\n",
    "print(\"\\nSingle KNN\")\n",
    "print(\"Best value of k:\", best_k)\n",
    "print(\"Accuracy with single KNN:\", accuracy2)"
   ],
   "metadata": {
    "collapsed": false
   }
  },
  {
   "cell_type": "code",
   "execution_count": 92,
   "outputs": [
    {
     "name": "stdout",
     "output_type": "stream",
     "text": [
      "\n",
      "The single method has a better accuracy than the bagging method.\n",
      "The difference of accuracies between the single method and the bagging is : 0.0006825938566552558\n"
     ]
    }
   ],
   "source": [
    "if (accuracy1 > accuracy2):\n",
    "    print('\\nThe bagging method has a better accuracy than the single method.')\n",
    "elif (accuracy1 < accuracy2):\n",
    "    print('\\nThe single method has a better accuracy than the bagging method.')\n",
    "elif (accuracy1 == accuracy2):\n",
    "    print('The single method and the bagging method as same accuracies.')\n",
    "print('The difference of accuracies between the single method and the bagging is :', abs(accuracy2 - accuracy1))"
   ],
   "metadata": {
    "collapsed": false
   }
  },
  {
   "cell_type": "markdown",
   "source": [
    "- We try the bagging method with another estimator : Logistic Regression"
   ],
   "metadata": {
    "collapsed": false
   }
  },
  {
   "cell_type": "code",
   "execution_count": 93,
   "id": "7c6316b6",
   "metadata": {},
   "outputs": [
    {
     "name": "stdout",
     "output_type": "stream",
     "text": [
      "Bagging LR\n",
      "Best value of n_estimators for Logistic Regression: 100\n",
      "Accuracy for bagging with Logistic Regression: 0.7771331058020478\n"
     ]
    }
   ],
   "source": [
    "# Bagging Logistic Regression\n",
    "# Defining different values of n_estimators to try\n",
    "n_estimators = [10, 50, 100, 200]\n",
    "\n",
    "# Defining the parameter grid for the Bagging Classifier\n",
    "param_grid = {'n_estimators': n_estimators, 'base_estimator': [LogisticRegression()]}\n",
    "\n",
    "model1_LR = GridSearchCV(BaggingClassifier(),\n",
    "                         param_grid=param_grid)  # Performing Grid Search to find the best parameters for the Bagging Classifier\n",
    "model1_LR.fit(X_train, y_train)\n",
    "model1_LR.predict(X_test)\n",
    "accuracy1 = model1_LR.score(X_test, y_test)\n",
    "\n",
    "print(\"Bagging LR\")\n",
    "print(\"Best value of n_estimators for Logistic Regression:\", model1_LR.best_params_['n_estimators'])\n",
    "print(\"Accuracy for bagging with Logistic Regression:\", accuracy1)"
   ]
  },
  {
   "cell_type": "markdown",
   "source": [
    "We compare the bagging method with LR estimator with the single LR method"
   ],
   "metadata": {
    "collapsed": false
   }
  },
  {
   "cell_type": "code",
   "execution_count": 94,
   "outputs": [
    {
     "name": "stdout",
     "output_type": "stream",
     "text": [
      "\n",
      "Single LR\n",
      "Best parameters: {'C': 0.1, 'solver': 'liblinear'}\n",
      "Accuracy for Logistic Regression: 0.784641638225256\n"
     ]
    }
   ],
   "source": [
    "# Single Logistic Regression\n",
    "# Defining the parameter grid for logistic regression\n",
    "param_grid = {\n",
    "    'C': [0.01, 0.1, 1, 10, 100],\n",
    "    'solver': ['lbfgs', 'liblinear', 'saga']\n",
    "}\n",
    "\n",
    "model2_LR = GridSearchCV(LogisticRegression(),\n",
    "                         param_grid=param_grid)  # Performing Grid Search to find the best parameters for Logistic Regression\n",
    "model2_LR.fit(X_train, y_train)\n",
    "model2_LR.predict(X_test)\n",
    "accuracy2 = model2_LR.score(X_test, y_test)\n",
    "\n",
    "print(\"\\nSingle LR\")\n",
    "print(\"Best parameters:\", model2_LR.best_params_)\n",
    "print(\"Accuracy for Logistic Regression:\", accuracy2)\n"
   ],
   "metadata": {
    "collapsed": false
   }
  },
  {
   "cell_type": "code",
   "execution_count": 95,
   "outputs": [
    {
     "name": "stdout",
     "output_type": "stream",
     "text": [
      "\n",
      "The single method has a better accuracy than the bagging method.\n",
      "The difference of accuracies between the single method and the bagging is : 0.007508532423208258\n"
     ]
    }
   ],
   "source": [
    "if (accuracy1 > accuracy2):\n",
    "    print('\\nThe bagging method has a better accuracy than the single method.')\n",
    "elif (accuracy1 < accuracy2):\n",
    "    print('\\nThe single method has a better accuracy than the bagging method.')\n",
    "elif (accuracy1 == accuracy2):\n",
    "    print('The single method and the bagging method as same accuracies.')\n",
    "print('The difference of accuracies between the single method and the bagging is :', abs(accuracy2 - accuracy1))"
   ],
   "metadata": {
    "collapsed": false
   }
  },
  {
   "cell_type": "markdown",
   "source": [
    "- We can test the ensemble method on a last estimator which is the Decision Tree Classifier (DTC) which is the method used by default on most of ensemble learning methods."
   ],
   "metadata": {
    "collapsed": false
   }
  },
  {
   "cell_type": "code",
   "execution_count": 96,
   "outputs": [
    {
     "name": "stdout",
     "output_type": "stream",
     "text": [
      "Bagging DTC\n",
      "Best value of n_estimators for Decision Tree Classifier: 200\n",
      "Accuracy for bagging with Decision Tree Classifier: 0.8034129692832764\n"
     ]
    }
   ],
   "source": [
    "# Bagging Decision Tree Classifier (default method on Scikit-Learn)\n",
    "# Defining different values of n_estimators to try\n",
    "n_estimators = [10, 50, 100, 200]\n",
    "\n",
    "# Defining the parameter grid for the Bagging Classifier\n",
    "param_grid = {'n_estimators': n_estimators, 'base_estimator': [DecisionTreeClassifier()]}\n",
    "\n",
    "model1_DTC = GridSearchCV(BaggingClassifier(),\n",
    "                          param_grid=param_grid)  # Performing Grid Search to find the best parameters for the Bagging Classifier\n",
    "model1_DTC.fit(X_train, y_train)\n",
    "model1_DTC.predict(X_test)\n",
    "accuracy1 = model1_DTC.score(X_test, y_test)\n",
    "\n",
    "print(\"Bagging DTC\")\n",
    "print(\"Best value of n_estimators for Decision Tree Classifier:\", model1_DTC.best_params_['n_estimators'])\n",
    "print(\"Accuracy for bagging with Decision Tree Classifier:\", accuracy1)"
   ],
   "metadata": {
    "collapsed": false
   }
  },
  {
   "cell_type": "markdown",
   "source": [
    "Let's compare the result of the bagging with DTC method and the single DTC method:"
   ],
   "metadata": {
    "collapsed": false
   }
  },
  {
   "cell_type": "code",
   "execution_count": 97,
   "outputs": [
    {
     "name": "stdout",
     "output_type": "stream",
     "text": [
      "\n",
      "Single DTC\n",
      "Accuracy for Decision Tree Classifier: 0.7781569965870307\n"
     ]
    }
   ],
   "source": [
    "# Single Decision Tree classifier\n",
    "model2_DTC = DecisionTreeClassifier()\n",
    "model2_DTC.fit(X_train, y_train)\n",
    "model2_DTC.predict(X_test)\n",
    "accuracy2 = model2_DTC.score(X_test, y_test)\n",
    "\n",
    "print(\"\\nSingle DTC\")\n",
    "print(\"Accuracy for Decision Tree Classifier:\", accuracy2)"
   ],
   "metadata": {
    "collapsed": false
   }
  },
  {
   "cell_type": "code",
   "execution_count": 98,
   "outputs": [
    {
     "name": "stdout",
     "output_type": "stream",
     "text": [
      "\n",
      "The bagging method has a better accuracy than the single method.\n",
      "The difference of accuracies between the single method and the bagging is : 0.025255972696245688\n"
     ]
    }
   ],
   "source": [
    "if (accuracy1 > accuracy2):\n",
    "    print('\\nThe bagging method has a better accuracy than the single method.')\n",
    "elif (accuracy1 < accuracy2):\n",
    "    print('\\nThe single method has a better accuracy than the bagging method.')\n",
    "elif (accuracy1 == accuracy2):\n",
    "    print('The single method and the bagging method as same accuracies.')\n",
    "print('The difference of accuracies between the single method and the bagging is :', abs(accuracy2 - accuracy1))"
   ],
   "metadata": {
    "collapsed": false
   }
  },
  {
   "cell_type": "markdown",
   "source": [
    "Making a prediction on a new observation ..."
   ],
   "metadata": {
    "collapsed": false
   }
  },
  {
   "cell_type": "code",
   "execution_count": 125,
   "id": "4bf89e5b",
   "metadata": {},
   "outputs": [
    {
     "name": "stdout",
     "output_type": "stream",
     "text": [
      "   age  workclass  education  occupation  race  gender  capital-gain  \\\n",
      "0    0          0          0           0     0       0             0   \n",
      "\n",
      "   capital-loss  native-country  \n",
      "0             0               0  \n",
      "Prediction Bagging KNN: Earn less than $50K\n",
      "Prediction Bagging LR: Earn less than $50K\n",
      "Prediction Bagging DT: Earn less than $50K\n"
     ]
    }
   ],
   "source": [
    "# WRONG ENCODING !!\n",
    "\"\"\"# Prediction on a new observation\n",
    "features_name = ['age', 'workclass', 'education', 'occupation', 'race', 'gender', 'capital-gain', 'capital-loss', 'native-country']\n",
    "newPerson_df = pd.DataFrame(data=[[32, 'Local-gov', 'Some-college', 'Protective-serv', 'White', 'Male', 0, 0, 'United-States']], columns=features_name)\n",
    "newPerson_df = newPerson_df.apply(lambda x: encoder.fit_transform(x.astype(str)))\n",
    "print(newPerson_df)\n",
    "\n",
    "pred_BaggingKNN = model2_KNN.predict(newPerson_df)\n",
    "if pred_BaggingKNN == 0:\n",
    "    pred_BaggingKNN = 'Earn less than $50K'\n",
    "elif pred_BaggingKNN == 1:\n",
    "    pred_BaggingKNN = 'Earn more than $50K'\n",
    "print(\"Prediction Bagging KNN:\", pred_BaggingKNN)\n",
    "\n",
    "pred_BaggingLR = model2_LR.predict(newPerson_df)\n",
    "if pred_BaggingLR == 0:\n",
    "    pred_BaggingLR = 'Earn less than $50K'\n",
    "elif pred_BaggingLR == 1:\n",
    "    pred_BaggingLR = 'Earn more than $50K'\n",
    "print(\"Prediction Bagging LR:\", pred_BaggingLR)\"\"\""
   ]
  },
  {
   "cell_type": "markdown",
   "source": [
    "Global observations :"
   ],
   "metadata": {
    "collapsed": false
   }
  },
  {
   "cell_type": "markdown",
   "id": "dcbe1c18",
   "metadata": {},
   "source": [
    "#### B) Boosting method"
   ]
  },
  {
   "cell_type": "markdown",
   "source": [
    "Boosting method from scratch"
   ],
   "metadata": {
    "collapsed": false
   }
  },
  {
   "cell_type": "code",
   "execution_count": 100,
   "id": "657f897a",
   "metadata": {},
   "outputs": [],
   "source": [
    "# Importation of libraries\n",
    "from sklearn.model_selection import train_test_split\n",
    "from sklearn.ensemble import AdaBoostClassifier\n",
    "from sklearn.model_selection import GridSearchCV\n",
    "from sklearn.tree import DecisionTreeClassifier"
   ]
  },
  {
   "cell_type": "code",
   "execution_count": 101,
   "outputs": [
    {
     "name": "stdout",
     "output_type": "stream",
     "text": [
      "Accuracy for Boosting from Scratch with LR : 0.7737201365187714\n",
      "Accuracy for Boosting from Scratch with DTC : 0.7795221843003413\n"
     ]
    }
   ],
   "source": [
    "def BoostingScratch(X_train, y_train, X_test, y_test, base_estimator, n_estimators=100):\n",
    "    Evaluation = pd.DataFrame(y_train.copy())\n",
    "    Evaluation['weights'] = 1 / X_test.shape[0]  # Set the initial weights w = 1/N\n",
    "    # Run the boosting algorithm by creating T \"weighted models\"\n",
    "\n",
    "    alphas = []\n",
    "    models = []\n",
    "\n",
    "    for t in range(n_estimators):\n",
    "        # Train the Decision Stump(s)\n",
    "        model = base_estimator.fit(X_train, y_train, sample_weight=np.array(Evaluation['weights']))\n",
    "\n",
    "        # Append the single weak classifiers to a list which is later on used to make the weighted decision\n",
    "        models.append(model)\n",
    "        predictions = model.predict(X_train)\n",
    "        score = model.score(X_train, y_train)\n",
    "\n",
    "        # Add values to the Evaluation DataFrame\n",
    "        Evaluation['predictions'] = predictions\n",
    "        Evaluation['evaluation'] = np.where(Evaluation['predictions'] == Evaluation['income'], 1, 0)\n",
    "        Evaluation['misclassified'] = np.where(Evaluation['predictions'] != Evaluation['income'], 1, 0)\n",
    "\n",
    "        # Calculate the misclassification rate and accuracy\n",
    "        accuracy = sum(Evaluation['evaluation']) / len(Evaluation['evaluation'])\n",
    "        misclassification = sum(Evaluation['misclassified']) / len(Evaluation['misclassified'])\n",
    "\n",
    "        # Caclulate the error\n",
    "        err = np.sum(Evaluation['weights'] * Evaluation['misclassified']) / np.sum(Evaluation['weights'])\n",
    "\n",
    "        # Calculate the alpha values\n",
    "        alpha = np.log((1 - err) / err)\n",
    "        alphas.append(alpha)\n",
    "\n",
    "        # Update the weights wi --> These updated weights are used in the sample_weight parameter for the training of the next decision stump.\n",
    "        Evaluation['weights'] *= np.exp(alpha * Evaluation['misclassified'])\n",
    "\n",
    "        # With each model in the self.model list, make a prediction\n",
    "        accuracy = []\n",
    "        predictions = []\n",
    "\n",
    "        for alpha, model in zip(alphas, models):\n",
    "            prediction = alpha * model.predict(X_test)\n",
    "            predictions.append(prediction)\n",
    "            accuracy.append(\n",
    "                np.sum(np.sign(np.sum(np.array(predictions), axis=0)) == y_test.values) / len(predictions[0]))\n",
    "\n",
    "        predictions = np.sign(np.sum(np.array(predictions), axis=0))\n",
    "\n",
    "        return predictions\n",
    "\n",
    "\n",
    "lr = LogisticRegression()\n",
    "dtc = DecisionTreeClassifier()\n",
    "y_pred_lr = BoostingScratch(X_train=X_train, y_train=y_train, X_test=X_test, y_test=y_test, base_estimator=lr)\n",
    "y_pred_dtc = BoostingScratch(X_train=X_train, y_train=y_train, X_test=X_test, y_test=y_test, base_estimator=dtc)\n",
    "# number of estimators is set to 100 by default\n",
    "\n",
    "accuracyScratch_LR = accuracy_score(y_test, y_pred_lr)\n",
    "accuracyScratch_DTC = accuracy_score(y_test, y_pred_dtc)\n",
    "print('Accuracy for Boosting from Scratch with LR :', accuracyScratch_LR)\n",
    "print('Accuracy for Boosting from Scratch with DTC :', accuracyScratch_DTC)"
   ],
   "metadata": {
    "collapsed": false
   }
  },
  {
   "cell_type": "markdown",
   "source": [
    "Boosting method using Scikit-Learn"
   ],
   "metadata": {
    "collapsed": false
   }
  },
  {
   "cell_type": "markdown",
   "source": [
    "- The first estimator we use is the Logistic Regression"
   ],
   "metadata": {
    "collapsed": false
   }
  },
  {
   "cell_type": "code",
   "execution_count": 102,
   "id": "1cd9b11a",
   "metadata": {},
   "outputs": [
    {
     "name": "stdout",
     "output_type": "stream",
     "text": [
      "\n",
      "Boosting LR\n",
      "Best value of n_estimators for Logistic Regression: 100\n",
      "Accuracy for boosting with Logistic Regression: 0.7791808873720136\n"
     ]
    }
   ],
   "source": [
    "# Boosting Logistic Regression\n",
    "# define the range of values of n_estimators to try\n",
    "n_estimators = [10, 50, 100, 200]\n",
    "\n",
    "# define the parameter grid for the bagging classifier\n",
    "param_grid = {'n_estimators': n_estimators, 'base_estimator': [LogisticRegression()]}\n",
    "\n",
    "# perform grid search to find the best value of n_estimators for the bagging classifier\n",
    "model = GridSearchCV(AdaBoostClassifier(), param_grid=param_grid)\n",
    "model.fit(X_train, y_train)\n",
    "model.predict(X_test)\n",
    "accuracy1 = model.score(X_test, y_test)\n",
    "\n",
    "print(\"\\nBoosting LR\")\n",
    "print(\"Best value of n_estimators for Logistic Regression:\", model.best_params_['n_estimators'])\n",
    "print(\"Accuracy for boosting with Logistic Regression:\", accuracy1)"
   ]
  },
  {
   "cell_type": "markdown",
   "source": [
    "We can compare the boosting results with the single method results :"
   ],
   "metadata": {
    "collapsed": false
   }
  },
  {
   "cell_type": "code",
   "execution_count": 103,
   "outputs": [
    {
     "name": "stdout",
     "output_type": "stream",
     "text": [
      "Single LR\n",
      "Best parameters: {'C': 0.1, 'solver': 'liblinear'}\n",
      "Accuracy for Logistic Regression: 0.784641638225256\n"
     ]
    }
   ],
   "source": [
    "# Single Logistic Regression\n",
    "# define the parameter grid for logistic regression\n",
    "param_grid = {\n",
    "    'C': [0.01, 0.1, 1, 10, 100],\n",
    "    'solver': ['lbfgs', 'liblinear', 'saga']\n",
    "}\n",
    "\n",
    "# perform grid search to find the best parameters for logistic regression\n",
    "model = GridSearchCV(LogisticRegression(), param_grid=param_grid)\n",
    "model.fit(X_train, y_train)\n",
    "model.predict(X_test)\n",
    "accuracy2 = model.score(X_test, y_test)\n",
    "\n",
    "print(\"Single LR\")\n",
    "print(\"Best parameters:\", model.best_params_)\n",
    "print(\"Accuracy for Logistic Regression:\", accuracy2)"
   ],
   "metadata": {
    "collapsed": false
   }
  },
  {
   "cell_type": "code",
   "execution_count": 104,
   "outputs": [
    {
     "name": "stdout",
     "output_type": "stream",
     "text": [
      "\n",
      "The single method has a better accuracy than the boosting method.\n",
      "The difference of accuracies between the single method and the boosting is : 0.00546075085324238\n"
     ]
    }
   ],
   "source": [
    "if (accuracy1 > accuracy2):\n",
    "    print('\\nThe boosting method has a better accuracy than the single method.')\n",
    "elif (accuracy1 < accuracy2):\n",
    "    print('\\nThe single method has a better accuracy than the boosting method.')\n",
    "elif (accuracy1 == accuracy2):\n",
    "    print('The single method and the boosting method as same accuracies.')\n",
    "print('The difference of accuracies between the single method and the boosting is :', abs(accuracy2 - accuracy1))"
   ],
   "metadata": {
    "collapsed": false
   }
  },
  {
   "cell_type": "markdown",
   "source": [
    "- The second estimator used is the Decision Tree Classifier"
   ],
   "metadata": {
    "collapsed": false
   }
  },
  {
   "cell_type": "code",
   "execution_count": 112,
   "outputs": [
    {
     "name": "stdout",
     "output_type": "stream",
     "text": [
      "\n",
      "Boosting DTC\n",
      "Best value of n_estimators: 200\n",
      "Best value of learning_rate: 1.0\n",
      "Accuracy for boosting with Decision tree classifier: 0.8337883959044369\n"
     ]
    }
   ],
   "source": [
    "# Boosting Decision tree classifier\n",
    "# Defining different values of n_estimators to try\n",
    "n_estimators = [10, 20, 50, 100, 200]\n",
    "learning_rate = [0.01, 0.1, 1.0]\n",
    "\n",
    "# Defining the parameter grid for the Bagging Classifier\n",
    "param_grid = {'n_estimators': n_estimators, 'learning_rate': learning_rate}\n",
    "\n",
    "# Performing Grid Search to find the best value of n_estimators for the bagging classifier\n",
    "model = GridSearchCV(AdaBoostClassifier(), param_grid=param_grid)\n",
    "model.fit(X_train, y_train)\n",
    "model.predict(X_test)\n",
    "accuracy1 = model.score(X_test, y_test)\n",
    "\n",
    "print(\"\\nBoosting DTC\")\n",
    "print(\"Best value of n_estimators:\", model.best_params_['n_estimators'])\n",
    "print(\"Best value of learning_rate:\", model.best_params_['learning_rate'])\n",
    "print(\"Accuracy for boosting with Decision tree classifier:\", accuracy1)"
   ],
   "metadata": {
    "collapsed": false
   }
  },
  {
   "cell_type": "markdown",
   "source": [
    "Comparison with the single DTC method"
   ],
   "metadata": {
    "collapsed": false
   }
  },
  {
   "cell_type": "code",
   "execution_count": 113,
   "outputs": [
    {
     "name": "stdout",
     "output_type": "stream",
     "text": [
      "Single DTC\n",
      "Best value of k: 17\n",
      "Accuracy with single Decision tree classifier: 0.7808873720136519\n"
     ]
    }
   ],
   "source": [
    "# Single Decision tree\n",
    "model = DecisionTreeClassifier()\n",
    "model.fit(X_train, y_train)\n",
    "model.predict(X_test)\n",
    "accuracy2 = model.score(X_test, y_test)\n",
    "\n",
    "print(\"Single DTC\")\n",
    "print(\"Best value of k:\", best_k)\n",
    "print(\"Accuracy with single Decision tree classifier:\", accuracy2)"
   ],
   "metadata": {
    "collapsed": false
   }
  },
  {
   "cell_type": "code",
   "execution_count": 114,
   "outputs": [
    {
     "name": "stdout",
     "output_type": "stream",
     "text": [
      "\n",
      "The boosting method has a better accuracy than the single method.\n",
      "The difference of accuracies between the single method and the boosting is : 0.05290102389078499\n"
     ]
    }
   ],
   "source": [
    "if (accuracy1 > accuracy2):\n",
    "    print('\\nThe boosting method has a better accuracy than the single method.')\n",
    "elif (accuracy1 < accuracy2):\n",
    "    print('\\nThe single method has a better accuracy than the boosting method.')\n",
    "elif (accuracy1 == accuracy2):\n",
    "    print('The single method and the boosting method as same accuracies.')\n",
    "print('The difference of accuracies between the single method and the boosting is :', abs(accuracy2 - accuracy1))"
   ],
   "metadata": {
    "collapsed": false
   }
  },
  {
   "cell_type": "markdown",
   "source": [
    "Global observations :"
   ],
   "metadata": {
    "collapsed": false
   }
  },
  {
   "cell_type": "markdown",
   "source": [
    "## C) Stacking method"
   ],
   "metadata": {
    "collapsed": false
   }
  },
  {
   "cell_type": "markdown",
   "source": [
    "We import the needed libraries"
   ],
   "metadata": {
    "collapsed": false
   }
  },
  {
   "cell_type": "code",
   "execution_count": 108,
   "outputs": [],
   "source": [
    "import pandas as pd\n",
    "from mlxtend.classifier import StackingClassifier\n",
    "from sklearn.model_selection import train_test_split\n",
    "from sklearn.linear_model import LogisticRegression\n",
    "from sklearn.neighbors import KNeighborsClassifier\n",
    "from sklearn.naive_bayes import GaussianNB\n",
    "from sklearn.metrics import accuracy_score\n",
    "from sklearn.linear_model import SGDClassifier\n",
    "from sklearn.tree import DecisionTreeClassifier\n",
    "import sklearn.ensemble as se"
   ],
   "metadata": {
    "collapsed": false
   }
  },
  {
   "cell_type": "markdown",
   "source": [
    "Firstly, we add some prediction functions"
   ],
   "metadata": {
    "collapsed": false
   }
  },
  {
   "cell_type": "code",
   "execution_count": 115,
   "outputs": [
    {
     "name": "stdout",
     "output_type": "stream",
     "text": [
      "Accuracy score of the KNeighbors Classifier is: 0.8088737201365188\n",
      "Accuracy of the Naive Bayes Classifier: 0.7767918088737201\n",
      "Accuracy score of the SGD Classifier is: 0.7607508532423208\n",
      "Accuracy of the Decision Tree Classifier: 0.7747440273037542\n"
     ]
    }
   ],
   "source": [
    "KNC = KNeighborsClassifier(n_neighbors=2)  # initialising KNeighbors Classifier\n",
    "model_kNeighborsClassifier = KNC.fit(X_train, y_train)  # fitting Training Set\n",
    "pred_knc = model_kNeighborsClassifier.predict(X_test)  # Predicting on test dataset\n",
    "acc_knc = accuracy_score(y_test, pred_knc)  # evaluating accuracy score\n",
    "print('Accuracy score of the KNeighbors Classifier is:', acc_knc)\n",
    "\n",
    "###\n",
    "\n",
    "NB = GaussianNB()  # initialising Naive Bayes\n",
    "model_NaiveBayes = NB.fit(X_train, y_train)\n",
    "pred_nb = model_NaiveBayes.predict(X_test)\n",
    "acc_nb = accuracy_score(y_test, pred_nb)\n",
    "print('Accuracy of the Naive Bayes Classifier:', acc_nb)\n",
    "\n",
    "###\n",
    "\n",
    "SGD = SGDClassifier(loss='log', random_state=0)\n",
    "model_SGD_Classifier = SGD.fit(X_train, y_train)  # fitting Training Set\n",
    "pred_sgd = model_SGD_Classifier.predict(X_test)  # Predicting on test dataset\n",
    "acc_sgd = accuracy_score(y_test, pred_sgd)  # evaluating accuracy score\n",
    "print('Accuracy score of the SGD Classifier is:', acc_sgd)\n",
    "\n",
    "###\n",
    "\n",
    "TREE = DecisionTreeClassifier(random_state=0)\n",
    "model_Tree = TREE.fit(X_train, y_train)\n",
    "pred_tree = model_Tree.predict(X_test)\n",
    "acc_tree = accuracy_score(y_test, pred_tree)\n",
    "print('Accuracy of the Decision Tree Classifier:', acc_tree)"
   ],
   "metadata": {
    "collapsed": false
   }
  },
  {
   "cell_type": "markdown",
   "source": [
    "Then, we put these functions into a classifier (here the Stacking classifier) and train it."
   ],
   "metadata": {
    "collapsed": false
   }
  },
  {
   "cell_type": "code",
   "execution_count": 116,
   "outputs": [
    {
     "name": "stdout",
     "output_type": "stream",
     "text": [
      "Accuracy score of the Stacked model: 0.7805460750853243\n"
     ]
    }
   ],
   "source": [
    "lr = LogisticRegression()  # defining meta-classifier\n",
    "clf_stack = StackingClassifier(classifiers=[KNC, NB, SGD, TREE], meta_classifier=lr, use_probas=True,\n",
    "                               use_features_in_secondary=True)  #Main StacklingClassifier from mlxtend library\n",
    "\n",
    "model_stack = clf_stack.fit(X_train, y_train)  # training of stacked model\n",
    "pred_stack = model_stack.predict(X_test)  # predictions on test data using stacked model\n",
    "\n",
    "acc_stack = accuracy_score(y_test, pred_stack)  # evaluating accuracy\n",
    "print('Accuracy score of the Stacked model:', acc_stack)"
   ],
   "metadata": {
    "collapsed": false
   }
  },
  {
   "cell_type": "markdown",
   "source": [
    "Stacking method using scikit-learn"
   ],
   "metadata": {
    "collapsed": false
   }
  },
  {
   "cell_type": "code",
   "execution_count": 118,
   "outputs": [
    {
     "name": "stdout",
     "output_type": "stream",
     "text": [
      "Accuracy of the Stacking model (using scikit-learn): 0.7795221843003413\n"
     ]
    }
   ],
   "source": [
    "model_stack_bis = se.StackingClassifier([('SGD', SGD),\n",
    "                                         ('Tree', TREE),\n",
    "                                         ('KNC', KNC)],\n",
    "                                        final_estimator=KNeighborsClassifier())\n",
    "\n",
    "model_stack_bis.fit(X_train, y_train)\n",
    "score = model_stack_bis.score(X_test, y_test)\n",
    "\n",
    "print(\"Accuracy of the Stacking model (using scikit-learn):\", score)"
   ],
   "metadata": {
    "collapsed": false
   }
  },
  {
   "cell_type": "markdown",
   "source": [
    "Global observations :"
   ],
   "metadata": {
    "collapsed": false
   }
  }
 ],
 "metadata": {
  "kernelspec": {
   "display_name": "Python 3 (ipykernel)",
   "language": "python",
   "name": "python3"
  },
  "language_info": {
   "codemirror_mode": {
    "name": "ipython",
    "version": 3
   },
   "file_extension": ".py",
   "mimetype": "text/x-python",
   "name": "python",
   "nbconvert_exporter": "python",
   "pygments_lexer": "ipython3",
   "version": "3.9.13"
  }
 },
 "nbformat": 4,
 "nbformat_minor": 5
}
