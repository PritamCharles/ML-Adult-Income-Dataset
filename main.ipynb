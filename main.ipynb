{
 "cells": [
  {
   "cell_type": "markdown",
   "id": "07d3d006",
   "metadata": {},
   "source": [
    " #"
   ]
  },
  {
   "cell_type": "markdown",
   "id": "1090a221",
   "metadata": {},
   "source": [
    "# Ma422 Project - Adult income dataset"
   ]
  },
  {
   "cell_type": "markdown",
   "id": "3b2e6f4f",
   "metadata": {},
   "source": [
    "#### Objective : The objective is to predict, according to some characteristics, if a person earns more than $50K per year or not\n"
   ]
  },
  {
   "cell_type": "markdown",
   "id": "e76f1ecb",
   "metadata": {},
   "source": [
    "We import the librairies we need to read the datas and analyse it."
   ]
  },
  {
   "cell_type": "code",
   "execution_count": 1,
   "id": "66290795",
   "metadata": {},
   "outputs": [],
   "source": [
    "import pandas as pd\n",
    "from matplotlib import pyplot as plt\n",
    "import seaborn as sns\n",
    "import numpy as np\n",
    "import itertools\n",
    "import warnings\n",
    "\n",
    "warnings.filterwarnings('ignore')"
   ]
  },
  {
   "cell_type": "markdown",
   "id": "38b61158",
   "metadata": {},
   "source": [
    "We open and read the datas file."
   ]
  },
  {
   "cell_type": "code",
   "execution_count": 2,
   "id": "e0c382d4",
   "metadata": {},
   "outputs": [
    {
     "name": "stdout",
     "output_type": "stream",
     "text": [
      "   age  workclass  fnlwgt     education  educational-num      marital-status  \\\n",
      "0   25    Private  226802          11th                7       Never-married   \n",
      "1   38    Private   89814       HS-grad                9  Married-civ-spouse   \n",
      "2   28  Local-gov  336951    Assoc-acdm               12  Married-civ-spouse   \n",
      "3   44    Private  160323  Some-college               10  Married-civ-spouse   \n",
      "4   18          ?  103497  Some-college               10       Never-married   \n",
      "\n",
      "          occupation relationship   race  gender  capital-gain  capital-loss  \\\n",
      "0  Machine-op-inspct    Own-child  Black    Male             0             0   \n",
      "1    Farming-fishing      Husband  White    Male             0             0   \n",
      "2    Protective-serv      Husband  White    Male             0             0   \n",
      "3  Machine-op-inspct      Husband  Black    Male          7688             0   \n",
      "4                  ?    Own-child  White  Female             0             0   \n",
      "\n",
      "   hours-per-week native-country income  \n",
      "0              40  United-States  <=50K  \n",
      "1              50  United-States  <=50K  \n",
      "2              40  United-States   >50K  \n",
      "3              40  United-States   >50K  \n",
      "4              30  United-States  <=50K  \n"
     ]
    }
   ],
   "source": [
    "df = pd.read_csv('src/datas/adult.csv')\n",
    "print(df.head())"
   ]
  },
  {
   "cell_type": "markdown",
   "id": "e97399e4",
   "metadata": {},
   "source": [
    "## 1 - Quick dataset analysis"
   ]
  },
  {
   "cell_type": "markdown",
   "id": "ca714359",
   "metadata": {},
   "source": [
    "Now that the dataset is imported in the jupyter file, we can start exploring, digging in the datas to see what it is composed of, understand the variables in it, the possible links between them, find the target etc. This step is very important because it allows the user to understand the meaning of datasets, see if information has to be changed, or removed and also start thinking about how datas should be used with the future implemented model.\n",
    "\n",
    "### A) Dataset cleaning and verifications\n",
    "\n"
   ]
  },
  {
   "cell_type": "markdown",
   "id": "8f8fae70",
   "metadata": {},
   "source": [
    "First, we check if there are repetitions of observations in the dataset. If yes, we erase them with the method `drop_duplicates` from `pandas` library."
   ]
  },
  {
   "cell_type": "code",
   "execution_count": 3,
   "id": "e9740eea",
   "metadata": {},
   "outputs": [
    {
     "name": "stdout",
     "output_type": "stream",
     "text": [
      "       age     workclass  fnlwgt     education  educational-num  \\\n",
      "0       25       Private  226802          11th                7   \n",
      "1       38       Private   89814       HS-grad                9   \n",
      "2       28     Local-gov  336951    Assoc-acdm               12   \n",
      "3       44       Private  160323  Some-college               10   \n",
      "4       18             ?  103497  Some-college               10   \n",
      "...    ...           ...     ...           ...              ...   \n",
      "48837   27       Private  257302    Assoc-acdm               12   \n",
      "48838   40       Private  154374       HS-grad                9   \n",
      "48839   58       Private  151910       HS-grad                9   \n",
      "48840   22       Private  201490       HS-grad                9   \n",
      "48841   52  Self-emp-inc  287927       HS-grad                9   \n",
      "\n",
      "           marital-status         occupation relationship   race  gender  \\\n",
      "0           Never-married  Machine-op-inspct    Own-child  Black    Male   \n",
      "1      Married-civ-spouse    Farming-fishing      Husband  White    Male   \n",
      "2      Married-civ-spouse    Protective-serv      Husband  White    Male   \n",
      "3      Married-civ-spouse  Machine-op-inspct      Husband  Black    Male   \n",
      "4           Never-married                  ?    Own-child  White  Female   \n",
      "...                   ...                ...          ...    ...     ...   \n",
      "48837  Married-civ-spouse       Tech-support         Wife  White  Female   \n",
      "48838  Married-civ-spouse  Machine-op-inspct      Husband  White    Male   \n",
      "48839             Widowed       Adm-clerical    Unmarried  White  Female   \n",
      "48840       Never-married       Adm-clerical    Own-child  White    Male   \n",
      "48841  Married-civ-spouse    Exec-managerial         Wife  White  Female   \n",
      "\n",
      "       capital-gain  capital-loss  hours-per-week native-country income  \n",
      "0                 0             0              40  United-States  <=50K  \n",
      "1                 0             0              50  United-States  <=50K  \n",
      "2                 0             0              40  United-States   >50K  \n",
      "3              7688             0              40  United-States   >50K  \n",
      "4                 0             0              30  United-States  <=50K  \n",
      "...             ...           ...             ...            ...    ...  \n",
      "48837             0             0              38  United-States  <=50K  \n",
      "48838             0             0              40  United-States   >50K  \n",
      "48839             0             0              40  United-States  <=50K  \n",
      "48840             0             0              20  United-States  <=50K  \n",
      "48841         15024             0              40  United-States   >50K  \n",
      "\n",
      "[48790 rows x 15 columns]\n"
     ]
    }
   ],
   "source": [
    "df = df.drop_duplicates()\n",
    "print(df)"
   ]
  },
  {
   "cell_type": "code",
   "execution_count": 4,
   "id": "0e14d868",
   "metadata": {},
   "outputs": [],
   "source": [
    "# Remplace \"?\" by NaN\n",
    "df.replace('?', np.nan, inplace=True)"
   ]
  },
  {
   "cell_type": "markdown",
   "id": "b04182ce",
   "metadata": {},
   "source": [
    "Then, we remove them in order to have valid datas to send to the model.\n",
    "We will use the method `isna` from `pandas` library to list the missing values."
   ]
  },
  {
   "cell_type": "code",
   "execution_count": 5,
   "id": "4351179c",
   "metadata": {},
   "outputs": [
    {
     "data": {
      "text/plain": "<Figure size 1080x648 with 1 Axes>",
      "image/png": "[encoded data removed]"
     },
     "metadata": {},
     "output_type": "display_data"
    },
    {
     "name": "stdout",
     "output_type": "stream",
     "text": [
      "age                0.000000\n",
      "fnlwgt             0.000000\n",
      "education          0.000000\n",
      "educational-num    0.000000\n",
      "marital-status     0.000000\n",
      "relationship       0.000000\n",
      "race               0.000000\n",
      "gender             0.000000\n",
      "capital-gain       0.000000\n",
      "capital-loss       0.000000\n",
      "hours-per-week     0.000000\n",
      "income             0.000000\n",
      "native-country     0.017545\n",
      "workclass          0.057286\n",
      "occupation         0.057491\n",
      "dtype: float64\n"
     ]
    }
   ],
   "source": [
    "plt.figure(figsize=(15, 9))\n",
    "sns.heatmap(df.isna(), cbar=False)\n",
    "plt.show()\n",
    "\n",
    "percentageOfNaNValues = (df.isna().sum() / df.shape[0]).sort_values(ascending=True)\n",
    "\n",
    "print(percentageOfNaNValues)  # Normalized values between O and 1"
   ]
  },
  {
   "cell_type": "markdown",
   "source": [
    "We use the method `dropna` to remove the lines containing at least one missing value."
   ],
   "metadata": {
    "collapsed": false
   }
  },
  {
   "cell_type": "code",
   "execution_count": 6,
   "outputs": [
    {
     "name": "stdout",
     "output_type": "stream",
     "text": [
      "       age     workclass  fnlwgt     education  educational-num  \\\n",
      "0       25       Private  226802          11th                7   \n",
      "1       38       Private   89814       HS-grad                9   \n",
      "2       28     Local-gov  336951    Assoc-acdm               12   \n",
      "3       44       Private  160323  Some-college               10   \n",
      "5       34       Private  198693          10th                6   \n",
      "...    ...           ...     ...           ...              ...   \n",
      "48837   27       Private  257302    Assoc-acdm               12   \n",
      "48838   40       Private  154374       HS-grad                9   \n",
      "48839   58       Private  151910       HS-grad                9   \n",
      "48840   22       Private  201490       HS-grad                9   \n",
      "48841   52  Self-emp-inc  287927       HS-grad                9   \n",
      "\n",
      "           marital-status         occupation   relationship   race  gender  \\\n",
      "0           Never-married  Machine-op-inspct      Own-child  Black    Male   \n",
      "1      Married-civ-spouse    Farming-fishing        Husband  White    Male   \n",
      "2      Married-civ-spouse    Protective-serv        Husband  White    Male   \n",
      "3      Married-civ-spouse  Machine-op-inspct        Husband  Black    Male   \n",
      "5           Never-married      Other-service  Not-in-family  White    Male   \n",
      "...                   ...                ...            ...    ...     ...   \n",
      "48837  Married-civ-spouse       Tech-support           Wife  White  Female   \n",
      "48838  Married-civ-spouse  Machine-op-inspct        Husband  White    Male   \n",
      "48839             Widowed       Adm-clerical      Unmarried  White  Female   \n",
      "48840       Never-married       Adm-clerical      Own-child  White    Male   \n",
      "48841  Married-civ-spouse    Exec-managerial           Wife  White  Female   \n",
      "\n",
      "       capital-gain  capital-loss  hours-per-week native-country income  \n",
      "0                 0             0              40  United-States  <=50K  \n",
      "1                 0             0              50  United-States  <=50K  \n",
      "2                 0             0              40  United-States   >50K  \n",
      "3              7688             0              40  United-States   >50K  \n",
      "5                 0             0              30  United-States  <=50K  \n",
      "...             ...           ...             ...            ...    ...  \n",
      "48837             0             0              38  United-States  <=50K  \n",
      "48838             0             0              40  United-States   >50K  \n",
      "48839             0             0              40  United-States  <=50K  \n",
      "48840             0             0              20  United-States  <=50K  \n",
      "48841         15024             0              40  United-States   >50K  \n",
      "\n",
      "[45175 rows x 15 columns]\n"
     ]
    }
   ],
   "source": [
    "# Removing the rows containing the missing values\n",
    "df.dropna(inplace=True)\n",
    "print(df)"
   ],
   "metadata": {
    "collapsed": false
   }
  },
  {
   "cell_type": "code",
   "execution_count": 7,
   "outputs": [
    {
     "data": {
      "text/plain": "<Figure size 1080x648 with 1 Axes>",
      "image/png": "[encoded data removed]"
     },
     "metadata": {},
     "output_type": "display_data"
    },
    {
     "name": "stdout",
     "output_type": "stream",
     "text": [
      "age                0.0\n",
      "workclass          0.0\n",
      "fnlwgt             0.0\n",
      "education          0.0\n",
      "educational-num    0.0\n",
      "marital-status     0.0\n",
      "occupation         0.0\n",
      "relationship       0.0\n",
      "race               0.0\n",
      "gender             0.0\n",
      "capital-gain       0.0\n",
      "capital-loss       0.0\n",
      "hours-per-week     0.0\n",
      "native-country     0.0\n",
      "income             0.0\n",
      "dtype: float64\n"
     ]
    }
   ],
   "source": [
    "plt.figure(figsize=(15, 9))\n",
    "sns.heatmap(df.isna(), cbar=False)\n",
    "plt.show()\n",
    "\n",
    "percentageOfNaNValues = (df.isna().sum() / df.shape[0]).sort_values(ascending=True)\n",
    "\n",
    "print(percentageOfNaNValues)"
   ],
   "metadata": {
    "collapsed": false
   }
  },
  {
   "cell_type": "markdown",
   "id": "80fbaf3c",
   "metadata": {},
   "source": [
    "### B) Analysis of the dataset"
   ]
  },
  {
   "cell_type": "markdown",
   "source": [
    "We can start by displaying some charcteristics in order to know the size of the dataset and what's inside."
   ],
   "metadata": {
    "collapsed": false
   }
  },
  {
   "cell_type": "code",
   "execution_count": 8,
   "id": "a8c41713",
   "metadata": {},
   "outputs": [
    {
     "name": "stdout",
     "output_type": "stream",
     "text": [
      "Column names : Index(['age', 'workclass', 'fnlwgt', 'education', 'educational-num',\n",
      "       'marital-status', 'occupation', 'relationship', 'race', 'gender',\n",
      "       'capital-gain', 'capital-loss', 'hours-per-week', 'native-country',\n",
      "       'income'],\n",
      "      dtype='object') \n",
      "\n",
      "Dataset Shape : (45175, 15) \n",
      "\n",
      "Variables Types : age                 int64\n",
      "workclass          object\n",
      "fnlwgt              int64\n",
      "education          object\n",
      "educational-num     int64\n",
      "marital-status     object\n",
      "occupation         object\n",
      "relationship       object\n",
      "race               object\n",
      "gender             object\n",
      "capital-gain        int64\n",
      "capital-loss        int64\n",
      "hours-per-week      int64\n",
      "native-country     object\n",
      "income             object\n",
      "dtype: object \n",
      "\n",
      "Variables Types Count : object    9\n",
      "int64     6\n",
      "dtype: int64\n"
     ]
    }
   ],
   "source": [
    "columnNames = df.columns\n",
    "datasetShape = df.shape\n",
    "variablesTypes = df.dtypes\n",
    "variablesTypesCount = df.dtypes.value_counts()\n",
    "\n",
    "print('Column names :', columnNames, '\\n')\n",
    "print('Dataset Shape :', datasetShape, '\\n')\n",
    "print('Variables Types :', variablesTypes, '\\n')\n",
    "print('Variables Types Count :', variablesTypesCount)"
   ]
  },
  {
   "cell_type": "markdown",
   "id": "38d98767",
   "metadata": {},
   "source": [
    "### C) Analysis of the target variable"
   ]
  },
  {
   "cell_type": "code",
   "execution_count": 9,
   "id": "ed4699ef",
   "metadata": {},
   "outputs": [
    {
     "name": "stdout",
     "output_type": "stream",
     "text": [
      "Repartition of the target :\n",
      " <=50K    33973\n",
      ">50K     11202\n",
      "Name: income, dtype: int64\n",
      "\n",
      "Type of this variable: object\n"
     ]
    },
    {
     "data": {
      "text/plain": "<AxesSubplot:ylabel='income'>"
     },
     "execution_count": 9,
     "metadata": {},
     "output_type": "execute_result"
    },
    {
     "data": {
      "text/plain": "<Figure size 432x288 with 1 Axes>",
      "image/png": "[encoded data removed]"
     },
     "metadata": {},
     "output_type": "display_data"
    }
   ],
   "source": [
    "count_target = df['income'].value_counts()\n",
    "target_type = df['income'].dtype\n",
    "\n",
    "print('Repartition of the target :\\n', count_target)\n",
    "print('\\nType of this variable:', target_type)\n",
    "count_target.plot.pie()"
   ]
  },
  {
   "cell_type": "markdown",
   "id": "36c11f4f",
   "metadata": {},
   "source": [
    "## 2 - Pre-processing"
   ]
  },
  {
   "cell_type": "code",
   "execution_count": 10,
   "id": "95c9cf02",
   "metadata": {},
   "outputs": [],
   "source": [
    "from sklearn import preprocessing\n",
    "from sklearn.model_selection import train_test_split"
   ]
  },
  {
   "cell_type": "markdown",
   "source": [
    "First, we reduce the size of the dataset in order to avoid high CPU usage and high cumpoutation time. We could take for instance 10000 observations for our study."
   ],
   "metadata": {
    "collapsed": false
   }
  },
  {
   "cell_type": "code",
   "execution_count": 11,
   "outputs": [
    {
     "name": "stdout",
     "output_type": "stream",
     "text": [
      "(10000, 15)\n"
     ]
    }
   ],
   "source": [
    "# Reducing the size of the dataset\n",
    "df = df.head(10000)\n",
    "df_copy = df.copy()\n",
    "print(df.shape)"
   ],
   "metadata": {
    "collapsed": false
   }
  },
  {
   "cell_type": "markdown",
   "id": "4daa53ab",
   "metadata": {},
   "source": [
    "Encoding the data"
   ]
  },
  {
   "cell_type": "code",
   "execution_count": 12,
   "id": "d6b4fec6",
   "metadata": {},
   "outputs": [
    {
     "name": "stdout",
     "output_type": "stream",
     "text": [
      "       age  workclass  fnlwgt  education  educational-num  marital-status  \\\n",
      "0       25          2  226802          1                7               4   \n",
      "1       38          2   89814         11                9               2   \n",
      "2       28          1  336951          7               12               2   \n",
      "3       44          2  160323         15               10               2   \n",
      "5       34          2  198693          0                6               4   \n",
      "...    ...        ...     ...        ...              ...             ...   \n",
      "10815   30          2  272432         11                9               4   \n",
      "10816   30          5  182271         11                9               0   \n",
      "10817   50          2  193746         11                9               2   \n",
      "10818   49          4  203505         11                9               0   \n",
      "10819   41          2  118484         15               10               5   \n",
      "\n",
      "       occupation  relationship  race  gender  capital-gain  capital-loss  \\\n",
      "0               6             3     2       1             0             0   \n",
      "1               4             0     4       1             0             0   \n",
      "2              10             0     4       1             0             0   \n",
      "3               6             0     2       1          7688             0   \n",
      "5               7             1     4       1             0             0   \n",
      "...           ...           ...   ...     ...           ...           ...   \n",
      "10815          12             4     4       0             0             0   \n",
      "10816          10             1     4       1             0             0   \n",
      "10817           3             0     4       1             0             0   \n",
      "10818          11             1     4       0             0             0   \n",
      "10819          11             1     4       1             0             0   \n",
      "\n",
      "       hours-per-week  native-country  income  \n",
      "0                  40              37       0  \n",
      "1                  50              37       0  \n",
      "2                  40              37       1  \n",
      "3                  40              37       1  \n",
      "5                  30              37       0  \n",
      "...               ...             ...     ...  \n",
      "10815              40              37       0  \n",
      "10816              40              37       0  \n",
      "10817              60              37       0  \n",
      "10818              30              37       0  \n",
      "10819              40              37       0  \n",
      "\n",
      "[10000 rows x 15 columns]\n"
     ]
    }
   ],
   "source": [
    "# LabelEncoding\n",
    "encoder = preprocessing.LabelEncoder()\n",
    "features = ['workclass', 'education', 'occupation', 'race', 'gender', 'native-country', 'income','marital-status','relationship']\n",
    "df[features] = df[features].apply(encoder.fit_transform)\n",
    "print(df)"
   ]
  },
  {
   "cell_type": "markdown",
   "source": [
    "We will create a dictionnary that will store the encoded value of the original values. It could be useful if we want to do predictions on new observations, to encode the new raw datas."
   ],
   "metadata": {
    "collapsed": false
   }
  },
  {
   "cell_type": "code",
   "execution_count": 13,
   "outputs": [],
   "source": [
    "# Build a dico with original values as key and their encoded values as value (WITH THE REDUCED DATAFRAME)\n",
    "numerical_variables = ['age', 'capital-gain', 'capital-loss', 'hours-per-week', 'fnlwgt']\n",
    "categorical_variables = ['workclass', 'education', 'occupation', 'race', 'gender', 'native-country', 'income','marital-status','relationship']\n",
    "dicoEncoding = {}\n",
    "\n",
    "for varOri, varEnc in itertools.zip_longest(df_copy, df, fillvalue=''):  # Iterate in the original dataset and the encoded one\n",
    "    # Looking for the categorical variables\n",
    "    if (varOri == varEnc) and (varOri in categorical_variables) and (varEnc in categorical_variables):\n",
    "        dicoVar = {}  # Create a dictionary to store all combinations\n",
    "        for elem1, elem2 in itertools.zip_longest(df_copy[varOri], df[varEnc], fillvalue=''):  # Iterate in columns of the original and encoded datasets\n",
    "            dicoVar[elem1] = elem2  # Assign the encoded value corresponding to the original value\n",
    "        dicoEncoding[varOri] = dicoVar  # Store the dictionary (columns) in the general dictionary\n",
    "\n",
    "    # Looking for the numerical variables\n",
    "    if (varOri == varEnc) and (varOri in numerical_variables) and (varEnc in numerical_variables):\n",
    "        dicoVar = {}\n",
    "        for elem1, elem2 in itertools.zip_longest(df_copy[varOri], df[varEnc], fillvalue=''):\n",
    "            dicoVar[elem1] = elem2\n",
    "        dicoEncoding[varOri] = dicoVar\n",
    "\n",
    "#print(dicoEncoding)"
   ],
   "metadata": {
    "collapsed": false
   }
  },
  {
   "cell_type": "markdown",
   "id": "8175ae81",
   "metadata": {},
   "source": [
    "Now, we can compute the correlation to see the correlations between the variables."
   ]
  },
  {
   "cell_type": "code",
   "execution_count": 14,
   "id": "d1f7971d",
   "metadata": {},
   "outputs": [
    {
     "data": {
      "text/plain": "<Figure size 2880x1440 with 2 Axes>",
      "image/png": "[encoded data removed]"
     },
     "metadata": {},
     "output_type": "display_data"
    }
   ],
   "source": [
    "# Compute the correlation matrix\n",
    "corr_mat = df.corr()\n",
    "\n",
    "# Set up the figure\n",
    "fig, ax = plt.subplots(figsize=(40, 20))\n",
    "\n",
    "# Create the heatmap\n",
    "sns.heatmap(corr_mat, cmap='RdYlBu', annot=True, fmt='.2f', vmin=-1, vmax=1, square=True, ax=ax)\n",
    "\n",
    "# Set the title\n",
    "ax.set_title('Correlation Matrix')\n",
    "\n",
    "# Show the plot\n",
    "plt.show()"
   ]
  },
  {
   "cell_type": "markdown",
   "id": "fb138fbb",
   "metadata": {},
   "source": [
    "After analyzing the correlation matrix, we can drop the useless features."
   ]
  },
  {
   "cell_type": "code",
   "execution_count": 15,
   "id": "a419fb92",
   "metadata": {},
   "outputs": [
    {
     "name": "stdout",
     "output_type": "stream",
     "text": [
      "       age  education  educational-num  marital-status  relationship  gender  \\\n",
      "0       25          1                7               4             3       1   \n",
      "1       38         11                9               2             0       1   \n",
      "2       28          7               12               2             0       1   \n",
      "3       44         15               10               2             0       1   \n",
      "5       34          0                6               4             1       1   \n",
      "...    ...        ...              ...             ...           ...     ...   \n",
      "10815   30         11                9               4             4       0   \n",
      "10816   30         11                9               0             1       1   \n",
      "10817   50         11                9               2             0       1   \n",
      "10818   49         11                9               0             1       0   \n",
      "10819   41         15               10               5             1       1   \n",
      "\n",
      "       capital-gain  capital-loss  hours-per-week  income  \n",
      "0                 0             0              40       0  \n",
      "1                 0             0              50       0  \n",
      "2                 0             0              40       1  \n",
      "3              7688             0              40       1  \n",
      "5                 0             0              30       0  \n",
      "...             ...           ...             ...     ...  \n",
      "10815             0             0              40       0  \n",
      "10816             0             0              40       0  \n",
      "10817             0             0              60       0  \n",
      "10818             0             0              30       0  \n",
      "10819             0             0              40       0  \n",
      "\n",
      "[10000 rows x 10 columns]\n"
     ]
    }
   ],
   "source": [
    "df = df.drop(['workclass','occupation','native-country','race', 'fnlwgt'], axis=1)\n",
    "print(df)"
   ]
  },
  {
   "cell_type": "markdown",
   "id": "785148c4",
   "metadata": {},
   "source": [
    "We can finally build the matrices X and y and the train / test sets"
   ]
  },
  {
   "cell_type": "code",
   "execution_count": 16,
   "id": "b1e2358a",
   "metadata": {},
   "outputs": [
    {
     "name": "stdout",
     "output_type": "stream",
     "text": [
      "       age  education  educational-num  marital-status  relationship  gender  \\\n",
      "0       25          1                7               4             3       1   \n",
      "1       38         11                9               2             0       1   \n",
      "2       28          7               12               2             0       1   \n",
      "3       44         15               10               2             0       1   \n",
      "5       34          0                6               4             1       1   \n",
      "...    ...        ...              ...             ...           ...     ...   \n",
      "10815   30         11                9               4             4       0   \n",
      "10816   30         11                9               0             1       1   \n",
      "10817   50         11                9               2             0       1   \n",
      "10818   49         11                9               0             1       0   \n",
      "10819   41         15               10               5             1       1   \n",
      "\n",
      "       capital-gain  capital-loss  hours-per-week  \n",
      "0                 0             0              40  \n",
      "1                 0             0              50  \n",
      "2                 0             0              40  \n",
      "3              7688             0              40  \n",
      "5                 0             0              30  \n",
      "...             ...           ...             ...  \n",
      "10815             0             0              40  \n",
      "10816             0             0              40  \n",
      "10817             0             0              60  \n",
      "10818             0             0              30  \n",
      "10819             0             0              40  \n",
      "\n",
      "[10000 rows x 9 columns]\n",
      "0        0\n",
      "1        0\n",
      "2        1\n",
      "3        1\n",
      "5        0\n",
      "        ..\n",
      "10815    0\n",
      "10816    0\n",
      "10817    0\n",
      "10818    0\n",
      "10819    0\n",
      "Name: income, Length: 10000, dtype: int32\n",
      "(7000, 9)\n",
      "(3000, 9)\n"
     ]
    }
   ],
   "source": [
    "X = df.drop(['income'], axis=1)\n",
    "y = df['income']\n",
    "\n",
    "print(X)\n",
    "print(y)\n",
    "\n",
    "# Samples for training and testing\n",
    "X_train, X_test, y_train, y_test = train_test_split(X, y, test_size=0.3, train_size=0.7)\n",
    "print(X_train.shape)\n",
    "print(X_test.shape)"
   ]
  },
  {
   "cell_type": "markdown",
   "id": "ade74e95",
   "metadata": {},
   "source": [
    "## 3 - Ensemble learning methods"
   ]
  },
  {
   "cell_type": "markdown",
   "id": "7b574f29",
   "metadata": {},
   "source": [
    "### A) Bagging"
   ]
  },
  {
   "cell_type": "code",
   "execution_count": 17,
   "id": "b8425d97",
   "metadata": {},
   "outputs": [],
   "source": [
    "from collections import Counter\n",
    "from sklearn.ensemble import BaggingClassifier\n",
    "from sklearn.neighbors import KNeighborsClassifier\n",
    "from sklearn.linear_model import LogisticRegression\n",
    "from sklearn.tree import DecisionTreeClassifier\n",
    "from sklearn.model_selection import GridSearchCV\n",
    "from sklearn.metrics import accuracy_score"
   ]
  },
  {
   "cell_type": "markdown",
   "id": "f1302a2c",
   "metadata": {},
   "source": [
    "We can try several methods and compare their performances.\n"
   ]
  },
  {
   "cell_type": "markdown",
   "id": "798f0ef9",
   "metadata": {},
   "source": [
    "Bagging method from scratch."
   ]
  },
  {
   "cell_type": "code",
   "execution_count": 18,
   "id": "0c4ae2dd",
   "metadata": {},
   "outputs": [
    {
     "name": "stdout",
     "output_type": "stream",
     "text": [
      "Accuracy for Bagging from Scratch with KNN : 0.8283333333333334\n",
      "Accuracy for Bagging from Scratch with LR : 0.7956666666666666\n",
      "Accuracy for Bagging from Scratch with DTC : 0.8256666666666667\n"
     ]
    }
   ],
   "source": [
    "def BaggingScratch(X_train, y_train, X_test, base_estimator, n_estimators=100):\n",
    "    y_pred = np.zeros((X_test.shape[0],\n",
    "                       n_estimators))  # Initialization of the array which will store all the predictions for n estimators\n",
    "\n",
    "    for i in range(n_estimators):\n",
    "        num = np.random.choice(X_train.index.values, size=X_train.shape[0], replace=True)  # Resample with replacement\n",
    "        X_bstr = X_train.loc[num]  # Access to the row which has index num\n",
    "        y_bstr = y_train.loc[num]  # Access to the column which has index num\n",
    "        base_estimator.fit(X_bstr, y_bstr)  # Fitting with a base_estimator\n",
    "        y_pred[:, i] = base_estimator.predict(X_test)  # Writing the predictions results in y_pred array\n",
    "\n",
    "    # Aggregate the predictions using majority voting\n",
    "    y_pred_majority = np.zeros(X_test.shape[0])\n",
    "    for i in range(X_test.shape[0]):\n",
    "        y_pred_i = y_pred[i, :]\n",
    "        c = Counter(y_pred_i)  # Read all the values in y_pred_i\n",
    "        y_pred_majority[i] = c.most_common(1)[0][\n",
    "            0]  # Getting the most common element and its count (passing 1 as argument and [0][0] to get the most common element)\n",
    "\n",
    "    return y_pred_majority\n",
    "\n",
    "\n",
    "knn = KNeighborsClassifier()\n",
    "lr = LogisticRegression()\n",
    "dtc = DecisionTreeClassifier()\n",
    "y_pred_knn = BaggingScratch(X_train=X_train, y_train=y_train, X_test=X_test, base_estimator=knn)\n",
    "y_pred_lr = BaggingScratch(X_train=X_train, y_train=y_train, X_test=X_test, base_estimator=lr)\n",
    "y_pred_dtc = BaggingScratch(X_train=X_train, y_train=y_train, X_test=X_test, base_estimator=dtc)\n",
    "# number of estimators is set to 100 by default\n",
    "\n",
    "accuracyScratch_KNN = accuracy_score(y_test, y_pred_knn)\n",
    "accuracyScratch_LR = accuracy_score(y_test, y_pred_lr)\n",
    "accuracyScratch_DTC = accuracy_score(y_test, y_pred_dtc)\n",
    "print('Accuracy for Bagging from Scratch with KNN :', accuracyScratch_KNN)\n",
    "print('Accuracy for Bagging from Scratch with LR :', accuracyScratch_LR)\n",
    "print('Accuracy for Bagging from Scratch with DTC :', accuracyScratch_DTC)"
   ]
  },
  {
   "cell_type": "markdown",
   "id": "45a959d2",
   "metadata": {},
   "source": [
    "Bagging method using scikit-learn."
   ]
  },
  {
   "cell_type": "markdown",
   "id": "716daf46",
   "metadata": {},
   "source": [
    "- We, first, try the method with the KNN estimator, as it is a widely used supervised learning method."
   ]
  },
  {
   "cell_type": "code",
   "execution_count": 19,
   "id": "653d06b6",
   "metadata": {},
   "outputs": [
    {
     "name": "stdout",
     "output_type": "stream",
     "text": [
      "Bagging KNN\n",
      "Best value of n_estimators: 10\n",
      "Accuracy for bagging with KNN: 0.8246666666666667\n"
     ]
    }
   ],
   "source": [
    "# Bagging KNN\n",
    "# Defining different values of n_estimators to try\n",
    "n_estimators = [10, 20, 50, 100, 200]\n",
    "\n",
    "# Defining the parameter grid for the Bagging Classifier\n",
    "param_grid = {'n_estimators': n_estimators, 'base_estimator': [KNeighborsClassifier()]}\n",
    "\n",
    "# Performing Grid Search to find the best value of n_estimators for the bagging classifier\n",
    "model1_KNN_bag = GridSearchCV(BaggingClassifier(), param_grid=param_grid)\n",
    "model1_KNN_bag.fit(X_train, y_train)\n",
    "model1_KNN_bag.predict(X_test)\n",
    "accuracy1 = model1_KNN_bag.score(X_test, y_test)\n",
    "\n",
    "print(\"Bagging KNN\")\n",
    "print(\"Best value of n_estimators:\", model1_KNN_bag.best_params_['n_estimators'])\n",
    "print(\"Accuracy for bagging with KNN:\", accuracy1)"
   ]
  },
  {
   "cell_type": "markdown",
   "id": "c47ed159",
   "metadata": {},
   "source": [
    "We can compare with the single method to see the results between the ensemble method and the single method used as estimator."
   ]
  },
  {
   "cell_type": "code",
   "execution_count": 20,
   "id": "2120c240",
   "metadata": {},
   "outputs": [
    {
     "name": "stdout",
     "output_type": "stream",
     "text": [
      "\n",
      "Single KNN\n",
      "Best value of k: 21\n",
      "Accuracy with single KNN: 0.828\n"
     ]
    }
   ],
   "source": [
    "# Single KNN\n",
    "# Defining different values of n_neighbors to try\n",
    "n_neighbors = [i for i in range(1, 27, 2)]\n",
    "\n",
    "# loop over different values of n_neighbors and evaluate the score to select the hyperparameters with high score\n",
    "best_score = 0\n",
    "best_k = 0\n",
    "for k in n_neighbors:\n",
    "    # For each value of n_neighbors, we execute a model prediction and look at its accuracy.\n",
    "    model = KNeighborsClassifier(n_neighbors=k)\n",
    "    model.fit(X_train, y_train)\n",
    "    model.predict(X_test)\n",
    "    score = model.score(X_test, y_test)\n",
    "    if score > best_score:  # The parameters with the best accuracy are stored into variables\n",
    "        best_score = score\n",
    "        best_k = k\n",
    "\n",
    "model2_KNN = KNeighborsClassifier(n_neighbors=best_k)\n",
    "model2_KNN.fit(X_train, y_train)\n",
    "model2_KNN.predict(X_test)\n",
    "accuracy2 = model2_KNN.score(X_test, y_test)\n",
    "\n",
    "print(\"\\nSingle KNN\")\n",
    "print(\"Best value of k:\", best_k)\n",
    "print(\"Accuracy with single KNN:\", accuracy2)"
   ]
  },
  {
   "cell_type": "code",
   "execution_count": 21,
   "id": "1e2343a3",
   "metadata": {},
   "outputs": [
    {
     "name": "stdout",
     "output_type": "stream",
     "text": [
      "\n",
      "The single method has a better accuracy than the bagging method.\n",
      "The difference of accuracies between the single method and the bagging is : 0.0033333333333332993\n"
     ]
    }
   ],
   "source": [
    "if (accuracy1 > accuracy2):\n",
    "    print('\\nThe bagging method has a better accuracy than the single method.')\n",
    "elif (accuracy1 < accuracy2):\n",
    "    print('\\nThe single method has a better accuracy than the bagging method.')\n",
    "elif (accuracy1 == accuracy2):\n",
    "    print('The single method and the bagging method as same accuracies.')\n",
    "print('The difference of accuracies between the single method and the bagging is :', abs(accuracy2 - accuracy1))"
   ]
  },
  {
   "cell_type": "markdown",
   "id": "813d700d",
   "metadata": {},
   "source": [
    "- We try the bagging method with another estimator : Logistic Regression"
   ]
  },
  {
   "cell_type": "code",
   "execution_count": 22,
   "id": "7c6316b6",
   "metadata": {},
   "outputs": [
    {
     "name": "stdout",
     "output_type": "stream",
     "text": [
      "Bagging LR\n",
      "Best value of n_estimators for Logistic Regression: 10\n",
      "Accuracy for bagging with Logistic Regression: 0.7953333333333333\n"
     ]
    }
   ],
   "source": [
    "# Bagging Logistic Regression\n",
    "# Defining different values of n_estimators to try\n",
    "n_estimators = [10, 50, 100, 200]\n",
    "\n",
    "# Defining the parameter grid for the Bagging Classifier\n",
    "param_grid = {'n_estimators': n_estimators, 'base_estimator': [LogisticRegression()]}\n",
    "\n",
    "model1_LR_bag = GridSearchCV(BaggingClassifier(),\n",
    "                         param_grid=param_grid)  # Performing Grid Search to find the best parameters for the Bagging Classifier\n",
    "model1_LR_bag.fit(X_train, y_train)\n",
    "model1_LR_bag.predict(X_test)\n",
    "accuracy1 = model1_LR_bag.score(X_test, y_test)\n",
    "\n",
    "print(\"Bagging LR\")\n",
    "print(\"Best value of n_estimators for Logistic Regression:\", model1_LR_bag.best_params_['n_estimators'])\n",
    "print(\"Accuracy for bagging with Logistic Regression:\", accuracy1)"
   ]
  },
  {
   "cell_type": "markdown",
   "id": "cf052a83",
   "metadata": {},
   "source": [
    "We compare the bagging method with LR estimator with the single LR method"
   ]
  },
  {
   "cell_type": "code",
   "execution_count": 23,
   "id": "9da3684b",
   "metadata": {},
   "outputs": [
    {
     "name": "stdout",
     "output_type": "stream",
     "text": [
      "\n",
      "Single LR\n",
      "Best parameters: {'C': 100, 'solver': 'liblinear'}\n",
      "Accuracy for Logistic Regression: 0.817\n"
     ]
    }
   ],
   "source": [
    "# Single Logistic Regression\n",
    "# Defining the parameter grid for logistic regression\n",
    "param_grid = {\n",
    "    'C': [0.01, 0.1, 1, 10, 100],\n",
    "    'solver': ['lbfgs', 'liblinear', 'saga']\n",
    "}\n",
    "\n",
    "model2_LR = GridSearchCV(LogisticRegression(),\n",
    "                         param_grid=param_grid)  # Performing Grid Search to find the best parameters for Logistic Regression\n",
    "model2_LR.fit(X_train, y_train)\n",
    "model2_LR.predict(X_test)\n",
    "accuracy2 = model2_LR.score(X_test, y_test)\n",
    "\n",
    "print(\"\\nSingle LR\")\n",
    "print(\"Best parameters:\", model2_LR.best_params_)\n",
    "print(\"Accuracy for Logistic Regression:\", accuracy2)\n"
   ]
  },
  {
   "cell_type": "code",
   "execution_count": 24,
   "id": "2437f358",
   "metadata": {},
   "outputs": [
    {
     "name": "stdout",
     "output_type": "stream",
     "text": [
      "\n",
      "The single method has a better accuracy than the bagging method.\n",
      "The difference of accuracies between the single method and the bagging is : 0.021666666666666612\n"
     ]
    }
   ],
   "source": [
    "if (accuracy1 > accuracy2):\n",
    "    print('\\nThe bagging method has a better accuracy than the single method.')\n",
    "elif (accuracy1 < accuracy2):\n",
    "    print('\\nThe single method has a better accuracy than the bagging method.')\n",
    "elif (accuracy1 == accuracy2):\n",
    "    print('The single method and the bagging method as same accuracies.')\n",
    "print('The difference of accuracies between the single method and the bagging is :', abs(accuracy2 - accuracy1))"
   ]
  },
  {
   "cell_type": "markdown",
   "id": "9f3d8508",
   "metadata": {},
   "source": [
    "- We can test the ensemble method on a last estimator which is the Decision Tree Classifier (DTC) which is the method used by default on most of ensemble learning methods."
   ]
  },
  {
   "cell_type": "code",
   "execution_count": 25,
   "id": "27c9116b",
   "metadata": {},
   "outputs": [
    {
     "name": "stdout",
     "output_type": "stream",
     "text": [
      "Bagging DTC\n",
      "Best value of n_estimators for Decision Tree Classifier: 200\n",
      "Accuracy for bagging with Decision Tree Classifier: 0.8243333333333334\n"
     ]
    }
   ],
   "source": [
    "# Bagging Decision Tree Classifier (default method on Scikit-Learn)\n",
    "# Defining different values of n_estimators to try\n",
    "n_estimators = [10, 50, 100, 200]\n",
    "\n",
    "# Defining the parameter grid for the Bagging Classifier\n",
    "param_grid = {'n_estimators': n_estimators, 'base_estimator': [DecisionTreeClassifier()]}\n",
    "\n",
    "model1_DTC_bag = GridSearchCV(BaggingClassifier(),\n",
    "                          param_grid=param_grid)  # Performing Grid Search to find the best parameters for the Bagging Classifier\n",
    "model1_DTC_bag.fit(X_train, y_train)\n",
    "model1_DTC_bag.predict(X_test)\n",
    "accuracy1 = model1_DTC_bag.score(X_test, y_test)\n",
    "\n",
    "print(\"Bagging DTC\")\n",
    "print(\"Best value of n_estimators for Decision Tree Classifier:\", model1_DTC_bag.best_params_['n_estimators'])\n",
    "print(\"Accuracy for bagging with Decision Tree Classifier:\", accuracy1)"
   ]
  },
  {
   "cell_type": "markdown",
   "id": "837bb629",
   "metadata": {},
   "source": [
    "Let's compare the result of the bagging with DTC method and the single DTC method:"
   ]
  },
  {
   "cell_type": "code",
   "execution_count": 26,
   "id": "7cc85a27",
   "metadata": {},
   "outputs": [
    {
     "name": "stdout",
     "output_type": "stream",
     "text": [
      "\n",
      "Single DTC\n",
      "Accuracy for Decision Tree Classifier: 0.812\n"
     ]
    }
   ],
   "source": [
    "# Single Decision Tree classifier\n",
    "model2_DTC = DecisionTreeClassifier()\n",
    "model2_DTC.fit(X_train, y_train)\n",
    "model2_DTC.predict(X_test)\n",
    "accuracy2 = model2_DTC.score(X_test, y_test)\n",
    "\n",
    "print(\"\\nSingle DTC\")\n",
    "print(\"Accuracy for Decision Tree Classifier:\", accuracy2)"
   ]
  },
  {
   "cell_type": "code",
   "execution_count": 27,
   "id": "7989a2a5",
   "metadata": {},
   "outputs": [
    {
     "name": "stdout",
     "output_type": "stream",
     "text": [
      "\n",
      "The bagging method has a better accuracy than the single method.\n",
      "The difference of accuracies between the single method and the bagging is : 0.012333333333333307\n"
     ]
    }
   ],
   "source": [
    "if (accuracy1 > accuracy2):\n",
    "    print('\\nThe bagging method has a better accuracy than the single method.')\n",
    "elif (accuracy1 < accuracy2):\n",
    "    print('\\nThe single method has a better accuracy than the bagging method.')\n",
    "elif (accuracy1 == accuracy2):\n",
    "    print('The single method and the bagging method as same accuracies.')\n",
    "print('The difference of accuracies between the single method and the bagging is :', abs(accuracy2 - accuracy1))"
   ]
  },
  {
   "cell_type": "markdown",
   "id": "6c8c25a2",
   "metadata": {},
   "source": [
    "Making predictions on a new observation ..."
   ]
  },
  {
   "cell_type": "code",
   "execution_count": 28,
   "id": "4bf89e5b",
   "metadata": {},
   "outputs": [
    {
     "name": "stdout",
     "output_type": "stream",
     "text": [
      "Prediction Bagging KNN: Earns more than $50K\n",
      "Prediction Bagging LR: Earns less than $50K\n",
      "Prediction Bagging DTC: Earns more than $50K\n"
     ]
    }
   ],
   "source": [
    "features_name = ['age', 'education', 'educational-num', 'marital-status', 'relationship', 'gender', 'capital-gain', 'capital-loss', 'hours-per-week']\n",
    "newPerson_df = pd.DataFrame(data=[[45, 'Masters', 14, 'Married-civ-spouse', 'Husband', 'Male', 0, 0, 50]], columns=features_name)\n",
    "#newPerson_df = pd.DataFrame(data=[[35, 'Masters', 14, 'Separated', 'Not-in-family', 'Male', 0, 0, 50]], columns=features_name)\n",
    "\n",
    "# Encoding the new data\n",
    "for key1 in dicoEncoding.keys():\n",
    "    if key1 in newPerson_df.columns:\n",
    "        for key2 in dicoEncoding[key1].keys():\n",
    "            if str(newPerson_df.iloc[0][key1]) == key2:\n",
    "                newPerson_df.loc[0, key1] = dicoEncoding[key1][key2]   # Replace the raw data by the encoded data\n",
    "\n",
    "# Making the prediction\n",
    "pred_BaggingKNN = model1_KNN_bag.predict(newPerson_df)\n",
    "if pred_BaggingKNN == 0:\n",
    "    pred_BaggingKNN = 'Earns less than $50K'\n",
    "elif pred_BaggingKNN == 1:\n",
    "    pred_BaggingKNN = 'Earns more than $50K'\n",
    "print(\"Prediction Bagging KNN:\", pred_BaggingKNN)\n",
    "\n",
    "pred_BaggingLR = model1_LR_bag.predict(newPerson_df)\n",
    "if pred_BaggingLR == 0:\n",
    "    pred_BaggingLR = 'Earns less than $50K'\n",
    "elif pred_BaggingLR == 1:\n",
    "    pred_BaggingLR = 'Earns more than $50K'\n",
    "print(\"Prediction Bagging LR:\", pred_BaggingLR)\n",
    "\n",
    "pred_BaggingDTC = model1_DTC_bag.predict(newPerson_df)\n",
    "if pred_BaggingDTC == 0:\n",
    "    pred_BaggingDTC = 'Earns less than $50K'\n",
    "elif pred_BaggingDTC == 1:\n",
    "    pred_BaggingDTC = 'Earns more than $50K'\n",
    "print(\"Prediction Bagging DTC:\", pred_BaggingDTC)"
   ]
  },
  {
   "cell_type": "markdown",
   "id": "5648e86f",
   "metadata": {},
   "source": [
    " Global observations :"
   ]
  },
  {
   "cell_type": "markdown",
   "id": "dcbe1c18",
   "metadata": {},
   "source": [
    "### B) Boosting"
   ]
  },
  {
   "cell_type": "markdown",
   "id": "487ebeac",
   "metadata": {},
   "source": [
    "Boosting method from scratch"
   ]
  },
  {
   "cell_type": "code",
   "execution_count": 29,
   "id": "657f897a",
   "metadata": {},
   "outputs": [],
   "source": [
    "# Importation of libraries\n",
    "from sklearn.model_selection import train_test_split\n",
    "from sklearn.ensemble import AdaBoostClassifier\n",
    "from sklearn.model_selection import GridSearchCV\n",
    "from sklearn.tree import DecisionTreeClassifier"
   ]
  },
  {
   "cell_type": "code",
   "execution_count": 30,
   "id": "fa9b3c05",
   "metadata": {},
   "outputs": [
    {
     "name": "stdout",
     "output_type": "stream",
     "text": [
      "Accuracy for Boosting from Scratch with LR : 0.801\n",
      "Accuracy for Boosting from Scratch with DTC : 0.8136666666666666\n"
     ]
    }
   ],
   "source": [
    "def BoostingScratch(X_train, y_train, X_test, y_test, base_estimator, n_estimators=100):\n",
    "    Evaluation = pd.DataFrame(y_train.copy())\n",
    "    Evaluation['weights'] = 1 / X_test.shape[0]  # Set the initial weights w = 1/N\n",
    "    # Run the boosting algorithm by creating T \"weighted models\"\n",
    "\n",
    "    alphas = []\n",
    "    models = []\n",
    "\n",
    "    for t in range(n_estimators):\n",
    "        # Train the Decision Stump(s)\n",
    "        model = base_estimator.fit(X_train, y_train, sample_weight=np.array(Evaluation['weights']))\n",
    "\n",
    "        # Append the single weak classifiers to a list which is later on used to make the weighted decision\n",
    "        models.append(model)\n",
    "        predictions = model.predict(X_train)\n",
    "        score = model.score(X_train, y_train)\n",
    "\n",
    "        # Add values to the Evaluation DataFrame\n",
    "        Evaluation['predictions'] = predictions\n",
    "        Evaluation['evaluation'] = np.where(Evaluation['predictions'] == Evaluation['income'], 1, 0)\n",
    "        Evaluation['misclassified'] = np.where(Evaluation['predictions'] != Evaluation['income'], 1, 0)\n",
    "\n",
    "        # Calculate the misclassification rate and accuracy\n",
    "        accuracy = sum(Evaluation['evaluation']) / len(Evaluation['evaluation'])\n",
    "        misclassification = sum(Evaluation['misclassified']) / len(Evaluation['misclassified'])\n",
    "\n",
    "        # Caclulate the error\n",
    "        err = np.sum(Evaluation['weights'] * Evaluation['misclassified']) / np.sum(Evaluation['weights'])\n",
    "\n",
    "        # Calculate the alpha values\n",
    "        alpha = np.log((1 - err) / err)\n",
    "        alphas.append(alpha)\n",
    "\n",
    "        # Update the weights wi --> These updated weights are used in the sample_weight parameter for the training of the next decision stump.\n",
    "        Evaluation['weights'] *= np.exp(alpha * Evaluation['misclassified'])\n",
    "\n",
    "        # With each model in the self.model list, make a prediction\n",
    "        accuracy = []\n",
    "        predictions = []\n",
    "\n",
    "        for alpha, model in zip(alphas, models):\n",
    "            prediction = alpha * model.predict(X_test)\n",
    "            predictions.append(prediction)\n",
    "            accuracy.append(\n",
    "                np.sum(np.sign(np.sum(np.array(predictions), axis=0)) == y_test.values) / len(predictions[0]))\n",
    "\n",
    "        predictions = np.sign(np.sum(np.array(predictions), axis=0))\n",
    "\n",
    "        return predictions\n",
    "\n",
    "\n",
    "lr = LogisticRegression()\n",
    "dtc = DecisionTreeClassifier()\n",
    "y_pred_lr = BoostingScratch(X_train=X_train, y_train=y_train, X_test=X_test, y_test=y_test, base_estimator=lr)\n",
    "y_pred_dtc = BoostingScratch(X_train=X_train, y_train=y_train, X_test=X_test, y_test=y_test, base_estimator=dtc)\n",
    "# number of estimators is set to 100 by default\n",
    "\n",
    "accuracyScratch_LR = accuracy_score(y_test, y_pred_lr)\n",
    "accuracyScratch_DTC = accuracy_score(y_test, y_pred_dtc)\n",
    "print('Accuracy for Boosting from Scratch with LR :', accuracyScratch_LR)\n",
    "print('Accuracy for Boosting from Scratch with DTC :', accuracyScratch_DTC)"
   ]
  },
  {
   "cell_type": "markdown",
   "id": "8dca6dce",
   "metadata": {},
   "source": [
    "Boosting method using Scikit-Learn"
   ]
  },
  {
   "cell_type": "markdown",
   "id": "be7659dd",
   "metadata": {},
   "source": [
    "- The first estimator we use is the Logistic Regression"
   ]
  },
  {
   "cell_type": "code",
   "execution_count": 31,
   "id": "1cd9b11a",
   "metadata": {},
   "outputs": [
    {
     "name": "stdout",
     "output_type": "stream",
     "text": [
      "\n",
      "Boosting LR\n",
      "Best value of n_estimators for Logistic Regression: 100\n",
      "Accuracy for boosting with Logistic Regression: 0.8106666666666666\n"
     ]
    }
   ],
   "source": [
    "# Boosting Logistic Regression\n",
    "# define the range of values of n_estimators to try\n",
    "n_estimators = [10, 50, 100, 200]\n",
    "\n",
    "# define the parameter grid for the bagging classifier\n",
    "param_grid = {'n_estimators': n_estimators, 'base_estimator': [LogisticRegression()]}\n",
    "\n",
    "# perform grid search to find the best value of n_estimators for the bagging classifier\n",
    "model1_LR_boost = GridSearchCV(AdaBoostClassifier(), param_grid=param_grid)\n",
    "model1_LR_boost.fit(X_train, y_train)\n",
    "model1_LR_boost.predict(X_test)\n",
    "accuracy1 = model1_LR_boost.score(X_test, y_test)\n",
    "\n",
    "print(\"\\nBoosting LR\")\n",
    "print(\"Best value of n_estimators for Logistic Regression:\", model1_LR_boost.best_params_['n_estimators'])\n",
    "print(\"Accuracy for boosting with Logistic Regression:\", accuracy1)"
   ]
  },
  {
   "cell_type": "markdown",
   "id": "a624c384",
   "metadata": {},
   "source": [
    "We can compare the boosting results with the single method results :"
   ]
  },
  {
   "cell_type": "code",
   "execution_count": 32,
   "id": "4a9ebe14",
   "metadata": {},
   "outputs": [
    {
     "name": "stdout",
     "output_type": "stream",
     "text": [
      "Single LR\n",
      "Best parameters: {'C': 100, 'solver': 'liblinear'}\n",
      "Accuracy for Logistic Regression: 0.817\n"
     ]
    }
   ],
   "source": [
    "# Single Logistic Regression\n",
    "# define the parameter grid for logistic regression\n",
    "param_grid = {\n",
    "    'C': [0.01, 0.1, 1, 10, 100],\n",
    "    'solver': ['lbfgs', 'liblinear', 'saga']\n",
    "}\n",
    "\n",
    "# perform grid search to find the best parameters for logistic regression\n",
    "model2_LR = GridSearchCV(LogisticRegression(), param_grid=param_grid)\n",
    "model2_LR.fit(X_train, y_train)\n",
    "model2_LR.predict(X_test)\n",
    "accuracy2 = model2_LR.score(X_test, y_test)\n",
    "\n",
    "print(\"Single LR\")\n",
    "print(\"Best parameters:\", model2_LR.best_params_)\n",
    "print(\"Accuracy for Logistic Regression:\", accuracy2)"
   ]
  },
  {
   "cell_type": "code",
   "execution_count": 33,
   "id": "13789edf",
   "metadata": {},
   "outputs": [
    {
     "name": "stdout",
     "output_type": "stream",
     "text": [
      "\n",
      "The single method has a better accuracy than the boosting method.\n",
      "The difference of accuracies between the single method and the boosting is : 0.006333333333333302\n"
     ]
    }
   ],
   "source": [
    "if (accuracy1 > accuracy2):\n",
    "    print('\\nThe boosting method has a better accuracy than the single method.')\n",
    "elif (accuracy1 < accuracy2):\n",
    "    print('\\nThe single method has a better accuracy than the boosting method.')\n",
    "elif (accuracy1 == accuracy2):\n",
    "    print('The single method and the boosting method as same accuracies.')\n",
    "print('The difference of accuracies between the single method and the boosting is :', abs(accuracy2 - accuracy1))"
   ]
  },
  {
   "cell_type": "markdown",
   "id": "47c9f48d",
   "metadata": {},
   "source": [
    "- The second estimator used is the Decision Tree Classifier"
   ]
  },
  {
   "cell_type": "code",
   "execution_count": 34,
   "id": "09ed2ad9",
   "metadata": {},
   "outputs": [
    {
     "name": "stdout",
     "output_type": "stream",
     "text": [
      "\n",
      "Boosting DTC\n",
      "Best value of n_estimators: 200\n",
      "Best value of learning_rate: 1.0\n",
      "Accuracy for boosting with Decision tree classifier: 0.8493333333333334\n"
     ]
    }
   ],
   "source": [
    "# Boosting Decision tree classifier\n",
    "# Defining different values of n_estimators to try\n",
    "n_estimators = [10, 20, 50, 100, 200]\n",
    "learning_rate = [0.01, 0.1, 1.0]\n",
    "\n",
    "# Defining the parameter grid for the Bagging Classifier\n",
    "param_grid = {'n_estimators': n_estimators, 'learning_rate': learning_rate}\n",
    "\n",
    "# Performing Grid Search to find the best value of n_estimators for the bagging classifier\n",
    "model1_DTC_boost = GridSearchCV(AdaBoostClassifier(), param_grid=param_grid)\n",
    "model1_DTC_boost.fit(X_train, y_train)\n",
    "model1_DTC_boost.predict(X_test)\n",
    "accuracy1 = model1_DTC_boost.score(X_test, y_test)\n",
    "\n",
    "print(\"\\nBoosting DTC\")\n",
    "print(\"Best value of n_estimators:\", model1_DTC_boost.best_params_['n_estimators'])\n",
    "print(\"Best value of learning_rate:\", model1_DTC_boost.best_params_['learning_rate'])\n",
    "print(\"Accuracy for boosting with Decision tree classifier:\", accuracy1)"
   ]
  },
  {
   "cell_type": "markdown",
   "id": "ac6b066d",
   "metadata": {},
   "source": [
    "Comparison with the single DTC method"
   ]
  },
  {
   "cell_type": "code",
   "execution_count": 35,
   "id": "25a97708",
   "metadata": {},
   "outputs": [
    {
     "name": "stdout",
     "output_type": "stream",
     "text": [
      "Single DTC\n",
      "Best value of k: 21\n",
      "Accuracy with single Decision tree classifier: 0.807\n"
     ]
    }
   ],
   "source": [
    "# Single Decision tree\n",
    "model2_DTC = DecisionTreeClassifier()\n",
    "model2_DTC.fit(X_train, y_train)\n",
    "model2_DTC.predict(X_test)\n",
    "accuracy2 = model2_DTC.score(X_test, y_test)\n",
    "\n",
    "print(\"Single DTC\")\n",
    "print(\"Best value of k:\", best_k)\n",
    "print(\"Accuracy with single Decision tree classifier:\", accuracy2)"
   ]
  },
  {
   "cell_type": "code",
   "execution_count": 36,
   "id": "6caefd34",
   "metadata": {},
   "outputs": [
    {
     "name": "stdout",
     "output_type": "stream",
     "text": [
      "\n",
      "The boosting method has a better accuracy than the single method.\n",
      "The difference of accuracies between the single method and the boosting is : 0.042333333333333334\n"
     ]
    }
   ],
   "source": [
    "if (accuracy1 > accuracy2):\n",
    "    print('\\nThe boosting method has a better accuracy than the single method.')\n",
    "elif (accuracy1 < accuracy2):\n",
    "    print('\\nThe single method has a better accuracy than the boosting method.')\n",
    "elif (accuracy1 == accuracy2):\n",
    "    print('The single method and the boosting method as same accuracies.')\n",
    "print('The difference of accuracies between the single method and the boosting is :', abs(accuracy2 - accuracy1))"
   ]
  },
  {
   "cell_type": "markdown",
   "source": [
    "Making predictions on a new observation ..."
   ],
   "metadata": {
    "collapsed": false
   }
  },
  {
   "cell_type": "code",
   "execution_count": 37,
   "outputs": [
    {
     "name": "stdout",
     "output_type": "stream",
     "text": [
      "Prediction Boosting LR: Earns more than $50K\n",
      "Prediction Boosting DTC: Earns more than $50K\n"
     ]
    }
   ],
   "source": [
    "features_name = ['age', 'education', 'educational-num', 'marital-status', 'relationship', 'gender', 'capital-gain', 'capital-loss', 'hours-per-week']\n",
    "newPerson_df = pd.DataFrame(data=[[45, 'Masters', 14, 'Married-civ-spouse', 'Husband', 'Male', 0, 0, 50]], columns=features_name)\n",
    "#newPerson_df = pd.DataFrame(data=[[35, 'Masters', 14, 'Separated', 'Not-in-family', 'Male', 0, 0, 50]], columns=features_name)\n",
    "\n",
    "# Encoding the new data\n",
    "for key1 in dicoEncoding.keys():\n",
    "    if key1 in newPerson_df.columns:\n",
    "        for key2 in dicoEncoding[key1].keys():\n",
    "            if str(newPerson_df.iloc[0][key1]) == key2:\n",
    "                newPerson_df.loc[0, key1] = dicoEncoding[key1][key2]   # Replace the raw data by the encoded data\n",
    "\n",
    "# Making the prediction\n",
    "pred_BoostingLR = model1_LR_boost.predict(newPerson_df)\n",
    "if pred_BoostingLR == 0:\n",
    "    pred_BoostingLR = 'Earns less than $50K'\n",
    "elif pred_BoostingLR == 1:\n",
    "    pred_BoostingLR = 'Earns more than $50K'\n",
    "print(\"Prediction Boosting LR:\", pred_BoostingLR)\n",
    "\n",
    "pred_BoostingDTC = model1_DTC_boost.predict(newPerson_df)\n",
    "if pred_BoostingDTC == 0:\n",
    "    pred_BoostingDTC = 'Earns less than $50K'\n",
    "elif pred_BoostingDTC == 1:\n",
    "    pred_BoostingDTC = 'Earns more than $50K'\n",
    "print(\"Prediction Boosting DTC:\", pred_BoostingDTC)"
   ],
   "metadata": {
    "collapsed": false
   }
  },
  {
   "cell_type": "markdown",
   "id": "d7d7fc99",
   "metadata": {},
   "source": [
    "Global observations :"
   ]
  },
  {
   "cell_type": "markdown",
   "id": "dfe20288",
   "metadata": {},
   "source": [
    "### C) Stacking"
   ]
  },
  {
   "cell_type": "markdown",
   "id": "c6e2e957",
   "metadata": {},
   "source": [
    "We import the needed libraries"
   ]
  },
  {
   "cell_type": "code",
   "execution_count": 38,
   "id": "5787ddb8",
   "metadata": {},
   "outputs": [],
   "source": [
    "import pandas as pd\n",
    "from mlxtend.classifier import StackingClassifier\n",
    "from sklearn.model_selection import train_test_split\n",
    "from sklearn.linear_model import LogisticRegression\n",
    "from sklearn.neighbors import KNeighborsClassifier\n",
    "from sklearn.naive_bayes import GaussianNB\n",
    "from sklearn.metrics import accuracy_score\n",
    "from sklearn.linear_model import SGDClassifier\n",
    "from sklearn.tree import DecisionTreeClassifier\n",
    "import sklearn.ensemble as se"
   ]
  },
  {
   "cell_type": "markdown",
   "id": "312a8ac7",
   "metadata": {},
   "source": [
    "Firstly, we add some prediction functions"
   ]
  },
  {
   "cell_type": "code",
   "execution_count": 39,
   "id": "82a8a90a",
   "metadata": {},
   "outputs": [
    {
     "name": "stdout",
     "output_type": "stream",
     "text": [
      "Accuracy score of the KNeighbors Classifier is: 0.824\n",
      "Accuracy of the Naive Bayes Classifier: 0.7996666666666666\n",
      "Accuracy score of the SGD Classifier is: 0.7746666666666666\n",
      "Accuracy of the Decision Tree Classifier: 0.809\n"
     ]
    }
   ],
   "source": [
    "KNC = KNeighborsClassifier(n_neighbors=2)  # initialising KNeighbors Classifier\n",
    "model_kNeighborsClassifier = KNC.fit(X_train, y_train)  # fitting Training Set\n",
    "pred_knc = model_kNeighborsClassifier.predict(X_test)  # Predicting on test dataset\n",
    "acc_knc = accuracy_score(y_test, pred_knc)  # evaluating accuracy score\n",
    "print('Accuracy score of the KNeighbors Classifier is:', acc_knc)\n",
    "\n",
    "###\n",
    "\n",
    "NB = GaussianNB()  # initialising Naive Bayes\n",
    "model_NaiveBayes = NB.fit(X_train, y_train)\n",
    "pred_nb = model_NaiveBayes.predict(X_test)\n",
    "acc_nb = accuracy_score(y_test, pred_nb)\n",
    "print('Accuracy of the Naive Bayes Classifier:', acc_nb)\n",
    "\n",
    "###\n",
    "\n",
    "SGD = SGDClassifier(loss='log', random_state=0)\n",
    "model_SGD_Classifier = SGD.fit(X_train, y_train)  # fitting Training Set\n",
    "pred_sgd = model_SGD_Classifier.predict(X_test)  # Predicting on test dataset\n",
    "acc_sgd = accuracy_score(y_test, pred_sgd)  # evaluating accuracy score\n",
    "print('Accuracy score of the SGD Classifier is:', acc_sgd)\n",
    "\n",
    "###\n",
    "\n",
    "TREE = DecisionTreeClassifier(random_state=0)\n",
    "model_Tree = TREE.fit(X_train, y_train)\n",
    "pred_tree = model_Tree.predict(X_test)\n",
    "acc_tree = accuracy_score(y_test, pred_tree)\n",
    "print('Accuracy of the Decision Tree Classifier:', acc_tree)"
   ]
  },
  {
   "cell_type": "markdown",
   "id": "599c5eef",
   "metadata": {},
   "source": [
    "Then, we put these functions into a classifier (here the Stacking classifier) and train it."
   ]
  },
  {
   "cell_type": "code",
   "execution_count": 40,
   "id": "8d3749bc",
   "metadata": {},
   "outputs": [
    {
     "name": "stdout",
     "output_type": "stream",
     "text": [
      "Accuracy score of the Stacked model: 0.8076666666666666\n"
     ]
    }
   ],
   "source": [
    "lr = LogisticRegression()  # defining meta-classifier\n",
    "clf_stack = StackingClassifier(classifiers=[KNC, NB, SGD, TREE], meta_classifier=lr, use_probas=True,\n",
    "                               use_features_in_secondary=True)  #Main StacklingClassifier from mlxtend library\n",
    "\n",
    "model_stack = clf_stack.fit(X_train, y_train)  # training of stacked model\n",
    "pred_stack = model_stack.predict(X_test)  # predictions on test data using stacked model\n",
    "\n",
    "acc_stack = accuracy_score(y_test, pred_stack)  # evaluating accuracy\n",
    "print('Accuracy score of the Stacked model:', acc_stack)"
   ]
  },
  {
   "cell_type": "markdown",
   "id": "e3abf7c8",
   "metadata": {},
   "source": [
    "Stacking method using scikit-learn"
   ]
  },
  {
   "cell_type": "code",
   "execution_count": 41,
   "id": "5d11b1ee",
   "metadata": {},
   "outputs": [
    {
     "name": "stdout",
     "output_type": "stream",
     "text": [
      "Accuracy of the Stacking model (using scikit-learn): 0.7993333333333333\n"
     ]
    }
   ],
   "source": [
    "model_stack_bis = se.StackingClassifier([('SGD', SGD),\n",
    "                                         ('Tree', TREE),\n",
    "                                         ('KNC', KNC)],\n",
    "                                        final_estimator=KNeighborsClassifier())\n",
    "\n",
    "model_stack_bis.fit(X_train, y_train)\n",
    "score = model_stack_bis.score(X_test, y_test)\n",
    "\n",
    "print(\"Accuracy of the Stacking model (using scikit-learn):\", score)"
   ]
  },
  {
   "cell_type": "markdown",
   "source": [
    "Making predictions on a new observation ..."
   ],
   "metadata": {
    "collapsed": false
   }
  },
  {
   "cell_type": "code",
   "execution_count": 42,
   "outputs": [
    {
     "name": "stdout",
     "output_type": "stream",
     "text": [
      "Prediction Stacking: Earns more than $50K\n"
     ]
    }
   ],
   "source": [
    "features_name = ['age', 'education', 'educational-num', 'marital-status', 'relationship', 'gender', 'capital-gain', 'capital-loss', 'hours-per-week']\n",
    "newPerson_df = pd.DataFrame(data=[[45, 'Masters', 14, 'Married-civ-spouse', 'Husband', 'Male', 0, 0, 50]], columns=features_name)\n",
    "#newPerson_df = pd.DataFrame(data=[[35, 'Masters', 14, 'Separated', 'Not-in-family', 'Male', 0, 0, 50]], columns=features_name)\n",
    "\n",
    "# Encoding the new data\n",
    "for key1 in dicoEncoding.keys():\n",
    "    if key1 in newPerson_df.columns:\n",
    "        for key2 in dicoEncoding[key1].keys():\n",
    "            if str(newPerson_df.iloc[0][key1]) == key2:\n",
    "                newPerson_df.loc[0, key1] = dicoEncoding[key1][key2]  # Replace the raw data by the encoded data\n",
    "\n",
    "# Making the prediction\n",
    "pred_Stack = model_stack_bis.predict(newPerson_df)\n",
    "if pred_Stack == 0:\n",
    " pred_Stack = 'Earns less than $50K'\n",
    "elif pred_Stack == 1:\n",
    " pred_Stack = 'Earns more than $50K'\n",
    "print(\"Prediction Stacking:\", pred_Stack)"
   ],
   "metadata": {
    "collapsed": false
   }
  },
  {
   "cell_type": "markdown",
   "id": "90c06341",
   "metadata": {},
   "source": [
    "Global observations :"
   ]
  }
 ],
 "metadata": {
  "kernelspec": {
   "display_name": "Python 3 (ipykernel)",
   "language": "python",
   "name": "python3"
  },
  "language_info": {
   "codemirror_mode": {
    "name": "ipython",
    "version": 3
   },
   "file_extension": ".py",
   "mimetype": "text/x-python",
   "name": "python",
   "nbconvert_exporter": "python",
   "pygments_lexer": "ipython3",
   "version": "3.9.13"
  }
 },
 "nbformat": 4,
 "nbformat_minor": 5
}
