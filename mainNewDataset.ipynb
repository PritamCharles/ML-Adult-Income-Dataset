{
 "cells": [
  {
   "cell_type": "markdown",
   "id": "07d3d006",
   "metadata": {},
   "source": [
    " #"
   ]
  },
  {
   "cell_type": "markdown",
   "id": "1090a221",
   "metadata": {},
   "source": [
    "# Ma422 Project - Adult income dataset"
   ]
  },
  {
   "cell_type": "markdown",
   "id": "3b2e6f4f",
   "metadata": {},
   "source": [
    "Objective : The objective is to predict, according to some characteristics, if a person earns more than $50K per year or not\n"
   ]
  },
  {
   "cell_type": "markdown",
   "id": "e76f1ecb",
   "metadata": {},
   "source": [
    "We import the librairies we need to read the datas and analyse it."
   ]
  },
  {
   "cell_type": "code",
   "execution_count": 35,
   "id": "66290795",
   "metadata": {},
   "outputs": [],
   "source": [
    "import pandas as pd\n",
    "from matplotlib import pyplot as plt\n",
    "import seaborn as sns\n",
    "import numpy as np\n",
    "import warnings\n",
    "warnings.filterwarnings('ignore')"
   ]
  },
  {
   "cell_type": "markdown",
   "id": "38b61158",
   "metadata": {},
   "source": [
    "We open and read the datas file."
   ]
  },
  {
   "cell_type": "code",
   "execution_count": 36,
   "id": "e0c382d4",
   "metadata": {},
   "outputs": [
    {
     "name": "stdout",
     "output_type": "stream",
     "text": [
      "       age  workclass  fnlwgt     education  educational-num  \\\n",
      "38789   21    Private  234108  Some-college               10   \n",
      "40747   26    Private  214637       HS-grad                9   \n",
      "4648    48    Private  352614       HS-grad                9   \n",
      "10200   21    Private  293726       HS-grad                9   \n",
      "30395   33    Private  261511       HS-grad                9   \n",
      "...    ...        ...     ...           ...              ...   \n",
      "13927   28    Private  190525     Bachelors               13   \n",
      "22834   43  Local-gov  260696     Bachelors               13   \n",
      "15367   36    Private  187847       HS-grad                9   \n",
      "350     45          ?  319993       HS-grad                9   \n",
      "21581   41    Private  323790       HS-grad                9   \n",
      "\n",
      "           marital-status         occupation   relationship   race  gender  \\\n",
      "38789       Never-married  Handlers-cleaners      Own-child  White    Male   \n",
      "40747            Divorced      Other-service      Unmarried  White  Female   \n",
      "4648   Married-civ-spouse     Prof-specialty        Husband  White    Male   \n",
      "10200       Never-married              Sales  Not-in-family  White    Male   \n",
      "30395  Married-civ-spouse       Craft-repair        Husband  White    Male   \n",
      "...                   ...                ...            ...    ...     ...   \n",
      "13927  Married-civ-spouse    Exec-managerial        Husband  White    Male   \n",
      "22834            Divorced     Prof-specialty      Unmarried  White  Female   \n",
      "15367  Married-civ-spouse       Craft-repair        Husband  White    Male   \n",
      "350               Widowed                  ?      Unmarried  White  Female   \n",
      "21581            Divorced  Handlers-cleaners      Unmarried  White    Male   \n",
      "\n",
      "       capital-gain  capital-loss  hours-per-week native-country income  \n",
      "38789             0             0              40  United-States  <=50K  \n",
      "40747             0             0              35  United-States  <=50K  \n",
      "4648           7688             0              40              ?   >50K  \n",
      "10200             0             0              60  United-States  <=50K  \n",
      "30395             0             0              40  United-States  <=50K  \n",
      "...             ...           ...             ...            ...    ...  \n",
      "13927             0             0              50  United-States   >50K  \n",
      "22834             0             0              55  United-States  <=50K  \n",
      "15367             0             0              40  United-States   >50K  \n",
      "350               0             0              40         Mexico  <=50K  \n",
      "21581             0             0              55  United-States  <=50K  \n",
      "\n",
      "[9768 rows x 15 columns]\n"
     ]
    }
   ],
   "source": [
    "df = pd.read_csv('src/datas/adult.csv', header=0)\n",
    "df = df.sample(frac=0.2)  # Working with 20% of the dataset to avoid long time program run\n",
    "#df_copy = df.copy()\n",
    "print(df)"
   ]
  },
  {
   "cell_type": "markdown",
   "id": "e97399e4",
   "metadata": {},
   "source": [
    "## 1 - Quick dataset analysis"
   ]
  },
  {
   "cell_type": "markdown",
   "id": "ca714359",
   "metadata": {},
   "source": [
    "Now that the dataset is imported in the jupyter file, we can start exploring, digging in the datas to see what it is composed of, understand the variables in it, the possible links between them, find the target etc. This step is very important because it allows the user to understand the meaning of datasets, see if information has to be changed, or removed and also start thinking about how datas should be used with the future implemented model.\n",
    "\n",
    "A) Dataset cleaning and verifications\n",
    "\n"
   ]
  },
  {
   "cell_type": "markdown",
   "id": "8f8fae70",
   "metadata": {},
   "source": [
    "First, we check if there are repetitions of observations in the dataset. If yes, we erase them with the method `drop_duplicates` from `pandas` library."
   ]
  },
  {
   "cell_type": "code",
   "execution_count": 37,
   "id": "e9740eea",
   "metadata": {},
   "outputs": [
    {
     "name": "stdout",
     "output_type": "stream",
     "text": [
      "       age  workclass  fnlwgt     education  educational-num  \\\n",
      "38789   21    Private  234108  Some-college               10   \n",
      "40747   26    Private  214637       HS-grad                9   \n",
      "4648    48    Private  352614       HS-grad                9   \n",
      "10200   21    Private  293726       HS-grad                9   \n",
      "30395   33    Private  261511       HS-grad                9   \n",
      "...    ...        ...     ...           ...              ...   \n",
      "13927   28    Private  190525     Bachelors               13   \n",
      "22834   43  Local-gov  260696     Bachelors               13   \n",
      "15367   36    Private  187847       HS-grad                9   \n",
      "350     45          ?  319993       HS-grad                9   \n",
      "21581   41    Private  323790       HS-grad                9   \n",
      "\n",
      "           marital-status         occupation   relationship   race  gender  \\\n",
      "38789       Never-married  Handlers-cleaners      Own-child  White    Male   \n",
      "40747            Divorced      Other-service      Unmarried  White  Female   \n",
      "4648   Married-civ-spouse     Prof-specialty        Husband  White    Male   \n",
      "10200       Never-married              Sales  Not-in-family  White    Male   \n",
      "30395  Married-civ-spouse       Craft-repair        Husband  White    Male   \n",
      "...                   ...                ...            ...    ...     ...   \n",
      "13927  Married-civ-spouse    Exec-managerial        Husband  White    Male   \n",
      "22834            Divorced     Prof-specialty      Unmarried  White  Female   \n",
      "15367  Married-civ-spouse       Craft-repair        Husband  White    Male   \n",
      "350               Widowed                  ?      Unmarried  White  Female   \n",
      "21581            Divorced  Handlers-cleaners      Unmarried  White    Male   \n",
      "\n",
      "       capital-gain  capital-loss  hours-per-week native-country income  \n",
      "38789             0             0              40  United-States  <=50K  \n",
      "40747             0             0              35  United-States  <=50K  \n",
      "4648           7688             0              40              ?   >50K  \n",
      "10200             0             0              60  United-States  <=50K  \n",
      "30395             0             0              40  United-States  <=50K  \n",
      "...             ...           ...             ...            ...    ...  \n",
      "13927             0             0              50  United-States   >50K  \n",
      "22834             0             0              55  United-States  <=50K  \n",
      "15367             0             0              40  United-States   >50K  \n",
      "350               0             0              40         Mexico  <=50K  \n",
      "21581             0             0              55  United-States  <=50K  \n",
      "\n",
      "[9766 rows x 15 columns]\n"
     ]
    }
   ],
   "source": [
    "df = df.drop_duplicates()\n",
    "print(df)"
   ]
  },
  {
   "cell_type": "code",
   "execution_count": 38,
   "id": "0e14d868",
   "metadata": {},
   "outputs": [],
   "source": [
    "# Remplace \"?\" by NaN\n",
    "df.replace(' ?', np.nan, inplace=True)"
   ]
  },
  {
   "cell_type": "markdown",
   "id": "b04182ce",
   "metadata": {},
   "source": [
    "Then, we remove them in order to have valid datas to send to the model.\n",
    "We will use the method `isna` from `pandas` library to list the missing values."
   ]
  },
  {
   "cell_type": "code",
   "execution_count": 39,
   "id": "4351179c",
   "metadata": {},
   "outputs": [
    {
     "data": {
      "text/plain": "<Figure size 1080x648 with 1 Axes>",
      "image/png": "[encoded data removed]"
     },
     "metadata": {},
     "output_type": "display_data"
    },
    {
     "name": "stdout",
     "output_type": "stream",
     "text": [
      "age                0.0\n",
      "workclass          0.0\n",
      "fnlwgt             0.0\n",
      "education          0.0\n",
      "educational-num    0.0\n",
      "marital-status     0.0\n",
      "occupation         0.0\n",
      "relationship       0.0\n",
      "race               0.0\n",
      "gender             0.0\n",
      "capital-gain       0.0\n",
      "capital-loss       0.0\n",
      "hours-per-week     0.0\n",
      "native-country     0.0\n",
      "income             0.0\n",
      "dtype: float64\n"
     ]
    }
   ],
   "source": [
    "plt.figure(figsize=(15, 9))\n",
    "sns.heatmap(df.isna(), cbar=False)\n",
    "plt.show()\n",
    "\n",
    "percentageOfNaNValues = (df.isna().sum() / df.shape[0]).sort_values(ascending=True)\n",
    "\n",
    "print(percentageOfNaNValues) # Normalized values between O and 1"
   ]
  },
  {
   "cell_type": "markdown",
   "id": "80fbaf3c",
   "metadata": {},
   "source": [
    "B) Analysis the dataset"
   ]
  },
  {
   "cell_type": "code",
   "execution_count": 40,
   "id": "a8c41713",
   "metadata": {},
   "outputs": [
    {
     "name": "stdout",
     "output_type": "stream",
     "text": [
      "Column names : Index(['age', 'workclass', 'fnlwgt', 'education', 'educational-num',\n",
      "       'marital-status', 'occupation', 'relationship', 'race', 'gender',\n",
      "       'capital-gain', 'capital-loss', 'hours-per-week', 'native-country',\n",
      "       'income'],\n",
      "      dtype='object') \n",
      "\n",
      "Dataset Shape : (9766, 15) \n",
      "\n",
      "Variables Types : age                 int64\n",
      "workclass          object\n",
      "fnlwgt              int64\n",
      "education          object\n",
      "educational-num     int64\n",
      "marital-status     object\n",
      "occupation         object\n",
      "relationship       object\n",
      "race               object\n",
      "gender             object\n",
      "capital-gain        int64\n",
      "capital-loss        int64\n",
      "hours-per-week      int64\n",
      "native-country     object\n",
      "income             object\n",
      "dtype: object \n",
      "\n",
      "Variables Types Count : object    9\n",
      "int64     6\n",
      "dtype: int64\n"
     ]
    }
   ],
   "source": [
    "columnNames = df.columns\n",
    "datasetShape = df.shape\n",
    "variablesTypes = df.dtypes\n",
    "variablesTypesCount = df.dtypes.value_counts()\n",
    "\n",
    "print('Column names :', columnNames, '\\n')\n",
    "print('Dataset Shape :', datasetShape, '\\n')\n",
    "print('Variables Types :', variablesTypes, '\\n')\n",
    "print('Variables Types Count :', variablesTypesCount)"
   ]
  },
  {
   "cell_type": "markdown",
   "id": "7e2c168a",
   "metadata": {},
   "source": [
    "**Correlation matix**"
   ]
  },
  {
   "cell_type": "code",
   "execution_count": 41,
   "id": "3e055eaa",
   "metadata": {},
   "outputs": [
    {
     "data": {
      "text/plain": "<Figure size 2880x1440 with 2 Axes>",
      "image/png": "[encoded data removed]"
     },
     "metadata": {},
     "output_type": "display_data"
    }
   ],
   "source": [
    "# Compute the correlation matrix\n",
    "corr_mat = df.corr()\n",
    "\n",
    "# Set up the figure\n",
    "fig, ax = plt.subplots(figsize=(40, 20))\n",
    "\n",
    "# Create the heatmap\n",
    "sns.heatmap(corr_mat, cmap='RdYlBu', annot=True, fmt='.2f', vmin=-1, vmax=1, square=True, ax=ax)\n",
    "\n",
    "# Set the title\n",
    "ax.set_title('Correlation Matrix')\n",
    "\n",
    "# Show the plot\n",
    "plt.show()"
   ]
  },
  {
   "cell_type": "markdown",
   "id": "ff3a0f44",
   "metadata": {},
   "source": [
    "Dropping the useless features."
   ]
  },
  {
   "cell_type": "code",
   "execution_count": 42,
   "id": "d8fc1f62",
   "metadata": {},
   "outputs": [
    {
     "name": "stdout",
     "output_type": "stream",
     "text": [
      "       workclass     education         occupation   relationship  gender  \\\n",
      "38789    Private  Some-college  Handlers-cleaners      Own-child    Male   \n",
      "40747    Private       HS-grad      Other-service      Unmarried  Female   \n",
      "4648     Private       HS-grad     Prof-specialty        Husband    Male   \n",
      "10200    Private       HS-grad              Sales  Not-in-family    Male   \n",
      "30395    Private       HS-grad       Craft-repair        Husband    Male   \n",
      "...          ...           ...                ...            ...     ...   \n",
      "13927    Private     Bachelors    Exec-managerial        Husband    Male   \n",
      "22834  Local-gov     Bachelors     Prof-specialty      Unmarried  Female   \n",
      "15367    Private       HS-grad       Craft-repair        Husband    Male   \n",
      "350            ?       HS-grad                  ?      Unmarried  Female   \n",
      "21581    Private       HS-grad  Handlers-cleaners      Unmarried    Male   \n",
      "\n",
      "       capital-gain  capital-loss native-country income  \n",
      "38789             0             0  United-States  <=50K  \n",
      "40747             0             0  United-States  <=50K  \n",
      "4648           7688             0              ?   >50K  \n",
      "10200             0             0  United-States  <=50K  \n",
      "30395             0             0  United-States  <=50K  \n",
      "...             ...           ...            ...    ...  \n",
      "13927             0             0  United-States   >50K  \n",
      "22834             0             0  United-States  <=50K  \n",
      "15367             0             0  United-States   >50K  \n",
      "350               0             0         Mexico  <=50K  \n",
      "21581             0             0  United-States  <=50K  \n",
      "\n",
      "[9766 rows x 9 columns]\n"
     ]
    }
   ],
   "source": [
    "df = df.drop(['age', 'educational-num', 'marital-status', 'hours-per-week', 'race', 'fnlwgt'], axis=1)\n",
    "print(df)"
   ]
  },
  {
   "cell_type": "markdown",
   "id": "38d98767",
   "metadata": {},
   "source": [
    "C) Analysis of the target variable"
   ]
  },
  {
   "cell_type": "code",
   "execution_count": 43,
   "id": "ed4699ef",
   "metadata": {},
   "outputs": [
    {
     "name": "stdout",
     "output_type": "stream",
     "text": [
      "Repartition of the target :\n",
      " <=50K    7397\n",
      ">50K     2369\n",
      "Name: income, dtype: int64\n",
      "\n",
      "Type of this variable: object\n"
     ]
    },
    {
     "data": {
      "text/plain": "<AxesSubplot:ylabel='income'>"
     },
     "execution_count": 43,
     "metadata": {},
     "output_type": "execute_result"
    },
    {
     "data": {
      "text/plain": "<Figure size 432x288 with 1 Axes>",
      "image/png": "[encoded data removed]"
     },
     "metadata": {},
     "output_type": "display_data"
    }
   ],
   "source": [
    "count_target = df['income'].value_counts()\n",
    "target_type = df['income'].dtype\n",
    "\n",
    "print('Repartition of the target :\\n', count_target)\n",
    "print('\\nType of this variable:', target_type)\n",
    "count_target.plot.pie()"
   ]
  },
  {
   "cell_type": "markdown",
   "id": "36c11f4f",
   "metadata": {},
   "source": [
    "## 2 - Pre-processing"
   ]
  },
  {
   "cell_type": "code",
   "execution_count": 44,
   "id": "95c9cf02",
   "metadata": {},
   "outputs": [],
   "source": [
    "from sklearn import preprocessing\n",
    "from sklearn.model_selection import train_test_split"
   ]
  },
  {
   "cell_type": "markdown",
   "id": "4daa53ab",
   "metadata": {},
   "source": [
    "Pre-processing of the variables"
   ]
  },
  {
   "cell_type": "code",
   "execution_count": 45,
   "id": "d6b4fec6",
   "metadata": {},
   "outputs": [
    {
     "name": "stdout",
     "output_type": "stream",
     "text": [
      "['workclass', 'education', 'occupation', 'relationship', 'gender', 'capital-gain', 'capital-loss', 'native-country', 'income']\n",
      "       workclass  education  occupation  relationship  gender  capital-gain  \\\n",
      "38789          4         15           6             3       1             0   \n",
      "40747          4         11           8             4       0             0   \n",
      "4648           4         11          10             0       1          7688   \n",
      "10200          4         11          12             1       1             0   \n",
      "30395          4         11           3             0       1             0   \n",
      "...          ...        ...         ...           ...     ...           ...   \n",
      "13927          4          9           4             0       1             0   \n",
      "22834          2          9          10             4       0             0   \n",
      "15367          4         11           3             0       1             0   \n",
      "350            0         11           0             4       0             0   \n",
      "21581          4         11           6             4       1             0   \n",
      "\n",
      "       capital-loss  native-country  income  \n",
      "38789             0              38       0  \n",
      "40747             0              38       0  \n",
      "4648              0               0       1  \n",
      "10200             0              38       0  \n",
      "30395             0              38       0  \n",
      "...             ...             ...     ...  \n",
      "13927             0              38       1  \n",
      "22834             0              38       0  \n",
      "15367             0              38       1  \n",
      "350               0              25       0  \n",
      "21581             0              38       0  \n",
      "\n",
      "[9766 rows x 9 columns]\n"
     ]
    }
   ],
   "source": [
    "print(df.columns.tolist())\n",
    "encoder = preprocessing.LabelEncoder()\n",
    "features = ['workclass', 'education', 'occupation', 'relationship', 'gender', 'native-country', 'income']\n",
    "df[features] = df[features].apply(encoder.fit_transform)\n",
    "print(df)"
   ]
  },
  {
   "cell_type": "markdown",
   "id": "785148c4",
   "metadata": {},
   "source": [
    "We can finally build the matrices X and y."
   ]
  },
  {
   "cell_type": "code",
   "execution_count": 46,
   "id": "b1e2358a",
   "metadata": {},
   "outputs": [
    {
     "name": "stdout",
     "output_type": "stream",
     "text": [
      "       workclass  education  occupation  relationship  gender  capital-gain  \\\n",
      "38789          4         15           6             3       1             0   \n",
      "40747          4         11           8             4       0             0   \n",
      "4648           4         11          10             0       1          7688   \n",
      "10200          4         11          12             1       1             0   \n",
      "30395          4         11           3             0       1             0   \n",
      "...          ...        ...         ...           ...     ...           ...   \n",
      "13927          4          9           4             0       1             0   \n",
      "22834          2          9          10             4       0             0   \n",
      "15367          4         11           3             0       1             0   \n",
      "350            0         11           0             4       0             0   \n",
      "21581          4         11           6             4       1             0   \n",
      "\n",
      "       capital-loss  native-country  \n",
      "38789             0              38  \n",
      "40747             0              38  \n",
      "4648              0               0  \n",
      "10200             0              38  \n",
      "30395             0              38  \n",
      "...             ...             ...  \n",
      "13927             0              38  \n",
      "22834             0              38  \n",
      "15367             0              38  \n",
      "350               0              25  \n",
      "21581             0              38  \n",
      "\n",
      "[9766 rows x 8 columns]\n",
      "38789    0\n",
      "40747    0\n",
      "4648     1\n",
      "10200    0\n",
      "30395    0\n",
      "        ..\n",
      "13927    1\n",
      "22834    0\n",
      "15367    1\n",
      "350      0\n",
      "21581    0\n",
      "Name: income, Length: 9766, dtype: int32\n",
      "(6836, 8)\n",
      "(2930, 8)\n"
     ]
    }
   ],
   "source": [
    "X = df.drop(['income'], axis=1)\n",
    "y = df['income']\n",
    "\n",
    "print(X)\n",
    "print(y)\n",
    "\n",
    "# Samples for training and testing\n",
    "X_train, X_test, y_train, y_test = train_test_split(X, y, test_size=0.3, train_size=0.7)\n",
    "print(X_train.shape)\n",
    "print(X_test.shape)"
   ]
  },
  {
   "cell_type": "markdown",
   "id": "ade74e95",
   "metadata": {},
   "source": [
    "## 3 - Ensemble learning methods"
   ]
  },
  {
   "cell_type": "markdown",
   "id": "7b574f29",
   "metadata": {},
   "source": [
    "#### A) Bagging method"
   ]
  },
  {
   "cell_type": "code",
   "execution_count": 47,
   "id": "b8425d97",
   "metadata": {},
   "outputs": [],
   "source": [
    "from collections import Counter\n",
    "from sklearn.ensemble import BaggingClassifier\n",
    "from sklearn.neighbors import KNeighborsClassifier\n",
    "from sklearn.linear_model import LogisticRegression\n",
    "from sklearn.tree import DecisionTreeClassifier\n",
    "from sklearn.model_selection import GridSearchCV\n",
    "from sklearn.metrics import accuracy_score"
   ]
  },
  {
   "cell_type": "markdown",
   "id": "f1302a2c",
   "metadata": {},
   "source": [
    "We can try several methods and compare their performances.\n"
   ]
  },
  {
   "cell_type": "markdown",
   "id": "798f0ef9",
   "metadata": {},
   "source": [
    "Bagging method from scratch."
   ]
  },
  {
   "cell_type": "code",
   "execution_count": 48,
   "id": "0c4ae2dd",
   "metadata": {},
   "outputs": [
    {
     "name": "stdout",
     "output_type": "stream",
     "text": [
      "Accuracy for Bagging from Scratch with KNN : 0.8484641638225257\n",
      "Accuracy for Bagging from Scratch with LR : 0.8\n",
      "Accuracy for Bagging from Scratch with LR : 0.8481228668941979\n"
     ]
    }
   ],
   "source": [
    "def BaggingScratch(X_train, y_train, X_test, base_estimator, n_estimators=10):\n",
    "    y_pred = np.zeros((X_test.shape[0], n_estimators))  # Initialization of the array which will store all the predictions for n estimators\n",
    "\n",
    "    for i in range(n_estimators):\n",
    "        num = np.random.choice(X_train.index.values, size=X_train.shape[0], replace=True)  # Resample with replacement\n",
    "        X_bstr = X_train.loc[num]  # Access to the row which has index num\n",
    "        y_bstr = y_train.loc[num]  # Access to the column which has index num\n",
    "        base_estimator.fit(X_bstr, y_bstr)  # Fitting with a base_estimator\n",
    "        y_pred[:, i] = base_estimator.predict(X_test)  # Writing the predictions results in y_pred array\n",
    "\n",
    "    # Aggregate the predictions using majority voting\n",
    "    y_pred_majority = np.zeros(X_test.shape[0])\n",
    "    for i in range(X_test.shape[0]):\n",
    "        y_pred_i = y_pred[i, :]\n",
    "        c = Counter(y_pred_i)  # Read all the values in y_pred_i\n",
    "        y_pred_majority[i] = c.most_common(1)[0][0]  # Getting the most common element and its count (passing 1 as argument and [0][0] to get the most common element)\n",
    "\n",
    "    return y_pred_majority\n",
    "\n",
    "knn = KNeighborsClassifier(n_neighbors=3)\n",
    "lr = LogisticRegression()\n",
    "dtc = DecisionTreeClassifier()\n",
    "y_pred_knn = BaggingScratch(X_train=X_train, y_train=y_train, X_test=X_test, base_estimator=knn)\n",
    "y_pred_lr = BaggingScratch(X_train=X_train, y_train=y_train, X_test=X_test, base_estimator=lr)\n",
    "y_pred_dtc = BaggingScratch(X_train=X_train, y_train=y_train, X_test=X_test, base_estimator=dtc)\n",
    "# number of estimators is set to 100 by default\n",
    "\n",
    "accuracyScratch_KNN = accuracy_score(y_test, y_pred_knn)\n",
    "accuracyScratch_LR = accuracy_score(y_test, y_pred_lr)\n",
    "accuracyScratch_DTC = accuracy_score(y_test, y_pred_dtc)\n",
    "print('Accuracy for Bagging from Scratch with KNN :', accuracyScratch_KNN)\n",
    "print('Accuracy for Bagging from Scratch with LR :', accuracyScratch_LR)\n",
    "print('Accuracy for Bagging from Scratch with LR :', accuracyScratch_DTC)"
   ]
  },
  {
   "cell_type": "markdown",
   "id": "45a959d2",
   "metadata": {},
   "source": [
    "Bagging method using scikit-learn."
   ]
  },
  {
   "cell_type": "code",
   "execution_count": 49,
   "id": "653d06b6",
   "metadata": {},
   "outputs": [
    {
     "name": "stdout",
     "output_type": "stream",
     "text": [
      "Best value of n_estimators: 50\n",
      "Accuracy for bagging with KNN: 0.8593856655290102\n",
      "Best value of k: 5\n",
      "Accuracy with single KNN: 0.8498293515358362\n",
      "The bagging method has a better accuracy than the single method.\n",
      "The difference of accuracies between the single method and the bagging is : 0.009556313993174026\n"
     ]
    }
   ],
   "source": [
    "# Bagging KNN\n",
    "# Defining different values of n_estimators to try\n",
    "n_estimators = [10, 20, 50, 100, 200]\n",
    "\n",
    "# Defining the parameter grid for the Bagging Classifier\n",
    "param_grid = {'n_estimators': n_estimators, 'base_estimator': [KNeighborsClassifier()]}\n",
    "\n",
    "# Performing Grid Search to find the best value of n_estimators for the bagging classifier\n",
    "model1_KNN = GridSearchCV(BaggingClassifier(), param_grid=param_grid)\n",
    "model1_KNN.fit(X_train, y_train)\n",
    "model1_KNN.predict(X_test)\n",
    "accuracy1 = model1_KNN.score(X_test, y_test)\n",
    "\n",
    "print(\"Best value of n_estimators:\", model1_KNN.best_params_['n_estimators'])\n",
    "print(\"Accuracy for bagging with KNN:\", accuracy1)\n",
    "\n",
    "###\n",
    "\n",
    "# Single KNN\n",
    "# Defining different values of n_neighbors to try\n",
    "n_neighbors = [i for i in range(1, 27, 2)]\n",
    "\n",
    "# loop over different values of n_neighbors and evaluate the score to select the hyperparameters with high score\n",
    "best_score = 0\n",
    "best_k = 0\n",
    "for k in n_neighbors:\n",
    "    # For each value of n_neighbors, we execute a model prediction and look at its accuracy.\n",
    "    model = KNeighborsClassifier(n_neighbors=k)\n",
    "    model.fit(X_train, y_train)\n",
    "    model.predict(X_test)\n",
    "    score = model.score(X_test, y_test)\n",
    "    if score > best_score:  # The parameters with the best accuracy are stored into variables\n",
    "        best_score = score\n",
    "        best_k = k\n",
    "\n",
    "model2_KNN = KNeighborsClassifier(n_neighbors=best_k)\n",
    "model2_KNN.fit(X_train, y_train)\n",
    "model2_KNN.predict(X_test)\n",
    "accuracy2 = model2_KNN.score(X_test, y_test)\n",
    "\n",
    "print(\"Best value of k:\", best_k)\n",
    "print(\"Accuracy with single KNN:\", accuracy2)\n",
    "\n",
    "\n",
    "if (accuracy1 > accuracy2):\n",
    "    print('The bagging method has a better accuracy than the single method.')\n",
    "elif (accuracy1 < accuracy2):\n",
    "    print('The single method has a better accuracy than the bagging method.')\n",
    "elif (accuracy1 == accuracy2):\n",
    "    print('The single method and the bagging method as same accuracies.')\n",
    "print('The difference of accuracies between the single method and the bagging is :', abs(accuracy2 - accuracy1))"
   ]
  },
  {
   "cell_type": "code",
   "execution_count": 50,
   "id": "7c6316b6",
   "metadata": {},
   "outputs": [
    {
     "name": "stdout",
     "output_type": "stream",
     "text": [
      "Best value of n_estimators for Logistic Regression: 100\n",
      "Accuracy for bagging with Logistic Regression: 0.7996587030716723\n",
      "Best parameters: {'C': 0.1, 'penalty': 'l2', 'solver': 'liblinear'}\n",
      "Accuracy for Logistic Regression: 0.8017064846416382\n",
      "The single method has a better accuracy than the bagging method.\n",
      "The difference of accuracies between the single method and the bagging is : 0.0020477815699658786\n"
     ]
    }
   ],
   "source": [
    "# Bagging Logistic Regression\n",
    "# Defining different values of n_estimators to try\n",
    "n_estimators = [10, 50, 100, 200]\n",
    "\n",
    "# Defining the parameter grid for the Bagging Classifier\n",
    "param_grid = {'n_estimators': n_estimators, 'base_estimator': [LogisticRegression()]}\n",
    "\n",
    "model1_LR = GridSearchCV(BaggingClassifier(), param_grid=param_grid)  # Performing Grid Search to find the best parameters for the Bagging Classifier\n",
    "model1_LR.fit(X_train, y_train)\n",
    "model1_LR.predict(X_test)\n",
    "accuracy1 = model1_LR.score(X_test, y_test)\n",
    "\n",
    "print(\"Best value of n_estimators for Logistic Regression:\", model1_LR.best_params_['n_estimators'])\n",
    "print(\"Accuracy for bagging with Logistic Regression:\", accuracy1)\n",
    "\n",
    "###\n",
    "\n",
    "# Single Logistic Regression\n",
    "# Defining the parameter grid for logistic regression\n",
    "param_grid = {\n",
    "    'penalty': ['l1', 'l2', 'elasticnet'],\n",
    "    'C': [0.01, 0.1, 1, 10, 100],\n",
    "    'solver': ['lbfgs', 'liblinear', 'saga']\n",
    "}\n",
    "\n",
    "model2_LR = GridSearchCV(LogisticRegression(), param_grid=param_grid)  # Performing Grid Search to find the best parameters for Logistic Regression\n",
    "model2_LR.fit(X_train, y_train)\n",
    "model2_LR.predict(X_test)\n",
    "accuracy2 = model2_LR.score(X_test, y_test)\n",
    "\n",
    "print(\"Best parameters:\", model2_LR.best_params_)\n",
    "print(\"Accuracy for Logistic Regression:\", accuracy2)\n",
    "\n",
    "###\n",
    "\n",
    "if (accuracy1 > accuracy2):\n",
    "    print('The bagging method has a better accuracy than the single method.')\n",
    "elif (accuracy1 < accuracy2):\n",
    "    print('The single method has a better accuracy than the bagging method.')\n",
    "elif (accuracy1 == accuracy2):\n",
    "    print('The single method and the bagging method as same accuracies.')\n",
    "print('The difference of accuracies between the single method and the bagging is :', abs(accuracy2 - accuracy1))"
   ]
  },
  {
   "cell_type": "code",
   "execution_count": 52,
   "outputs": [
    {
     "name": "stdout",
     "output_type": "stream",
     "text": [
      "Best value of n_estimators for Decision Tree Classifier: 200\n",
      "Accuracy for bagging with Decision Tree Classifier: 0.8498293515358362\n",
      "Accuracy for Decision Tree Classifier: 0.8361774744027304\n",
      "The bagging method has a better accuracy than the single method.\n",
      "The difference of accuracies between the single method and the bagging is : 0.013651877133105783\n"
     ]
    }
   ],
   "source": [
    "# Bagging Decision Tree Classifier (default method on Scikit-Learn)\n",
    "# Defining different values of n_estimators to try\n",
    "n_estimators = [10, 50, 100, 200]\n",
    "\n",
    "# Defining the parameter grid for the Bagging Classifier\n",
    "param_grid = {'n_estimators': n_estimators, 'base_estimator': [DecisionTreeClassifier()]}\n",
    "\n",
    "model1_DTC = GridSearchCV(BaggingClassifier(), param_grid=param_grid)  # Performing Grid Search to find the best parameters for the Bagging Classifier\n",
    "model1_DTC.fit(X_train, y_train)\n",
    "model1_DTC.predict(X_test)\n",
    "accuracy1 = model1_DTC.score(X_test, y_test)\n",
    "\n",
    "print(\"Best value of n_estimators for Decision Tree Classifier:\", model1_DTC.best_params_['n_estimators'])\n",
    "print(\"Accuracy for bagging with Decision Tree Classifier:\", accuracy1)\n",
    "\n",
    "###\n",
    "\n",
    "# Single Decision Tree classifier\n",
    "model2_DTC = DecisionTreeClassifier()\n",
    "model2_DTC.fit(X_train, y_train)\n",
    "model2_DTC.predict(X_test)\n",
    "accuracy2 = model2_DTC.score(X_test, y_test)\n",
    "\n",
    "print(\"Accuracy for Decision Tree Classifier:\", accuracy2)\n",
    "\n",
    "###\n",
    "\n",
    "if (accuracy1 > accuracy2):\n",
    "    print('The bagging method has a better accuracy than the single method.')\n",
    "elif (accuracy1 < accuracy2):\n",
    "    print('The single method has a better accuracy than the bagging method.')\n",
    "elif (accuracy1 == accuracy2):\n",
    "    print('The single method and the bagging method as same accuracies.')\n",
    "print('The difference of accuracies between the single method and the bagging is :', abs(accuracy2 - accuracy1))"
   ],
   "metadata": {
    "collapsed": false
   }
  },
  {
   "cell_type": "code",
   "execution_count": null,
   "id": "4bf89e5b",
   "metadata": {},
   "outputs": [],
   "source": [
    "# Prediction on a new observation\n",
    "newPerson_df = pd.DataFrame(data=[['Local-gov', 'Some-college', 'Protective-serv', 'Husband', 'Male', 0, 0, 'United-States']], columns=features)\n",
    "newPerson_df[features] = newPerson_df[features].apply(encoder.fit_transform)\n",
    "\n",
    "pred_BaggingKNN = model2_KNN.predict(newPerson_df)\n",
    "if pred_BaggingKNN == 0:\n",
    "    pred_BaggingKNN = 'Earn less than $50K'\n",
    "elif pred_BaggingKNN == 1:\n",
    "    pred_BaggingKNN = 'Earn more than $50K'\n",
    "print(\"Prediction Bagging KNN:\", pred_BaggingKNN)\n",
    "\n",
    "pred_BaggingLR = model2_LR.predict(newPerson_df)\n",
    "if pred_BaggingLR == 0:\n",
    "    pred_BaggingLR = 'Earn less than $50K'\n",
    "elif pred_BaggingLR == 1:\n",
    "    pred_BaggingLR = 'Earn more than $50K'\n",
    "print(\"Prediction Bagging LR:\", pred_BaggingLR)"
   ]
  },
  {
   "cell_type": "markdown",
   "id": "dcbe1c18",
   "metadata": {},
   "source": [
    "#### B) Boosting method"
   ]
  },
  {
   "cell_type": "code",
   "execution_count": 53,
   "id": "657f897a",
   "metadata": {},
   "outputs": [],
   "source": [
    "from sklearn.ensemble import AdaBoostClassifier"
   ]
  },
  {
   "cell_type": "code",
   "execution_count": 54,
   "id": "1cd9b11a",
   "metadata": {},
   "outputs": [
    {
     "name": "stdout",
     "output_type": "stream",
     "text": [
      "Best parameters: {'C': 0.01, 'penalty': 'l2', 'solver': 'lbfgs'}\n",
      "Accuracy for Logistic Regression: 0.7996587030716723\n",
      "Best value of n_estimators for Logistic Regression: 200\n",
      "Accuracy for boosting with Logistic Regression: 0.8010238907849829\n",
      "The boosting method has a better accuracy than the single method.\n",
      "The difference of accuracies between the single method and the boosting is : 0.0013651877133106227\n"
     ]
    }
   ],
   "source": [
    "# Single Logistic Regression\n",
    "# define the parameter grid for logistic regression\n",
    "param_grid = {\n",
    "    'penalty': ['l1', 'l2', 'elasticnet'],\n",
    "    'C': [0.01, 0.1, 1, 10, 100],\n",
    "    'solver': ['lbfgs', 'liblinear', 'saga']\n",
    "}\n",
    "\n",
    "# perform grid search to find the best parameters for logistic regression\n",
    "model = GridSearchCV(LogisticRegression(), param_grid=param_grid, cv=10)\n",
    "model.fit(X_train, y_train)\n",
    "model.predict(X_test)\n",
    "accuracy1 = model.score(X_test, y_test)\n",
    "\n",
    "print(\"Best parameters:\", model.best_params_)\n",
    "print(\"Accuracy for Logistic Regression:\", accuracy1)\n",
    "\n",
    "###\n",
    "# Boosting Logistic Regression\n",
    "# define the range of values of n_estimators to try\n",
    "n_estimators = [10, 50, 100, 200]\n",
    "\n",
    "# define the parameter grid for the bagging classifier\n",
    "param_grid = {'n_estimators': n_estimators, 'base_estimator': [LogisticRegression()]}\n",
    "\n",
    "# perform grid search to find the best value of n_estimators for the bagging classifier\n",
    "model = GridSearchCV(AdaBoostClassifier(), param_grid=param_grid)\n",
    "model.fit(X_train, y_train)\n",
    "model.predict(X_test)\n",
    "accuracy2 = model.score(X_test, y_test)\n",
    "\n",
    "print(\"Best value of n_estimators for Logistic Regression:\", model.best_params_['n_estimators'])\n",
    "print(\"Accuracy for boosting with Logistic Regression:\", accuracy2)\n",
    "\n",
    "###\n",
    "\n",
    "if (accuracy2 > accuracy1):\n",
    "    print('The boosting method has a better accuracy than the single method.')\n",
    "elif (accuracy2 < accuracy1):\n",
    "    print('The single method has a better accuracy than the boosting method.')\n",
    "elif (accuracy2 == accuracy1):\n",
    "    print('The single method and the boosting method as same accuracies.')\n",
    "print('The difference of accuracies between the single method and the boosting is :', abs(accuracy2 - accuracy1))"
   ]
  },
  {
   "cell_type": "code",
   "execution_count": 55,
   "outputs": [
    {
     "name": "stdout",
     "output_type": "stream",
     "text": [
      "Best value of k: 5\n",
      "Accuracy with single Decision tree classifier: 0.8361774744027304\n",
      "Best value of n_estimators: 200\n",
      "Best value of learning_rate: 1.0\n",
      "Accuracy for boosting with Decision tree classifier: 0.8638225255972696\n",
      "The boosting method has a better accuracy than the single method.\n",
      "The difference of accuracies between the single method and the boosting is : 0.027645051194539194\n"
     ]
    }
   ],
   "source": [
    "# Single Decision tree\n",
    "model1 = DecisionTreeClassifier()\n",
    "model1.fit(X_train, y_train)\n",
    "model1.predict(X_test)\n",
    "accuracy1 = model1.score(X_test, y_test)\n",
    "\n",
    "print(\"Best value of k:\", best_k)\n",
    "print(\"Accuracy with single Decision tree classifier:\", accuracy1)\n",
    "\n",
    "###\n",
    "\n",
    "# Boosting Decision tree classifier\n",
    "# Defining different values of n_estimators to try\n",
    "n_estimators = [10, 20, 50, 100, 200]\n",
    "learning_rate = [0.01, 0.1, 1.0]\n",
    "\n",
    "# Defining the parameter grid for the Bagging Classifier\n",
    "param_grid = {'n_estimators': n_estimators, 'learning_rate': learning_rate}\n",
    "\n",
    "# Performing Grid Search to find the best value of n_estimators for the bagging classifier\n",
    "model2 = GridSearchCV(AdaBoostClassifier(), param_grid=param_grid)\n",
    "model2.fit(X_train, y_train)\n",
    "model2.predict(X_test)\n",
    "accuracy2 = model2.score(X_test, y_test)\n",
    "\n",
    "print(\"Best value of n_estimators:\", model2.best_params_['n_estimators'])\n",
    "print(\"Best value of learning_rate:\", model2.best_params_['learning_rate'])\n",
    "print(\"Accuracy for boosting with Decision tree classifier:\", accuracy2)\n",
    "\n",
    "###\n",
    "\n",
    "if (accuracy2 > accuracy1):\n",
    "    print('The boosting method has a better accuracy than the single method.')\n",
    "elif (accuracy2 < accuracy1):\n",
    "    print('The single method has a better accuracy than the boosting method.')\n",
    "elif (accuracy2 == accuracy1):\n",
    "    print('The single method and the boosting method as same accuracies.')\n",
    "print('The difference of accuracies between the single method and the boosting is :', abs(accuracy2 - accuracy1))\n"
   ],
   "metadata": {
    "collapsed": false
   }
  },
  {
   "cell_type": "code",
   "execution_count": null,
   "outputs": [],
   "source": [],
   "metadata": {
    "collapsed": false
   }
  }
 ],
 "metadata": {
  "kernelspec": {
   "display_name": "Python 3 (ipykernel)",
   "language": "python",
   "name": "python3"
  },
  "language_info": {
   "codemirror_mode": {
    "name": "ipython",
    "version": 3
   },
   "file_extension": ".py",
   "mimetype": "text/x-python",
   "name": "python",
   "nbconvert_exporter": "python",
   "pygments_lexer": "ipython3",
   "version": "3.9.13"
  }
 },
 "nbformat": 4,
 "nbformat_minor": 5
}
