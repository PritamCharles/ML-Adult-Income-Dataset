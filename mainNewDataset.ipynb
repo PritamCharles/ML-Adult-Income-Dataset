{
 "cells": [
  {
   "cell_type": "markdown",
   "id": "07d3d006",
   "metadata": {},
   "source": [
    " #"
   ]
  },
  {
   "attachments": {},
   "cell_type": "markdown",
   "id": "1090a221",
   "metadata": {},
   "source": [
    "# Ma422 Project - Adult income dataset"
   ]
  },
  {
   "attachments": {},
   "cell_type": "markdown",
   "id": "3b2e6f4f",
   "metadata": {},
   "source": [
    "Objective : The objective is to predict, according to some characteristics, if a person earns more than $50K per year or not\n"
   ]
  },
  {
   "cell_type": "markdown",
   "source": [
    "We import the librairies we need to read the datas and analyse it."
   ],
   "metadata": {
    "collapsed": false
   }
  },
  {
   "cell_type": "code",
   "execution_count": 61,
   "id": "66290795",
   "metadata": {},
   "outputs": [],
   "source": [
    "import pandas as pd\n",
    "from matplotlib import pyplot as plt\n",
    "import seaborn as sns\n",
    "import numpy as np\n",
    "import warnings\n",
    "warnings.filterwarnings('ignore')"
   ]
  },
  {
   "cell_type": "markdown",
   "source": [
    "We open and read the datas file."
   ],
   "metadata": {
    "collapsed": false
   }
  },
  {
   "cell_type": "code",
   "execution_count": 62,
   "id": "e0c382d4",
   "metadata": {},
   "outputs": [
    {
     "name": "stdout",
     "output_type": "stream",
     "text": [
      "       age     workclass  fnlwgt     education  educational-num  \\\n",
      "30057   64     Local-gov  182866       HS-grad                9   \n",
      "45969   26  Self-emp-inc  187652       HS-grad                9   \n",
      "13556   41       Private  413365       HS-grad                9   \n",
      "21149   22       Private  162869  Some-college               10   \n",
      "35406   19       Private   86860  Some-college               10   \n",
      "...    ...           ...     ...           ...              ...   \n",
      "37940   38       Private  131808     Assoc-voc               11   \n",
      "22440   41       Private  141642       HS-grad                9   \n",
      "20523   42       Private  263608  Some-college               10   \n",
      "46878   42     Local-gov  191149       Masters               14   \n",
      "14538   49       Private  164733       HS-grad                9   \n",
      "\n",
      "           marital-status        occupation    relationship   race  gender  \\\n",
      "30057             Widowed     Other-service       Unmarried  White  Female   \n",
      "45969            Divorced   Exec-managerial   Not-in-family  White    Male   \n",
      "13556  Married-civ-spouse  Transport-moving         Husband  Black    Male   \n",
      "21149       Never-married             Sales  Other-relative  White    Male   \n",
      "35406       Never-married   Exec-managerial       Own-child  White    Male   \n",
      "...                   ...               ...             ...    ...     ...   \n",
      "37940            Divorced      Craft-repair       Unmarried  White    Male   \n",
      "22440       Never-married     Other-service   Not-in-family  White  Female   \n",
      "20523            Divorced      Craft-repair       Own-child  White    Male   \n",
      "46878       Never-married    Prof-specialty       Unmarried  White  Female   \n",
      "14538            Divorced   Protective-serv   Not-in-family  White    Male   \n",
      "\n",
      "       capital-gain  capital-loss  hours-per-week native-country income  \n",
      "30057             0             0              40  United-States  <=50K  \n",
      "45969             0             0              78  United-States   >50K  \n",
      "13556             0             0              40  United-States  <=50K  \n",
      "21149             0             0              65  United-States  <=50K  \n",
      "35406             0             0              15  United-States  <=50K  \n",
      "...             ...           ...             ...            ...    ...  \n",
      "37940             0             0              40  United-States  <=50K  \n",
      "22440             0             0              40  United-States  <=50K  \n",
      "20523             0             0              40  United-States  <=50K  \n",
      "46878             0             0              40  United-States  <=50K  \n",
      "14538             0             0              40  United-States  <=50K  \n",
      "\n",
      "[9768 rows x 15 columns]\n"
     ]
    }
   ],
   "source": [
    "df = pd.read_csv('src/datas/adult.csv', header=0)\n",
    "df = df.sample(frac=0.2)  # Working with 20% of the dataset to avoid long time program run\n",
    "#df_copy = df.copy()\n",
    "print(df)"
   ]
  },
  {
   "attachments": {},
   "cell_type": "markdown",
   "id": "e97399e4",
   "metadata": {
    "collapsed": false
   },
   "source": [
    "## 1 - Quick dataset analysis"
   ]
  },
  {
   "cell_type": "markdown",
   "source": [
    "Now that the dataset is imported in the jupyter file, we can start exploring, digging in the datas to see what it is composed of, understand the variables in it, the possible links between them, find the target etc. This step is very important because it allows the user to understand the meaning of datasets, see if information has to be changed, or removed and also start thinking about how datas should be used with the future implemented model.\n",
    "\n",
    "A) Dataset cleaning and verifications\n",
    "\n"
   ],
   "metadata": {
    "collapsed": false
   }
  },
  {
   "cell_type": "markdown",
   "source": [
    "First, we check if there are repetitions of observations in the dataset. If yes, we erase them with the method `drop_duplicates` from `pandas` library."
   ],
   "metadata": {
    "collapsed": false
   }
  },
  {
   "cell_type": "code",
   "execution_count": 63,
   "outputs": [
    {
     "name": "stdout",
     "output_type": "stream",
     "text": [
      "       age     workclass  fnlwgt     education  educational-num  \\\n",
      "30057   64     Local-gov  182866       HS-grad                9   \n",
      "45969   26  Self-emp-inc  187652       HS-grad                9   \n",
      "13556   41       Private  413365       HS-grad                9   \n",
      "21149   22       Private  162869  Some-college               10   \n",
      "35406   19       Private   86860  Some-college               10   \n",
      "...    ...           ...     ...           ...              ...   \n",
      "37940   38       Private  131808     Assoc-voc               11   \n",
      "22440   41       Private  141642       HS-grad                9   \n",
      "20523   42       Private  263608  Some-college               10   \n",
      "46878   42     Local-gov  191149       Masters               14   \n",
      "14538   49       Private  164733       HS-grad                9   \n",
      "\n",
      "           marital-status        occupation    relationship   race  gender  \\\n",
      "30057             Widowed     Other-service       Unmarried  White  Female   \n",
      "45969            Divorced   Exec-managerial   Not-in-family  White    Male   \n",
      "13556  Married-civ-spouse  Transport-moving         Husband  Black    Male   \n",
      "21149       Never-married             Sales  Other-relative  White    Male   \n",
      "35406       Never-married   Exec-managerial       Own-child  White    Male   \n",
      "...                   ...               ...             ...    ...     ...   \n",
      "37940            Divorced      Craft-repair       Unmarried  White    Male   \n",
      "22440       Never-married     Other-service   Not-in-family  White  Female   \n",
      "20523            Divorced      Craft-repair       Own-child  White    Male   \n",
      "46878       Never-married    Prof-specialty       Unmarried  White  Female   \n",
      "14538            Divorced   Protective-serv   Not-in-family  White    Male   \n",
      "\n",
      "       capital-gain  capital-loss  hours-per-week native-country income  \n",
      "30057             0             0              40  United-States  <=50K  \n",
      "45969             0             0              78  United-States   >50K  \n",
      "13556             0             0              40  United-States  <=50K  \n",
      "21149             0             0              65  United-States  <=50K  \n",
      "35406             0             0              15  United-States  <=50K  \n",
      "...             ...           ...             ...            ...    ...  \n",
      "37940             0             0              40  United-States  <=50K  \n",
      "22440             0             0              40  United-States  <=50K  \n",
      "20523             0             0              40  United-States  <=50K  \n",
      "46878             0             0              40  United-States  <=50K  \n",
      "14538             0             0              40  United-States  <=50K  \n",
      "\n",
      "[9767 rows x 15 columns]\n"
     ]
    }
   ],
   "source": [
    "df = df.drop_duplicates()\n",
    "print(df)"
   ],
   "metadata": {
    "collapsed": false
   }
  },
  {
   "cell_type": "code",
   "execution_count": 64,
   "outputs": [],
   "source": [
    "# Remplace \"?\" by NaN\n",
    "df.replace(' ?', np.nan, inplace=True)"
   ],
   "metadata": {
    "collapsed": false
   }
  },
  {
   "cell_type": "markdown",
   "source": [
    "Then, we remove them in order to have valid datas to send to the model.\n",
    "We will use the method `isna` from `pandas` library to list the missing values."
   ],
   "metadata": {
    "collapsed": false
   }
  },
  {
   "cell_type": "code",
   "execution_count": 65,
   "id": "4351179c",
   "metadata": {
    "collapsed": false
   },
   "outputs": [
    {
     "data": {
      "text/plain": "<Figure size 1500x900 with 1 Axes>",
      "image/png": "[encoded data removed]"
     },
     "metadata": {},
     "output_type": "display_data"
    },
    {
     "name": "stdout",
     "output_type": "stream",
     "text": [
      "age                0.0\n",
      "workclass          0.0\n",
      "fnlwgt             0.0\n",
      "education          0.0\n",
      "educational-num    0.0\n",
      "marital-status     0.0\n",
      "occupation         0.0\n",
      "relationship       0.0\n",
      "race               0.0\n",
      "gender             0.0\n",
      "capital-gain       0.0\n",
      "capital-loss       0.0\n",
      "hours-per-week     0.0\n",
      "native-country     0.0\n",
      "income             0.0\n",
      "dtype: float64\n"
     ]
    }
   ],
   "source": [
    "plt.figure(figsize=(15, 9))\n",
    "sns.heatmap(df.isna(), cbar=False)\n",
    "plt.show()\n",
    "\n",
    "percentageOfNaNValues = (df.isna().sum() / df.shape[0]).sort_values(ascending=True)\n",
    "\n",
    "print(percentageOfNaNValues) # Normalized values between O and 1"
   ]
  },
  {
   "cell_type": "markdown",
   "source": [
    "B) Analysis the dataset"
   ],
   "metadata": {
    "collapsed": false
   }
  },
  {
   "cell_type": "code",
   "execution_count": 66,
   "id": "a8c41713",
   "metadata": {
    "collapsed": false
   },
   "outputs": [
    {
     "name": "stdout",
     "output_type": "stream",
     "text": [
      "Column names : Index(['age', 'workclass', 'fnlwgt', 'education', 'educational-num',\n",
      "       'marital-status', 'occupation', 'relationship', 'race', 'gender',\n",
      "       'capital-gain', 'capital-loss', 'hours-per-week', 'native-country',\n",
      "       'income'],\n",
      "      dtype='object') \n",
      "\n",
      "Dataset Shape : (9767, 15) \n",
      "\n",
      "Variables Types : age                 int64\n",
      "workclass          object\n",
      "fnlwgt              int64\n",
      "education          object\n",
      "educational-num     int64\n",
      "marital-status     object\n",
      "occupation         object\n",
      "relationship       object\n",
      "race               object\n",
      "gender             object\n",
      "capital-gain        int64\n",
      "capital-loss        int64\n",
      "hours-per-week      int64\n",
      "native-country     object\n",
      "income             object\n",
      "dtype: object \n",
      "\n",
      "Variables Types Count : object    9\n",
      "int64     6\n",
      "dtype: int64\n"
     ]
    }
   ],
   "source": [
    "columnNames = df.columns\n",
    "datasetShape = df.shape\n",
    "variablesTypes = df.dtypes\n",
    "variablesTypesCount = df.dtypes.value_counts()\n",
    "\n",
    "print('Column names :', columnNames, '\\n')\n",
    "print('Dataset Shape :', datasetShape, '\\n')\n",
    "print('Variables Types :', variablesTypes, '\\n')\n",
    "print('Variables Types Count :', variablesTypesCount)"
   ]
  },
  {
   "cell_type": "markdown",
   "source": [
    "Dropping the useless features."
   ],
   "metadata": {
    "collapsed": false
   }
  },
  {
   "cell_type": "code",
   "execution_count": 67,
   "outputs": [
    {
     "name": "stdout",
     "output_type": "stream",
     "text": [
      "          workclass     education        occupation    relationship  gender  \\\n",
      "30057     Local-gov       HS-grad     Other-service       Unmarried  Female   \n",
      "45969  Self-emp-inc       HS-grad   Exec-managerial   Not-in-family    Male   \n",
      "13556       Private       HS-grad  Transport-moving         Husband    Male   \n",
      "21149       Private  Some-college             Sales  Other-relative    Male   \n",
      "35406       Private  Some-college   Exec-managerial       Own-child    Male   \n",
      "...             ...           ...               ...             ...     ...   \n",
      "37940       Private     Assoc-voc      Craft-repair       Unmarried    Male   \n",
      "22440       Private       HS-grad     Other-service   Not-in-family  Female   \n",
      "20523       Private  Some-college      Craft-repair       Own-child    Male   \n",
      "46878     Local-gov       Masters    Prof-specialty       Unmarried  Female   \n",
      "14538       Private       HS-grad   Protective-serv   Not-in-family    Male   \n",
      "\n",
      "       capital-gain  capital-loss native-country income  \n",
      "30057             0             0  United-States  <=50K  \n",
      "45969             0             0  United-States   >50K  \n",
      "13556             0             0  United-States  <=50K  \n",
      "21149             0             0  United-States  <=50K  \n",
      "35406             0             0  United-States  <=50K  \n",
      "...             ...           ...            ...    ...  \n",
      "37940             0             0  United-States  <=50K  \n",
      "22440             0             0  United-States  <=50K  \n",
      "20523             0             0  United-States  <=50K  \n",
      "46878             0             0  United-States  <=50K  \n",
      "14538             0             0  United-States  <=50K  \n",
      "\n",
      "[9767 rows x 9 columns]\n"
     ]
    }
   ],
   "source": [
    "df = df.drop(['age', 'educational-num', 'marital-status', 'hours-per-week', 'race', 'fnlwgt'], axis=1)\n",
    "print(df)"
   ],
   "metadata": {
    "collapsed": false
   }
  },
  {
   "cell_type": "markdown",
   "source": [
    "C) Analysis of the target variable"
   ],
   "metadata": {
    "collapsed": false
   }
  },
  {
   "cell_type": "code",
   "execution_count": 68,
   "outputs": [
    {
     "name": "stdout",
     "output_type": "stream",
     "text": [
      "Repartition of the target :\n",
      " <=50K    7379\n",
      ">50K     2388\n",
      "Name: income, dtype: int64\n",
      "\n",
      "Type of this variable: object\n"
     ]
    },
    {
     "data": {
      "text/plain": "<Axes: ylabel='income'>"
     },
     "execution_count": 68,
     "metadata": {},
     "output_type": "execute_result"
    },
    {
     "data": {
      "text/plain": "<Figure size 640x480 with 1 Axes>",
      "image/png": "[encoded data removed]"
     },
     "metadata": {},
     "output_type": "display_data"
    }
   ],
   "source": [
    "count_target = df['income'].value_counts()\n",
    "target_type = df['income'].dtype\n",
    "\n",
    "print('Repartition of the target :\\n', count_target)\n",
    "print('\\nType of this variable:', target_type)\n",
    "count_target.plot.pie()"
   ],
   "metadata": {
    "collapsed": false
   }
  },
  {
   "cell_type": "markdown",
   "source": [
    "## 2 - Pre-processing"
   ],
   "metadata": {
    "collapsed": false
   }
  },
  {
   "cell_type": "code",
   "execution_count": 69,
   "outputs": [],
   "source": [
    "from sklearn import preprocessing\n",
    "from sklearn.model_selection import train_test_split"
   ],
   "metadata": {
    "collapsed": false
   }
  },
  {
   "cell_type": "markdown",
   "source": [
    "Pre-processing of the variables"
   ],
   "metadata": {
    "collapsed": false
   }
  },
  {
   "cell_type": "code",
   "execution_count": 70,
   "outputs": [
    {
     "name": "stdout",
     "output_type": "stream",
     "text": [
      "['workclass', 'education', 'occupation', 'relationship', 'gender', 'capital-gain', 'capital-loss', 'native-country', 'income']\n",
      "       workclass  education  occupation  relationship  gender  capital-gain  \\\n",
      "30057          2         11           8             4       0             0   \n",
      "45969          5         11           4             1       1             0   \n",
      "13556          4         11          14             0       1             0   \n",
      "21149          4         15          12             2       1             0   \n",
      "35406          4         15           4             3       1             0   \n",
      "...          ...        ...         ...           ...     ...           ...   \n",
      "37940          4          8           3             4       1             0   \n",
      "22440          4         11           8             1       0             0   \n",
      "20523          4         15           3             3       1             0   \n",
      "46878          2         12          10             4       0             0   \n",
      "14538          4         11          11             1       1             0   \n",
      "\n",
      "       capital-loss  native-country  income  \n",
      "30057             0              39       0  \n",
      "45969             0              39       1  \n",
      "13556             0              39       0  \n",
      "21149             0              39       0  \n",
      "35406             0              39       0  \n",
      "...             ...             ...     ...  \n",
      "37940             0              39       0  \n",
      "22440             0              39       0  \n",
      "20523             0              39       0  \n",
      "46878             0              39       0  \n",
      "14538             0              39       0  \n",
      "\n",
      "[9767 rows x 9 columns]\n"
     ]
    }
   ],
   "source": [
    "print(df.columns.tolist())\n",
    "encoder = preprocessing.LabelEncoder()\n",
    "features = ['workclass', 'education', 'occupation', 'relationship', 'gender', 'native-country', 'income']\n",
    "df[features] = df[features].apply(encoder.fit_transform)\n",
    "print(df)"
   ],
   "metadata": {
    "collapsed": false
   }
  },
  {
   "cell_type": "markdown",
   "source": [
    "We can finally build the matrices X and y."
   ],
   "metadata": {
    "collapsed": false
   }
  },
  {
   "cell_type": "code",
   "execution_count": 71,
   "outputs": [
    {
     "name": "stdout",
     "output_type": "stream",
     "text": [
      "       workclass  education  occupation  relationship  gender  capital-gain  \\\n",
      "30057          2         11           8             4       0             0   \n",
      "45969          5         11           4             1       1             0   \n",
      "13556          4         11          14             0       1             0   \n",
      "21149          4         15          12             2       1             0   \n",
      "35406          4         15           4             3       1             0   \n",
      "...          ...        ...         ...           ...     ...           ...   \n",
      "37940          4          8           3             4       1             0   \n",
      "22440          4         11           8             1       0             0   \n",
      "20523          4         15           3             3       1             0   \n",
      "46878          2         12          10             4       0             0   \n",
      "14538          4         11          11             1       1             0   \n",
      "\n",
      "       capital-loss  native-country  \n",
      "30057             0              39  \n",
      "45969             0              39  \n",
      "13556             0              39  \n",
      "21149             0              39  \n",
      "35406             0              39  \n",
      "...             ...             ...  \n",
      "37940             0              39  \n",
      "22440             0              39  \n",
      "20523             0              39  \n",
      "46878             0              39  \n",
      "14538             0              39  \n",
      "\n",
      "[9767 rows x 8 columns]\n",
      "30057    0\n",
      "45969    1\n",
      "13556    0\n",
      "21149    0\n",
      "35406    0\n",
      "        ..\n",
      "37940    0\n",
      "22440    0\n",
      "20523    0\n",
      "46878    0\n",
      "14538    0\n",
      "Name: income, Length: 9767, dtype: int32\n",
      "(6836, 8)\n",
      "(2931, 8)\n"
     ]
    }
   ],
   "source": [
    "X = df.drop(['income'], axis=1)\n",
    "y = df['income']\n",
    "\n",
    "print(X)\n",
    "print(y)\n",
    "\n",
    "# Samples for training and testing\n",
    "X_train, X_test, y_train, y_test = train_test_split(X, y, test_size=0.3, train_size=0.7)\n",
    "print(X_train.shape)\n",
    "print(X_test.shape)"
   ],
   "metadata": {
    "collapsed": false
   }
  },
  {
   "cell_type": "markdown",
   "source": [
    "## 3 - Ensemble learning methods"
   ],
   "metadata": {
    "collapsed": false
   }
  },
  {
   "cell_type": "markdown",
   "source": [
    "#### A) Bagging method"
   ],
   "metadata": {
    "collapsed": false
   }
  },
  {
   "cell_type": "markdown",
   "source": [
    "We import the needed librairies for this section."
   ],
   "metadata": {
    "collapsed": false
   }
  },
  {
   "cell_type": "code",
   "execution_count": 72,
   "outputs": [],
   "source": [
    "from collections import Counter\n",
    "from sklearn.ensemble import BaggingClassifier\n",
    "from sklearn.neighbors import KNeighborsClassifier\n",
    "from sklearn.linear_model import LogisticRegression\n",
    "from sklearn.model_selection import GridSearchCV\n",
    "from sklearn.metrics import accuracy_score"
   ],
   "metadata": {
    "collapsed": false
   }
  },
  {
   "cell_type": "markdown",
   "source": [
    "We can try several methods and compare their performances.\n"
   ],
   "metadata": {
    "collapsed": false
   }
  },
  {
   "cell_type": "markdown",
   "source": [
    "Bagging method from scratch."
   ],
   "metadata": {
    "collapsed": false
   }
  },
  {
   "cell_type": "code",
   "execution_count": 73,
   "outputs": [
    {
     "name": "stdout",
     "output_type": "stream",
     "text": [
      "Accuracy for Bagging from Scratch with KNN : 0.8437393381098601\n",
      "Accuracy for Bagging from Scratch with LR : 0.8007505970658478\n"
     ]
    }
   ],
   "source": [
    "def BaggingScratch(X_train, y_train, X_test, base_estimator, n_estimators=10):\n",
    "    y_pred = np.zeros((X_test.shape[0], n_estimators))  # Initialization of the array which will store all the predictions for n estimators\n",
    "\n",
    "    for i in range(n_estimators):\n",
    "        num = np.random.choice(X_train.index.values, size=X_train.shape[0], replace=True)  # Resample with replacement\n",
    "        X_bstr = X_train.loc[num]  # Access to the row which has index num\n",
    "        y_bstr = y_train.loc[num]  # Access to the column which has index num\n",
    "        base_estimator.fit(X_bstr, y_bstr)  # Fitting with a base_estimator\n",
    "        y_pred[:, i] = base_estimator.predict(X_test)  # Writing the predictions results in y_pred array\n",
    "\n",
    "    # Aggregate the predictions using majority voting\n",
    "    y_pred_majority = np.zeros(X_test.shape[0])\n",
    "    for i in range(X_test.shape[0]):\n",
    "        y_pred_i = y_pred[i, :]\n",
    "        c = Counter(y_pred_i)  # Read all the values in y_pred_i\n",
    "        y_pred_majority[i] = c.most_common(1)[0][0]  # Getting the most common element and its count (passing 1 as argument and [0][0] to get the most common element)\n",
    "\n",
    "    return y_pred_majority\n",
    "\n",
    "knn = KNeighborsClassifier(n_neighbors=3)\n",
    "lr = LogisticRegression()\n",
    "y_pred_knn = BaggingScratch(X_train=X_train, y_train=y_train, X_test=X_test, base_estimator=knn)\n",
    "y_pred_lr = BaggingScratch(X_train=X_train, y_train=y_train, X_test=X_test, base_estimator=lr)\n",
    "# number of estimators is set to 100 by default\n",
    "\n",
    "accuracyScratch_KNN = accuracy_score(y_test, y_pred_knn)\n",
    "accuracyScratch_LR = accuracy_score(y_test, y_pred_lr)\n",
    "print('Accuracy for Bagging from Scratch with KNN :', accuracyScratch_KNN)\n",
    "print('Accuracy for Bagging from Scratch with LR :', accuracyScratch_LR)"
   ],
   "metadata": {
    "collapsed": false
   }
  },
  {
   "cell_type": "markdown",
   "source": [
    "Bagging method using scikit-learn."
   ],
   "metadata": {
    "collapsed": false
   }
  },
  {
   "cell_type": "code",
   "execution_count": 74,
   "outputs": [
    {
     "name": "stdout",
     "output_type": "stream",
     "text": [
      "Best value of n_estimators: 20\n",
      "Accuracy for bagging with KNN: 0.8512453087683385\n",
      "Best value of k: 3\n",
      "Accuracy with single KNN: 0.8512453087683385\n",
      "The single method and the bagging method as same accuracies.\n",
      "The difference of accuracies between the single method and the bagging is : 0.0\n"
     ]
    }
   ],
   "source": [
    "# Bagging KNN\n",
    "# Defining different values of n_estimators to try\n",
    "n_estimators = [10, 20, 50, 100, 200]\n",
    "\n",
    "# Defining the parameter grid for the Bagging Classifier\n",
    "param_grid = {'n_estimators': n_estimators, 'base_estimator': [KNeighborsClassifier()]}\n",
    "\n",
    "# Performing Grid Search to find the best value of n_estimators for the bagging classifier\n",
    "model1_KNN = GridSearchCV(BaggingClassifier(), param_grid=param_grid)\n",
    "model1_KNN.fit(X_train, y_train)\n",
    "model1_KNN.predict(X_test)\n",
    "accuracy1 = model1_KNN.score(X_test, y_test)\n",
    "\n",
    "print(\"Best value of n_estimators:\", model1_KNN.best_params_['n_estimators'])\n",
    "print(\"Accuracy for bagging with KNN:\", accuracy1)\n",
    "\n",
    "###\n",
    "\n",
    "# Single KNN\n",
    "# Defining different values of n_neighbors to try\n",
    "n_neighbors = [i for i in range(1, 27, 2)]\n",
    "\n",
    "# loop over different values of n_neighbors and evaluate the score to select the hyperparameters with high score\n",
    "best_score = 0\n",
    "best_k = 0\n",
    "for k in n_neighbors:\n",
    "    # For each value of n_neighbors, we execute a model prediction and look at its accuracy.\n",
    "    model = KNeighborsClassifier(n_neighbors=k)\n",
    "    model.fit(X_train, y_train)\n",
    "    model.predict(X_test)\n",
    "    score = model.score(X_test, y_test)\n",
    "    if score > best_score:  # The parameters with the best accuracy are stored into variables\n",
    "        best_score = score\n",
    "        best_k = k\n",
    "\n",
    "model2_KNN = KNeighborsClassifier(n_neighbors=best_k)\n",
    "model2_KNN.fit(X_train, y_train)\n",
    "model2_KNN.predict(X_test)\n",
    "accuracy2 = model2_KNN.score(X_test, y_test)\n",
    "\n",
    "print(\"Best value of k:\", best_k)\n",
    "print(\"Accuracy with single KNN:\", accuracy2)\n",
    "\n",
    "\n",
    "if (accuracy1 > accuracy2):\n",
    "    print('The bagging method has a better accuracy than the single method.')\n",
    "elif (accuracy1 < accuracy2):\n",
    "    print('The single method has a better accuracy than the bagging method.')\n",
    "elif (accuracy1 == accuracy2):\n",
    "    print('The single method and the bagging method as same accuracies.')\n",
    "print('The difference of accuracies between the single method and the bagging is :', abs(accuracy2 - accuracy1))"
   ],
   "metadata": {
    "collapsed": false
   }
  },
  {
   "cell_type": "code",
   "execution_count": 75,
   "outputs": [
    {
     "name": "stderr",
     "output_type": "stream",
     "text": [
      "\n",
      "KeyboardInterrupt\n",
      "\n"
     ]
    }
   ],
   "source": [
    "# Bagging Logistic Regression\n",
    "# Defining different values of n_estimators to try\n",
    "n_estimators = [10, 50, 100, 200]\n",
    "\n",
    "# Defining the parameter grid for the Bagging Classifier\n",
    "param_grid = {'n_estimators': n_estimators, 'base_estimator': [LogisticRegression()]}\n",
    "\n",
    "model1_LR = GridSearchCV(BaggingClassifier(), param_grid=param_grid)  # Performing Grid Search to find the best parameters for the Bagging Classifier\n",
    "model1_LR.fit(X_train, y_train)\n",
    "model1_LR.predict(X_test)\n",
    "accuracy1 = model1_LR.score(X_test, y_test)\n",
    "\n",
    "print(\"Best value of n_estimators for Logistic Regression:\", model1_LR.best_params_['n_estimators'])\n",
    "print(\"Accuracy for bagging with Logistic Regression:\", accuracy1)\n",
    "\n",
    "###\n",
    "\n",
    "# Single Logistic Regression\n",
    "# Defining the parameter grid for logistic regression\n",
    "param_grid = {\n",
    "    'penalty': ['l1', 'l2', 'elasticnet'],\n",
    "    'C': [0.01, 0.1, 1, 10, 100],\n",
    "    'solver': ['lbfgs', 'liblinear', 'saga']\n",
    "}\n",
    "\n",
    "model2_LR = GridSearchCV(LogisticRegression(), param_grid=param_grid, cv=10)  # Performing Grid Search to find the best parameters for Logistic Regression\n",
    "model2_LR.fit(X_train, y_train)\n",
    "model2_LR.predict(X_test)\n",
    "accuracy2 = model2_LR.score(X_test, y_test)\n",
    "\n",
    "print(\"Best parameters:\", model2_LR.best_params_)\n",
    "print(\"Accuracy for Logistic Regression:\", accuracy2)\n",
    "\n",
    "###\n",
    "\n",
    "if (accuracy1 > accuracy2):\n",
    "    print('The bagging method has a better accuracy than the single method.')\n",
    "elif (accuracy1 < accuracy2):\n",
    "    print('The single method has a better accuracy than the bagging method.')\n",
    "elif (accuracy1 == accuracy2):\n",
    "    print('The single method and the bagging method as same accuracies.')\n",
    "print('The difference of accuracies between the single method and the bagging is :', abs(accuracy2 - accuracy1))"
   ],
   "metadata": {
    "collapsed": false
   }
  },
  {
   "cell_type": "code",
   "execution_count": null,
   "outputs": [],
   "source": [
    "# Prediction on a new observation\n",
    "newPerson_df = pd.DataFrame(data=[['Local-gov', 'Some-college', 'Protective-serv', 'Husband', 'Male', 0, 0, 'United-States']], columns=features)\n",
    "newPerson_df[features] = newPerson_df[features].apply(encoder.fit_transform)\n",
    "\n",
    "pred_BaggingKNN = model2_KNN.predict(newPerson_df)\n",
    "if pred_BaggingKNN == 0:\n",
    "    pred_BaggingKNN = 'Earn less than $50K'\n",
    "elif pred_BaggingKNN == 1:\n",
    "    pred_BaggingKNN = 'Earn more than $50K'\n",
    "print(\"Prediction Bagging KNN:\", pred_BaggingKNN)\n",
    "\n",
    "pred_BaggingLR = model2_LR.predict(newPerson_df)\n",
    "if pred_BaggingLR == 0:\n",
    "    pred_BaggingLR = 'Earn less than $50K'\n",
    "elif pred_BaggingLR == 1:\n",
    "    pred_BaggingLR = 'Earn more than $50K'\n",
    "print(\"Prediction Bagging LR:\", pred_BaggingLR)"
   ],
   "metadata": {
    "collapsed": false
   }
  },
  {
   "cell_type": "code",
   "execution_count": null,
   "outputs": [],
   "source": [],
   "metadata": {
    "collapsed": false
   }
  },
  {
   "cell_type": "code",
   "execution_count": null,
   "outputs": [],
   "source": [],
   "metadata": {
    "collapsed": false
   }
  }
 ],
 "metadata": {
  "kernelspec": {
   "display_name": "Python 3 (ipykernel)",
   "language": "python",
   "name": "python3"
  },
  "language_info": {
   "codemirror_mode": {
    "name": "ipython",
    "version": 3
   },
   "file_extension": ".py",
   "mimetype": "text/x-python",
   "name": "python",
   "nbconvert_exporter": "python",
   "pygments_lexer": "ipython3",
   "version": "3.10.4"
  }
 },
 "nbformat": 4,
 "nbformat_minor": 5
}
