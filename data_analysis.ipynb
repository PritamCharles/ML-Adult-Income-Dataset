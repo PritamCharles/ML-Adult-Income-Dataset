{
 "cells": [
  {
   "cell_type": "markdown",
   "id": "07d3d006",
   "metadata": {},
   "source": [
    " #"
   ]
  },
  {
   "attachments": {},
   "cell_type": "markdown",
   "id": "1090a221",
   "metadata": {},
   "source": [
    "# Ma422 Project - Fake bills dataset"
   ]
  },
  {
   "attachments": {},
   "cell_type": "markdown",
   "id": "3b2e6f4f",
   "metadata": {},
   "source": [
    "The objective is to predict if, according to several variables (left side height, right side height, lower margin, upper_margin etc.), a bill is genuine or not."
   ]
  },
  {
   "cell_type": "markdown",
   "source": [
    "First, we import the librairies we need for this project. We will import all of them in the cell below."
   ],
   "metadata": {
    "collapsed": false
   }
  },
  {
   "cell_type": "code",
   "execution_count": 11,
   "id": "66290795",
   "metadata": {},
   "outputs": [],
   "source": [
    "import pandas as pd\n",
    "from matplotlib import pyplot as plt\n",
    "import seaborn as sns"
   ]
  },
  {
   "cell_type": "markdown",
   "source": [
    "We open and read the datas file."
   ],
   "metadata": {
    "collapsed": false
   }
  },
  {
   "cell_type": "code",
   "execution_count": 12,
   "id": "e0c382d4",
   "metadata": {},
   "outputs": [
    {
     "name": "stdout",
     "output_type": "stream",
     "text": [
      "      is_genuine  diagonal  height_left  height_right  margin_low  margin_up  \\\n",
      "0           True    171.81       104.86        104.95        4.52       2.89   \n",
      "1           True    171.46       103.36        103.66        3.77       2.99   \n",
      "2           True    172.69       104.48        103.50        4.40       2.94   \n",
      "3           True    171.36       103.91        103.94        3.62       3.01   \n",
      "4           True    171.73       104.28        103.46        4.04       3.48   \n",
      "...          ...       ...          ...           ...         ...        ...   \n",
      "1495       False    171.75       104.38        104.17        4.42       3.09   \n",
      "1496       False    172.19       104.63        104.44        5.27       3.37   \n",
      "1497       False    171.80       104.01        104.12        5.51       3.36   \n",
      "1498       False    172.06       104.28        104.06        5.17       3.46   \n",
      "1499       False    171.47       104.15        103.82        4.63       3.37   \n",
      "\n",
      "      length  \n",
      "0     112.83  \n",
      "1     113.09  \n",
      "2     113.16  \n",
      "3     113.51  \n",
      "4     112.54  \n",
      "...      ...  \n",
      "1495  111.28  \n",
      "1496  110.97  \n",
      "1497  111.95  \n",
      "1498  112.25  \n",
      "1499  112.07  \n",
      "\n",
      "[1500 rows x 7 columns]\n"
     ]
    }
   ],
   "source": [
    "df = pd.read_csv('src/datas/fake_bills.csv', header=0, delimiter=';')\n",
    "df_copy = df.copy()\n",
    "print(df)"
   ]
  },
  {
   "attachments": {},
   "cell_type": "markdown",
   "id": "e97399e4",
   "metadata": {
    "collapsed": false
   },
   "source": [
    "## Dataset Analysis"
   ]
  },
  {
   "cell_type": "markdown",
   "source": [
    "1) Analysis of the form of the data set\n",
    "\n"
   ],
   "metadata": {
    "collapsed": false
   }
  },
  {
   "cell_type": "markdown",
   "source": [
    "First, we check if there are repetitions of observations. If yes, we erase them with the method 'drop_duplicates' of pandas."
   ],
   "metadata": {
    "collapsed": false
   }
  },
  {
   "cell_type": "code",
   "execution_count": 13,
   "outputs": [
    {
     "name": "stdout",
     "output_type": "stream",
     "text": [
      "      is_genuine  diagonal  height_left  height_right  margin_low  margin_up  \\\n",
      "0           True    171.81       104.86        104.95        4.52       2.89   \n",
      "1           True    171.46       103.36        103.66        3.77       2.99   \n",
      "2           True    172.69       104.48        103.50        4.40       2.94   \n",
      "3           True    171.36       103.91        103.94        3.62       3.01   \n",
      "4           True    171.73       104.28        103.46        4.04       3.48   \n",
      "...          ...       ...          ...           ...         ...        ...   \n",
      "1495       False    171.75       104.38        104.17        4.42       3.09   \n",
      "1496       False    172.19       104.63        104.44        5.27       3.37   \n",
      "1497       False    171.80       104.01        104.12        5.51       3.36   \n",
      "1498       False    172.06       104.28        104.06        5.17       3.46   \n",
      "1499       False    171.47       104.15        103.82        4.63       3.37   \n",
      "\n",
      "      length  \n",
      "0     112.83  \n",
      "1     113.09  \n",
      "2     113.16  \n",
      "3     113.51  \n",
      "4     112.54  \n",
      "...      ...  \n",
      "1495  111.28  \n",
      "1496  110.97  \n",
      "1497  111.95  \n",
      "1498  112.25  \n",
      "1499  112.07  \n",
      "\n",
      "[1500 rows x 7 columns]\n"
     ]
    }
   ],
   "source": [
    "df = df.drop_duplicates()\n",
    "print(df)"
   ],
   "metadata": {
    "collapsed": false
   }
  },
  {
   "cell_type": "markdown",
   "source": [
    "Observations :"
   ],
   "metadata": {
    "collapsed": false
   }
  },
  {
   "cell_type": "code",
   "execution_count": 14,
   "id": "4351179c",
   "metadata": {
    "collapsed": false
   },
   "outputs": [
    {
     "name": "stdout",
     "output_type": "stream",
     "text": [
      "Column names : Index(['is_genuine', 'diagonal', 'height_left', 'height_right', 'margin_low',\n",
      "       'margin_up', 'length'],\n",
      "      dtype='object') \n",
      "\n",
      "Dataset Shape : (1500, 7) \n",
      "\n",
      "Variables Types : is_genuine         bool\n",
      "diagonal        float64\n",
      "height_left     float64\n",
      "height_right    float64\n",
      "margin_low      float64\n",
      "margin_up       float64\n",
      "length          float64\n",
      "dtype: object \n",
      "\n",
      "Variables Types Count : float64    6\n",
      "bool       1\n",
      "dtype: int64\n"
     ]
    }
   ],
   "source": [
    "def formAnalysis():\n",
    "    columnNames = df.columns\n",
    "    datasetShape = df.shape\n",
    "    variablesTypes = df.dtypes\n",
    "    variablesTypesCount = df.dtypes.value_counts()\n",
    "\n",
    "    return columnNames, datasetShape, variablesTypes, variablesTypesCount\n",
    "\n",
    "\n",
    "columnNames, datasetShape, variablesTypes, variablesTypesCount = formAnalysis()\n",
    "print('Column names :', columnNames, '\\n')\n",
    "print('Dataset Shape :', datasetShape, '\\n')\n",
    "print('Variables Types :', variablesTypes, '\\n')\n",
    "print('Variables Types Count :', variablesTypesCount)"
   ]
  },
  {
   "cell_type": "markdown",
   "id": "bc2cb07b",
   "metadata": {
    "collapsed": false
   },
   "source": []
  },
  {
   "cell_type": "code",
   "execution_count": 15,
   "id": "a8c41713",
   "metadata": {
    "collapsed": false
   },
   "outputs": [
    {
     "data": {
      "text/plain": "<Figure size 1080x648 with 1 Axes>",
      "image/png": "[encoded data removed]"
     },
     "metadata": {},
     "output_type": "display_data"
    },
    {
     "name": "stdout",
     "output_type": "stream",
     "text": [
      "is_genuine      0.000000\n",
      "diagonal        0.000000\n",
      "height_left     0.000000\n",
      "height_right    0.000000\n",
      "margin_up       0.000000\n",
      "length          0.000000\n",
      "margin_low      0.024667\n",
      "dtype: float64\n"
     ]
    }
   ],
   "source": [
    "def plotNanValues():\n",
    "    plt.figure(figsize=(15, 9))\n",
    "    sns.heatmap(df.isna(), cbar=False)\n",
    "    plt.show()\n",
    "\n",
    "percentageOfNaNValues = (df.isna().sum() / df.shape[0]).sort_values(ascending=True)\n",
    "\n",
    "plotNanValues()\n",
    "print(percentageOfNaNValues) # Valeurs normalisées"
   ]
  },
  {
   "cell_type": "markdown",
   "source": [
    "Récapitulatif rapide\n",
    "- Variable target :\n",
    "- Lignes et colonnes :\n",
    "- Types de variables :\n",
    "- Analyse des valeurs manquantes :"
   ],
   "metadata": {
    "collapsed": false
   }
  },
  {
   "cell_type": "code",
   "execution_count": 15,
   "outputs": [],
   "source": [],
   "metadata": {
    "collapsed": false
   }
  }
 ],
 "metadata": {
  "kernelspec": {
   "display_name": "Python 3 (ipykernel)",
   "language": "python",
   "name": "python3"
  },
  "language_info": {
   "codemirror_mode": {
    "name": "ipython",
    "version": 3
   },
   "file_extension": ".py",
   "mimetype": "text/x-python",
   "name": "python",
   "nbconvert_exporter": "python",
   "pygments_lexer": "ipython3",
   "version": "3.10.4"
  }
 },
 "nbformat": 4,
 "nbformat_minor": 5
}
